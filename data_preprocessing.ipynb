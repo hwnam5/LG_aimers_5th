{
 "cells": [
  {
   "cell_type": "code",
   "execution_count": 566,
   "metadata": {},
   "outputs": [],
   "source": [
    "import os\n",
    "from pprint import pprint\n",
    "\n",
    "import numpy as np\n",
    "import pandas as pd\n",
    "from sklearn.ensemble import RandomForestClassifier\n",
    "from sklearn.metrics import (\n",
    "    accuracy_score,\n",
    "    classification_report,\n",
    "    confusion_matrix,\n",
    "    f1_score,\n",
    "    precision_score,\n",
    "    recall_score,\n",
    ")\n",
    "from sklearn.model_selection import train_test_split\n",
    "from tqdm import tqdm"
   ]
  },
  {
   "cell_type": "code",
   "execution_count": 567,
   "metadata": {},
   "outputs": [
    {
     "name": "stdout",
     "output_type": "stream",
     "text": [
      "(40506, 464)\n"
     ]
    }
   ],
   "source": [
    "train_data = pd.read_csv(\"train.csv\")\n",
    "print(train_data.shape)"
   ]
  },
  {
   "cell_type": "code",
   "execution_count": 568,
   "metadata": {},
   "outputs": [
    {
     "name": "stdout",
     "output_type": "stream",
     "text": [
      "278\n"
     ]
    }
   ],
   "source": [
    "empty_columns = train_data.columns[train_data.isna().all()].tolist()\n",
    "print(len(empty_columns))"
   ]
  },
  {
   "cell_type": "code",
   "execution_count": 569,
   "metadata": {},
   "outputs": [
    {
     "data": {
      "text/plain": [
       "(40506, 186)"
      ]
     },
     "execution_count": 569,
     "metadata": {},
     "output_type": "execute_result"
    }
   ],
   "source": [
    "for column in empty_columns:\n",
    "    del train_data[column]\n",
    "train_data.shape"
   ]
  },
  {
   "cell_type": "code",
   "execution_count": 570,
   "metadata": {},
   "outputs": [
    {
     "data": {
      "text/plain": [
       "(40506, 146)"
      ]
     },
     "execution_count": 570,
     "metadata": {},
     "output_type": "execute_result"
    }
   ],
   "source": [
    "for col in train_data.columns:\n",
    "    if train_data[col].nunique() == 1:\n",
    "        del train_data[col]\n",
    "train_data.shape"
   ]
  },
  {
   "cell_type": "code",
   "execution_count": 571,
   "metadata": {},
   "outputs": [
    {
     "data": {
      "text/plain": [
       "(27740, 146)"
      ]
     },
     "execution_count": 571,
     "metadata": {},
     "output_type": "execute_result"
    }
   ],
   "source": [
    "train_data = train_data.dropna()\n",
    "train_data.shape"
   ]
  },
  {
   "cell_type": "code",
   "execution_count": 572,
   "metadata": {},
   "outputs": [
    {
     "name": "stdout",
     "output_type": "stream",
     "text": [
      "  Total: Normal: 26038, AbNormal: 1702\n"
     ]
    },
    {
     "data": {
      "text/plain": [
       "target\n",
       "AbNormal    1702\n",
       "Normal      1702\n",
       "Name: count, dtype: int64"
      ]
     },
     "execution_count": 572,
     "metadata": {},
     "output_type": "execute_result"
    }
   ],
   "source": [
    "# 데이터 분할\n",
    "normal_ratio = 1.0  # 1.0 means 1:1 ratio\n",
    "\n",
    "df_normal = train_data[train_data[\"target\"] == \"Normal\"]\n",
    "df_abnormal = train_data[train_data[\"target\"] == \"AbNormal\"]\n",
    "\n",
    "num_normal = len(df_normal)\n",
    "num_abnormal = len(df_abnormal)\n",
    "print(f\"  Total: Normal: {num_normal}, AbNormal: {num_abnormal}\")\n",
    "\n",
    "df_normal = df_normal.sample(n=int(num_abnormal * normal_ratio), replace=False, random_state=110)\n",
    "df_concat = pd.concat([df_normal, df_abnormal], axis=0).reset_index(drop=True)\n",
    "df_concat.value_counts(\"target\")"
   ]
  },
  {
   "cell_type": "code",
   "execution_count": 573,
   "metadata": {},
   "outputs": [
    {
     "name": "stdout",
     "output_type": "stream",
     "text": [
      "Equipment_Dam\n",
      "Model.Suffix_Dam\n",
      "Workorder_Dam\n",
      "CURE END POSITION X Collect Result_Dam\n",
      "CURE END POSITION Z Collect Result_Dam\n",
      "CURE END POSITION Θ Collect Result_Dam\n",
      "CURE SPEED Collect Result_Dam\n",
      "CURE START POSITION X Collect Result_Dam\n",
      "CURE START POSITION Θ Collect Result_Dam\n",
      "DISCHARGED SPEED OF RESIN Collect Result_Dam\n",
      "DISCHARGED TIME OF RESIN(Stage1) Collect Result_Dam\n",
      "DISCHARGED TIME OF RESIN(Stage2) Collect Result_Dam\n",
      "DISCHARGED TIME OF RESIN(Stage3) Collect Result_Dam\n",
      "Dispense Volume(Stage1) Collect Result_Dam\n",
      "Dispense Volume(Stage2) Collect Result_Dam\n",
      "Dispense Volume(Stage3) Collect Result_Dam\n",
      "HEAD NORMAL COORDINATE X AXIS(Stage1) Collect Result_Dam\n",
      "HEAD NORMAL COORDINATE X AXIS(Stage2) Collect Result_Dam\n",
      "HEAD NORMAL COORDINATE X AXIS(Stage3) Collect Result_Dam\n",
      "HEAD NORMAL COORDINATE Y AXIS(Stage1) Collect Result_Dam\n",
      "HEAD NORMAL COORDINATE Y AXIS(Stage2) Collect Result_Dam\n",
      "HEAD NORMAL COORDINATE Y AXIS(Stage3) Collect Result_Dam\n",
      "HEAD NORMAL COORDINATE Z AXIS(Stage1) Collect Result_Dam\n",
      "HEAD NORMAL COORDINATE Z AXIS(Stage2) Collect Result_Dam\n",
      "HEAD NORMAL COORDINATE Z AXIS(Stage3) Collect Result_Dam\n",
      "HEAD Standby Position X Collect Result_Dam\n",
      "HEAD Standby Position Y Collect Result_Dam\n",
      "HEAD Standby Position Z Collect Result_Dam\n",
      "Head Clean Position X Collect Result_Dam\n",
      "Head Clean Position Y Collect Result_Dam\n",
      "Head Clean Position Z Collect Result_Dam\n",
      "Head Purge Position X Collect Result_Dam\n",
      "Head Purge Position Y Collect Result_Dam\n",
      "Head Purge Position Z Collect Result_Dam\n",
      "Head Zero Position X Collect Result_Dam\n",
      "Head Zero Position Y Collect Result_Dam\n",
      "Head Zero Position Z Collect Result_Dam\n",
      "Machine Tact time Collect Result_Dam\n",
      "PalletID Collect Result_Dam\n",
      "Production Qty Collect Result_Dam\n",
      "Receip No Collect Result_Dam\n",
      "Stage1 Circle1 Distance Speed Collect Result_Dam\n",
      "Stage1 Circle2 Distance Speed Collect Result_Dam\n",
      "Stage1 Circle3 Distance Speed Collect Result_Dam\n",
      "Stage1 Circle4 Distance Speed Collect Result_Dam\n",
      "Stage1 Line1 Distance Speed Collect Result_Dam\n",
      "Stage1 Line2 Distance Speed Collect Result_Dam\n",
      "Stage1 Line3 Distance Speed Collect Result_Dam\n",
      "Stage1 Line4 Distance Speed Collect Result_Dam\n",
      "Stage2 Circle1 Distance Speed Collect Result_Dam\n",
      "Stage2 Circle2 Distance Speed Collect Result_Dam\n",
      "Stage2 Circle3 Distance Speed Collect Result_Dam\n",
      "Stage2 Circle4 Distance Speed Collect Result_Dam\n",
      "Stage2 Line1 Distance Speed Collect Result_Dam\n",
      "Stage2 Line2 Distance Speed Collect Result_Dam\n",
      "Stage2 Line3 Distance Speed Collect Result_Dam\n",
      "Stage2 Line4 Distance Speed Collect Result_Dam\n",
      "Stage3 Circle1 Distance Speed Collect Result_Dam\n",
      "Stage3 Circle2 Distance Speed Collect Result_Dam\n",
      "Stage3 Circle3 Distance Speed Collect Result_Dam\n",
      "Stage3 Circle4 Distance Speed Collect Result_Dam\n",
      "Stage3 Line1 Distance Speed Collect Result_Dam\n",
      "Stage3 Line2 Distance Speed Collect Result_Dam\n",
      "Stage3 Line3 Distance Speed Collect Result_Dam\n",
      "Stage3 Line4 Distance Speed Collect Result_Dam\n",
      "THICKNESS 1 Collect Result_Dam\n",
      "THICKNESS 2 Collect Result_Dam\n",
      "THICKNESS 3 Collect Result_Dam\n",
      "WorkMode Collect Result_Dam\n",
      "Model.Suffix_AutoClave\n",
      "Workorder_AutoClave\n",
      "1st Pressure Collect Result_AutoClave\n",
      "1st Pressure 1st Pressure Unit Time_AutoClave\n",
      "2nd Pressure Collect Result_AutoClave\n",
      "2nd Pressure Unit Time_AutoClave\n",
      "3rd Pressure Collect Result_AutoClave\n",
      "3rd Pressure Unit Time_AutoClave\n",
      "Chamber Temp. Collect Result_AutoClave\n",
      "Chamber Temp. Unit Time_AutoClave\n",
      "Chamber Temp. Judge Value_AutoClave\n",
      "Equipment_Fill1\n",
      "Model.Suffix_Fill1\n",
      "Workorder_Fill1\n",
      "DISCHARGED SPEED OF RESIN Collect Result_Fill1\n",
      "DISCHARGED TIME OF RESIN(Stage1) Collect Result_Fill1\n",
      "DISCHARGED TIME OF RESIN(Stage2) Collect Result_Fill1\n",
      "DISCHARGED TIME OF RESIN(Stage3) Collect Result_Fill1\n",
      "Dispense Volume(Stage1) Collect Result_Fill1\n",
      "Dispense Volume(Stage2) Collect Result_Fill1\n",
      "Dispense Volume(Stage3) Collect Result_Fill1\n",
      "HEAD NORMAL COORDINATE X AXIS(Stage1) Collect Result_Fill1\n",
      "HEAD NORMAL COORDINATE X AXIS(Stage2) Collect Result_Fill1\n",
      "HEAD NORMAL COORDINATE X AXIS(Stage3) Collect Result_Fill1\n",
      "HEAD NORMAL COORDINATE Y AXIS(Stage1) Collect Result_Fill1\n",
      "HEAD NORMAL COORDINATE Y AXIS(Stage2) Collect Result_Fill1\n",
      "HEAD NORMAL COORDINATE Y AXIS(Stage3) Collect Result_Fill1\n",
      "HEAD NORMAL COORDINATE Z AXIS(Stage1) Collect Result_Fill1\n",
      "HEAD NORMAL COORDINATE Z AXIS(Stage2) Collect Result_Fill1\n",
      "HEAD NORMAL COORDINATE Z AXIS(Stage3) Collect Result_Fill1\n",
      "HEAD Standby Position X Collect Result_Fill1\n",
      "HEAD Standby Position Y Collect Result_Fill1\n",
      "HEAD Standby Position Z Collect Result_Fill1\n",
      "Head Clean Position X Collect Result_Fill1\n",
      "Head Clean Position Y Collect Result_Fill1\n",
      "Head Clean Position Z Collect Result_Fill1\n",
      "Head Purge Position X Collect Result_Fill1\n",
      "Head Purge Position Y Collect Result_Fill1\n",
      "Head Purge Position Z Collect Result_Fill1\n",
      "Machine Tact time Collect Result_Fill1\n",
      "PalletID Collect Result_Fill1\n",
      "Production Qty Collect Result_Fill1\n",
      "Receip No Collect Result_Fill1\n",
      "WorkMode Collect Result_Fill1\n",
      "Equipment_Fill2\n",
      "Model.Suffix_Fill2\n",
      "Workorder_Fill2\n",
      "CURE END POSITION X Collect Result_Fill2\n",
      "CURE END POSITION Z Collect Result_Fill2\n",
      "CURE SPEED Collect Result_Fill2\n",
      "CURE STANDBY POSITION Z Collect Result_Fill2\n",
      "CURE START POSITION X Collect Result_Fill2\n",
      "CURE START POSITION Z Collect Result_Fill2\n",
      "HEAD NORMAL COORDINATE X AXIS(Stage1) Collect Result_Fill2\n",
      "HEAD NORMAL COORDINATE X AXIS(Stage2) Collect Result_Fill2\n",
      "HEAD NORMAL COORDINATE X AXIS(Stage3) Collect Result_Fill2\n",
      "HEAD NORMAL COORDINATE Y AXIS(Stage1) Collect Result_Fill2\n",
      "HEAD NORMAL COORDINATE Y AXIS(Stage2) Collect Result_Fill2\n",
      "HEAD NORMAL COORDINATE Y AXIS(Stage3) Collect Result_Fill2\n",
      "HEAD NORMAL COORDINATE Z AXIS(Stage1) Collect Result_Fill2\n",
      "HEAD NORMAL COORDINATE Z AXIS(Stage2) Collect Result_Fill2\n",
      "HEAD NORMAL COORDINATE Z AXIS(Stage3) Collect Result_Fill2\n",
      "HEAD Standby Position X Collect Result_Fill2\n",
      "HEAD Standby Position Y Collect Result_Fill2\n",
      "HEAD Standby Position Z Collect Result_Fill2\n",
      "Head Clean Position X Collect Result_Fill2\n",
      "Head Clean Position Y Collect Result_Fill2\n",
      "Head Clean Position Z Collect Result_Fill2\n",
      "Head Purge Position X Collect Result_Fill2\n",
      "Head Purge Position Y Collect Result_Fill2\n",
      "Head Purge Position Z Collect Result_Fill2\n",
      "Machine Tact time Collect Result_Fill2\n",
      "PalletID Collect Result_Fill2\n",
      "Production Qty Collect Result_Fill2\n",
      "Receip No Collect Result_Fill2\n",
      "WorkMode Collect Result_Fill2\n",
      "target\n"
     ]
    }
   ],
   "source": [
    "for col in df_concat.columns:\n",
    "    print(col)"
   ]
  },
  {
   "cell_type": "code",
   "execution_count": 574,
   "metadata": {},
   "outputs": [],
   "source": [
    "test_data = pd.read_csv(\"test.csv\")\n",
    "test_data = test_data[df_concat.columns]"
   ]
  },
  {
   "cell_type": "code",
   "execution_count": 575,
   "metadata": {},
   "outputs": [
    {
     "name": "stdout",
     "output_type": "stream",
     "text": [
      "Equipment_Dam                                 0\n",
      "Model.Suffix_Dam                              0\n",
      "Workorder_Dam                                 0\n",
      "CURE END POSITION X Collect Result_Dam        0\n",
      "CURE END POSITION Z Collect Result_Dam        0\n",
      "                                          ...  \n",
      "PalletID Collect Result_Fill2                 0\n",
      "Production Qty Collect Result_Fill2           0\n",
      "Receip No Collect Result_Fill2                0\n",
      "WorkMode Collect Result_Fill2                 0\n",
      "target                                    17361\n",
      "Length: 146, dtype: int64\n"
     ]
    }
   ],
   "source": [
    "print(test_data.isnull().sum())"
   ]
  },
  {
   "cell_type": "code",
   "execution_count": 576,
   "metadata": {},
   "outputs": [],
   "source": [
    "# null 값이 있는 열 제거 target 열은 제거하지 않음\n",
    "for col in test_data.columns:\n",
    "    if test_data[col].isnull().sum() > 0 and col != \"target\":\n",
    "        del test_data[col]\n",
    "        del df_concat[col]"
   ]
  },
  {
   "cell_type": "code",
   "execution_count": 577,
   "metadata": {},
   "outputs": [
    {
     "name": "stdout",
     "output_type": "stream",
     "text": [
      "Equipment_Dam\n",
      "Model.Suffix_Dam\n",
      "Workorder_Dam\n",
      "CURE END POSITION X Collect Result_Dam\n",
      "CURE END POSITION Z Collect Result_Dam\n",
      "CURE END POSITION Θ Collect Result_Dam\n",
      "CURE SPEED Collect Result_Dam\n",
      "CURE START POSITION X Collect Result_Dam\n",
      "CURE START POSITION Θ Collect Result_Dam\n",
      "DISCHARGED SPEED OF RESIN Collect Result_Dam\n",
      "DISCHARGED TIME OF RESIN(Stage1) Collect Result_Dam\n",
      "DISCHARGED TIME OF RESIN(Stage2) Collect Result_Dam\n",
      "DISCHARGED TIME OF RESIN(Stage3) Collect Result_Dam\n",
      "Dispense Volume(Stage1) Collect Result_Dam\n",
      "Dispense Volume(Stage2) Collect Result_Dam\n",
      "Dispense Volume(Stage3) Collect Result_Dam\n",
      "HEAD NORMAL COORDINATE X AXIS(Stage2) Collect Result_Dam\n",
      "HEAD NORMAL COORDINATE X AXIS(Stage3) Collect Result_Dam\n",
      "HEAD NORMAL COORDINATE Y AXIS(Stage1) Collect Result_Dam\n",
      "HEAD NORMAL COORDINATE Y AXIS(Stage2) Collect Result_Dam\n",
      "HEAD NORMAL COORDINATE Y AXIS(Stage3) Collect Result_Dam\n",
      "HEAD NORMAL COORDINATE Z AXIS(Stage1) Collect Result_Dam\n",
      "HEAD NORMAL COORDINATE Z AXIS(Stage2) Collect Result_Dam\n",
      "HEAD NORMAL COORDINATE Z AXIS(Stage3) Collect Result_Dam\n",
      "HEAD Standby Position X Collect Result_Dam\n",
      "HEAD Standby Position Y Collect Result_Dam\n",
      "HEAD Standby Position Z Collect Result_Dam\n",
      "Head Clean Position X Collect Result_Dam\n",
      "Head Clean Position Y Collect Result_Dam\n",
      "Head Clean Position Z Collect Result_Dam\n",
      "Head Purge Position X Collect Result_Dam\n",
      "Head Purge Position Y Collect Result_Dam\n",
      "Head Purge Position Z Collect Result_Dam\n",
      "Head Zero Position X Collect Result_Dam\n",
      "Head Zero Position Y Collect Result_Dam\n",
      "Head Zero Position Z Collect Result_Dam\n",
      "Machine Tact time Collect Result_Dam\n",
      "PalletID Collect Result_Dam\n",
      "Production Qty Collect Result_Dam\n",
      "Receip No Collect Result_Dam\n",
      "Stage1 Circle1 Distance Speed Collect Result_Dam\n",
      "Stage1 Circle2 Distance Speed Collect Result_Dam\n",
      "Stage1 Circle3 Distance Speed Collect Result_Dam\n",
      "Stage1 Circle4 Distance Speed Collect Result_Dam\n",
      "Stage1 Line1 Distance Speed Collect Result_Dam\n",
      "Stage1 Line2 Distance Speed Collect Result_Dam\n",
      "Stage1 Line3 Distance Speed Collect Result_Dam\n",
      "Stage1 Line4 Distance Speed Collect Result_Dam\n",
      "Stage2 Circle1 Distance Speed Collect Result_Dam\n",
      "Stage2 Circle2 Distance Speed Collect Result_Dam\n",
      "Stage2 Circle3 Distance Speed Collect Result_Dam\n",
      "Stage2 Circle4 Distance Speed Collect Result_Dam\n",
      "Stage2 Line1 Distance Speed Collect Result_Dam\n",
      "Stage2 Line2 Distance Speed Collect Result_Dam\n",
      "Stage2 Line3 Distance Speed Collect Result_Dam\n",
      "Stage2 Line4 Distance Speed Collect Result_Dam\n",
      "Stage3 Circle1 Distance Speed Collect Result_Dam\n",
      "Stage3 Circle2 Distance Speed Collect Result_Dam\n",
      "Stage3 Circle3 Distance Speed Collect Result_Dam\n",
      "Stage3 Circle4 Distance Speed Collect Result_Dam\n",
      "Stage3 Line1 Distance Speed Collect Result_Dam\n",
      "Stage3 Line2 Distance Speed Collect Result_Dam\n",
      "Stage3 Line3 Distance Speed Collect Result_Dam\n",
      "Stage3 Line4 Distance Speed Collect Result_Dam\n",
      "THICKNESS 1 Collect Result_Dam\n",
      "THICKNESS 2 Collect Result_Dam\n",
      "THICKNESS 3 Collect Result_Dam\n",
      "WorkMode Collect Result_Dam\n",
      "Model.Suffix_AutoClave\n",
      "Workorder_AutoClave\n",
      "1st Pressure Collect Result_AutoClave\n",
      "1st Pressure 1st Pressure Unit Time_AutoClave\n",
      "2nd Pressure Collect Result_AutoClave\n",
      "2nd Pressure Unit Time_AutoClave\n",
      "3rd Pressure Collect Result_AutoClave\n",
      "3rd Pressure Unit Time_AutoClave\n",
      "Chamber Temp. Collect Result_AutoClave\n",
      "Chamber Temp. Unit Time_AutoClave\n",
      "Chamber Temp. Judge Value_AutoClave\n",
      "Equipment_Fill1\n",
      "Model.Suffix_Fill1\n",
      "Workorder_Fill1\n",
      "DISCHARGED SPEED OF RESIN Collect Result_Fill1\n",
      "DISCHARGED TIME OF RESIN(Stage1) Collect Result_Fill1\n",
      "DISCHARGED TIME OF RESIN(Stage2) Collect Result_Fill1\n",
      "DISCHARGED TIME OF RESIN(Stage3) Collect Result_Fill1\n",
      "Dispense Volume(Stage1) Collect Result_Fill1\n",
      "Dispense Volume(Stage2) Collect Result_Fill1\n",
      "Dispense Volume(Stage3) Collect Result_Fill1\n",
      "HEAD NORMAL COORDINATE X AXIS(Stage2) Collect Result_Fill1\n",
      "HEAD NORMAL COORDINATE X AXIS(Stage3) Collect Result_Fill1\n",
      "HEAD NORMAL COORDINATE Y AXIS(Stage1) Collect Result_Fill1\n",
      "HEAD NORMAL COORDINATE Y AXIS(Stage2) Collect Result_Fill1\n",
      "HEAD NORMAL COORDINATE Y AXIS(Stage3) Collect Result_Fill1\n",
      "HEAD NORMAL COORDINATE Z AXIS(Stage1) Collect Result_Fill1\n",
      "HEAD NORMAL COORDINATE Z AXIS(Stage2) Collect Result_Fill1\n",
      "HEAD NORMAL COORDINATE Z AXIS(Stage3) Collect Result_Fill1\n",
      "HEAD Standby Position X Collect Result_Fill1\n",
      "HEAD Standby Position Y Collect Result_Fill1\n",
      "HEAD Standby Position Z Collect Result_Fill1\n",
      "Head Clean Position X Collect Result_Fill1\n",
      "Head Clean Position Y Collect Result_Fill1\n",
      "Head Clean Position Z Collect Result_Fill1\n",
      "Head Purge Position X Collect Result_Fill1\n",
      "Head Purge Position Y Collect Result_Fill1\n",
      "Head Purge Position Z Collect Result_Fill1\n",
      "Machine Tact time Collect Result_Fill1\n",
      "PalletID Collect Result_Fill1\n",
      "Production Qty Collect Result_Fill1\n",
      "Receip No Collect Result_Fill1\n",
      "WorkMode Collect Result_Fill1\n",
      "Equipment_Fill2\n",
      "Model.Suffix_Fill2\n",
      "Workorder_Fill2\n",
      "CURE END POSITION X Collect Result_Fill2\n",
      "CURE END POSITION Z Collect Result_Fill2\n",
      "CURE SPEED Collect Result_Fill2\n",
      "CURE STANDBY POSITION Z Collect Result_Fill2\n",
      "CURE START POSITION X Collect Result_Fill2\n",
      "CURE START POSITION Z Collect Result_Fill2\n",
      "HEAD NORMAL COORDINATE X AXIS(Stage2) Collect Result_Fill2\n",
      "HEAD NORMAL COORDINATE X AXIS(Stage3) Collect Result_Fill2\n",
      "HEAD NORMAL COORDINATE Y AXIS(Stage1) Collect Result_Fill2\n",
      "HEAD NORMAL COORDINATE Y AXIS(Stage2) Collect Result_Fill2\n",
      "HEAD NORMAL COORDINATE Y AXIS(Stage3) Collect Result_Fill2\n",
      "HEAD NORMAL COORDINATE Z AXIS(Stage1) Collect Result_Fill2\n",
      "HEAD NORMAL COORDINATE Z AXIS(Stage2) Collect Result_Fill2\n",
      "HEAD NORMAL COORDINATE Z AXIS(Stage3) Collect Result_Fill2\n",
      "HEAD Standby Position X Collect Result_Fill2\n",
      "HEAD Standby Position Y Collect Result_Fill2\n",
      "HEAD Standby Position Z Collect Result_Fill2\n",
      "Head Clean Position X Collect Result_Fill2\n",
      "Head Clean Position Y Collect Result_Fill2\n",
      "Head Clean Position Z Collect Result_Fill2\n",
      "Head Purge Position X Collect Result_Fill2\n",
      "Head Purge Position Y Collect Result_Fill2\n",
      "Head Purge Position Z Collect Result_Fill2\n",
      "Machine Tact time Collect Result_Fill2\n",
      "PalletID Collect Result_Fill2\n",
      "Production Qty Collect Result_Fill2\n",
      "Receip No Collect Result_Fill2\n",
      "WorkMode Collect Result_Fill2\n",
      "target\n",
      "(3404, 143)\n"
     ]
    }
   ],
   "source": [
    "for col in df_concat.columns:\n",
    "    print(col)\n",
    "print(df_concat.shape)"
   ]
  },
  {
   "cell_type": "markdown",
   "metadata": {},
   "source": [
    "# 데이터 전처리"
   ]
  },
  {
   "cell_type": "code",
   "execution_count": 578,
   "metadata": {},
   "outputs": [],
   "source": [
    "df_concat[\"target\"] = df_concat[\"target\"].map({\"Normal\": 0, \"AbNormal\": 1})"
   ]
  },
  {
   "cell_type": "code",
   "execution_count": 579,
   "metadata": {},
   "outputs": [
    {
     "name": "stdout",
     "output_type": "stream",
     "text": [
      "Equipment_Dam\n",
      "Dam dispenser #1    0.513308\n",
      "Dam dispenser #2    0.469624\n",
      "Name: target, dtype: float64\n"
     ]
    }
   ],
   "source": [
    "# 1.Equipment_Dam\n",
    "target_ratio = df_concat.groupby(\"Equipment_Dam\")[\"target\"].mean()\n",
    "print(target_ratio)"
   ]
  },
  {
   "cell_type": "code",
   "execution_count": 580,
   "metadata": {},
   "outputs": [
    {
     "data": {
      "text/plain": [
       "Equipment_Dam_weight\n",
       "0.513308    2367\n",
       "0.469624    1037\n",
       "Name: count, dtype: int64"
      ]
     },
     "execution_count": 580,
     "metadata": {},
     "output_type": "execute_result"
    }
   ],
   "source": [
    "# 가중치 부여\n",
    "df_concat[\"Equipment_Dam_weight\"] = df_concat[\"Equipment_Dam\"].map(target_ratio)\n",
    "#df_concat[\"Equipment_Dam_weight\"]\n",
    "df_concat[\"Equipment_Dam_weight\"].value_counts()\n"
   ]
  },
  {
   "cell_type": "code",
   "execution_count": 581,
   "metadata": {},
   "outputs": [
    {
     "data": {
      "text/plain": [
       "Equipment_Dam_weight\n",
       "0.513308    10734\n",
       "0.469624     6627\n",
       "Name: count, dtype: int64"
      ]
     },
     "execution_count": 581,
     "metadata": {},
     "output_type": "execute_result"
    }
   ],
   "source": [
    "test_data[\"Equipment_Dam_weight\"] = test_data[\"Equipment_Dam\"].map(target_ratio)\n",
    "test_data[\"Equipment_Dam_weight\"].value_counts()"
   ]
  },
  {
   "cell_type": "code",
   "execution_count": 582,
   "metadata": {},
   "outputs": [
    {
     "name": "stdout",
     "output_type": "stream",
     "text": [
      "0\n"
     ]
    }
   ],
   "source": [
    "# nan 값 있는지 확인\n",
    "print(test_data[\"Equipment_Dam_weight\"].isnull().sum())"
   ]
  },
  {
   "cell_type": "code",
   "execution_count": 583,
   "metadata": {},
   "outputs": [
    {
     "name": "stdout",
     "output_type": "stream",
     "text": [
      "Model.Suffix_Dam\n",
      "AJX75334501    0.497020\n",
      "AJX75334502    0.543909\n",
      "AJX75334503    0.000000\n",
      "AJX75334505    0.200000\n",
      "AJX75334507    0.444444\n",
      "AJX75334508    0.333333\n",
      "Name: target, dtype: float64\n"
     ]
    }
   ],
   "source": [
    "# 2. Model.Suffix_Dam\n",
    "target_ratio = df_concat.groupby(\"Model.Suffix_Dam\")[\"target\"].mean()\n",
    "print(target_ratio)"
   ]
  },
  {
   "cell_type": "code",
   "execution_count": 584,
   "metadata": {},
   "outputs": [
    {
     "data": {
      "text/plain": [
       "Model.Suffix_Dam_weight\n",
       "0.497020    3020\n",
       "0.543909     353\n",
       "0.200000      15\n",
       "0.444444       9\n",
       "0.333333       6\n",
       "0.000000       1\n",
       "Name: count, dtype: int64"
      ]
     },
     "execution_count": 584,
     "metadata": {},
     "output_type": "execute_result"
    }
   ],
   "source": [
    "df_concat[\"Model.Suffix_Dam_weight\"] = df_concat[\"Model.Suffix_Dam\"].map(target_ratio)\n",
    "df_concat[\"Model.Suffix_Dam_weight\"].value_counts()"
   ]
  },
  {
   "cell_type": "code",
   "execution_count": 585,
   "metadata": {},
   "outputs": [
    {
     "data": {
      "text/plain": [
       "Model.Suffix_Dam_weight\n",
       "0.497020    14495\n",
       "0.543909     1405\n",
       "0.200000     1189\n",
       "0.444444      137\n",
       "0.000000       66\n",
       "0.333333       28\n",
       "Name: count, dtype: int64"
      ]
     },
     "execution_count": 585,
     "metadata": {},
     "output_type": "execute_result"
    }
   ],
   "source": [
    "test_data[\"Model.Suffix_Dam_weight\"] = test_data[\"Model.Suffix_Dam\"].map(target_ratio)\n",
    "test_data[\"Model.Suffix_Dam_weight\"].value_counts()"
   ]
  },
  {
   "cell_type": "code",
   "execution_count": 586,
   "metadata": {},
   "outputs": [
    {
     "name": "stdout",
     "output_type": "stream",
     "text": [
      "41\n"
     ]
    }
   ],
   "source": [
    "print(test_data[\"Model.Suffix_Dam_weight\"].isnull().sum())"
   ]
  },
  {
   "cell_type": "code",
   "execution_count": 587,
   "metadata": {},
   "outputs": [
    {
     "name": "stderr",
     "output_type": "stream",
     "text": [
      "C:\\Users\\hwnam\\AppData\\Local\\Temp\\ipykernel_21144\\2986813498.py:3: FutureWarning: A value is trying to be set on a copy of a DataFrame or Series through chained assignment using an inplace method.\n",
      "The behavior will change in pandas 3.0. This inplace method will never work because the intermediate object on which we are setting values always behaves as a copy.\n",
      "\n",
      "For example, when doing 'df[col].method(value, inplace=True)', try using 'df.method({col: value}, inplace=True)' or df[col] = df[col].method(value) instead, to perform the operation inplace on the original object.\n",
      "\n",
      "\n",
      "  test_data[\"Model.Suffix_Dam_weight\"].fillna(mode_value, inplace=True)\n"
     ]
    }
   ],
   "source": [
    "# 최빈값으로 결측치 처리\n",
    "mode_value = df_concat[\"Model.Suffix_Dam_weight\"].mode()[0]\n",
    "test_data[\"Model.Suffix_Dam_weight\"].fillna(mode_value, inplace=True)"
   ]
  },
  {
   "cell_type": "code",
   "execution_count": 588,
   "metadata": {},
   "outputs": [
    {
     "name": "stdout",
     "output_type": "stream",
     "text": [
      "Workorder_Dam\n",
      "3F1X5847-2    0.857143\n",
      "3F1X9643-1    0.500000\n",
      "3F1X9644-1    0.615385\n",
      "3F1X9648-1    0.555556\n",
      "3F1X9648-2    0.250000\n",
      "                ...   \n",
      "4E1X0057-1    0.400000\n",
      "4E1X9167-1    0.125000\n",
      "4E1X9168-1    0.500000\n",
      "4E1X9169-1    0.500000\n",
      "4E1X9170-1    0.600000\n",
      "Name: target, Length: 421, dtype: float64\n"
     ]
    }
   ],
   "source": [
    "# 3. Workorder_Da\n",
    "target_ratio = df_concat.groupby(\"Workorder_Dam\")[\"target\"].mean()\n",
    "print(target_ratio)"
   ]
  },
  {
   "cell_type": "code",
   "execution_count": 589,
   "metadata": {},
   "outputs": [
    {
     "data": {
      "text/plain": [
       "Workorder_Dam_weight\n",
       "0.500000    282\n",
       "0.000000    178\n",
       "0.400000    155\n",
       "0.333333    144\n",
       "0.600000    125\n",
       "           ... \n",
       "0.230769     13\n",
       "0.846154     13\n",
       "0.636364     11\n",
       "0.909091     11\n",
       "0.272727     11\n",
       "Name: count, Length: 81, dtype: int64"
      ]
     },
     "execution_count": 589,
     "metadata": {},
     "output_type": "execute_result"
    }
   ],
   "source": [
    "df_concat[\"Workorder_Dam_weight\"] = df_concat[\"Workorder_Dam\"].map(target_ratio)\n",
    "df_concat[\"Workorder_Dam_weight\"].value_counts()"
   ]
  },
  {
   "cell_type": "code",
   "execution_count": 590,
   "metadata": {},
   "outputs": [
    {
     "data": {
      "text/plain": [
       "Workorder_Dam_weight\n",
       "0.500000    1270\n",
       "0.000000    1087\n",
       "0.400000     637\n",
       "0.333333     594\n",
       "0.250000     520\n",
       "            ... \n",
       "0.722222      27\n",
       "0.807692      23\n",
       "0.230769      22\n",
       "0.636364      21\n",
       "0.909091      19\n",
       "Name: count, Length: 81, dtype: int64"
      ]
     },
     "execution_count": 590,
     "metadata": {},
     "output_type": "execute_result"
    }
   ],
   "source": [
    "test_data[\"Workorder_Dam_weight\"] = test_data[\"Workorder_Dam\"].map(target_ratio)\n",
    "test_data[\"Workorder_Dam_weight\"].value_counts()"
   ]
  },
  {
   "cell_type": "code",
   "execution_count": 591,
   "metadata": {},
   "outputs": [
    {
     "name": "stdout",
     "output_type": "stream",
     "text": [
      "5669\n"
     ]
    }
   ],
   "source": [
    "print(test_data[\"Workorder_Dam_weight\"].isnull().sum())"
   ]
  },
  {
   "cell_type": "code",
   "execution_count": 592,
   "metadata": {},
   "outputs": [],
   "source": [
    "del df_concat[\"Workorder_Dam\"]\n",
    "del df_concat[\"Model.Suffix_Dam\"]\n",
    "del test_data[\"Workorder_Dam\"]\n",
    "del test_data[\"Model.Suffix_Dam\"]"
   ]
  },
  {
   "cell_type": "code",
   "execution_count": 593,
   "metadata": {},
   "outputs": [
    {
     "name": "stdout",
     "output_type": "stream",
     "text": [
      "CURE END POSITION X Collect Result_Dam\n",
      "240.0     0.513308\n",
      "1000.0    0.469624\n",
      "Name: target, dtype: float64\n"
     ]
    }
   ],
   "source": [
    "# 4. CURE END POSITION X Collect Result_Dam\n",
    "target_ratio = df_concat.groupby(\"CURE END POSITION X Collect Result_Dam\")[\"target\"].mean()\n",
    "print(target_ratio)"
   ]
  },
  {
   "cell_type": "code",
   "execution_count": 594,
   "metadata": {},
   "outputs": [
    {
     "name": "stdout",
     "output_type": "stream",
     "text": [
      "(3404, 143)\n"
     ]
    }
   ],
   "source": [
    "# 1번과 동일한 값이므로 삭제\n",
    "del df_concat[\"CURE END POSITION X Collect Result_Dam\"]\n",
    "print(df_concat.shape)"
   ]
  },
  {
   "cell_type": "code",
   "execution_count": 595,
   "metadata": {},
   "outputs": [
    {
     "name": "stdout",
     "output_type": "stream",
     "text": [
      "CURE END POSITION Z Collect Result_Dam\n",
      "2.5     0.513308\n",
      "12.5    0.469624\n",
      "Name: target, dtype: float64\n"
     ]
    }
   ],
   "source": [
    "# 5. CURE END POSITION Z Collect Result_Dam\n",
    "target_ratio = df_concat.groupby(\"CURE END POSITION Z Collect Result_Dam\")[\"target\"].mean()\n",
    "\n",
    "print(target_ratio)"
   ]
  },
  {
   "cell_type": "code",
   "execution_count": 596,
   "metadata": {},
   "outputs": [
    {
     "name": "stdout",
     "output_type": "stream",
     "text": [
      "(3404, 142)\n"
     ]
    }
   ],
   "source": [
    "# 1번과 동일한 값이므로 삭제\n",
    "del df_concat[\"CURE END POSITION Z Collect Result_Dam\"]\n",
    "print(df_concat.shape)"
   ]
  },
  {
   "cell_type": "code",
   "execution_count": 597,
   "metadata": {},
   "outputs": [
    {
     "name": "stdout",
     "output_type": "stream",
     "text": [
      "CURE END POSITION Θ Collect Result_Dam\n",
      "-90    0.513308\n",
      " 90    0.469624\n",
      "Name: target, dtype: float64\n"
     ]
    }
   ],
   "source": [
    "# 6. CURE END POSITION Θ Collect Result_Dam\n",
    "target_ratio = df_concat.groupby(\"CURE END POSITION Θ Collect Result_Dam\")[\"target\"].mean()\n",
    "print(target_ratio)"
   ]
  },
  {
   "cell_type": "code",
   "execution_count": 598,
   "metadata": {},
   "outputs": [
    {
     "name": "stdout",
     "output_type": "stream",
     "text": [
      "(3404, 141)\n"
     ]
    }
   ],
   "source": [
    "# 1버과 동일한 값이므로 삭제\n",
    "del df_concat[\"CURE END POSITION Θ Collect Result_Dam\"]\n",
    "print(df_concat.shape)"
   ]
  },
  {
   "cell_type": "code",
   "execution_count": 599,
   "metadata": {},
   "outputs": [
    {
     "name": "stdout",
     "output_type": "stream",
     "text": [
      "CURE SPEED Collect Result_Dam\n",
      "70     0.507211\n",
      "85     0.282051\n",
      "95     0.250000\n",
      "100    0.338710\n",
      "105    0.464286\n",
      "Name: target, dtype: float64\n"
     ]
    }
   ],
   "source": [
    "# 7.CURE SPEED Collect Result_Dam\n",
    "target_ratio = df_concat.groupby(\"CURE SPEED Collect Result_Dam\")[\"target\"].mean()\n",
    "print(target_ratio)"
   ]
  },
  {
   "cell_type": "code",
   "execution_count": 600,
   "metadata": {},
   "outputs": [
    {
     "data": {
      "text/plain": [
       "CURE SPEED Collect Result_Dam_weight\n",
       "0.507211    3259\n",
       "0.338710      62\n",
       "0.282051      39\n",
       "0.464286      28\n",
       "0.250000      16\n",
       "Name: count, dtype: int64"
      ]
     },
     "execution_count": 600,
     "metadata": {},
     "output_type": "execute_result"
    }
   ],
   "source": [
    "df_concat[\"CURE SPEED Collect Result_Dam_weight\"] = df_concat[\"CURE SPEED Collect Result_Dam\"].map(target_ratio)\n",
    "df_concat[\"CURE SPEED Collect Result_Dam_weight\"].value_counts()"
   ]
  },
  {
   "cell_type": "code",
   "execution_count": 601,
   "metadata": {},
   "outputs": [
    {
     "data": {
      "text/plain": [
       "CURE SPEED Collect Result_Dam_weight\n",
       "0.507211    14677\n",
       "0.282051      974\n",
       "0.338710      942\n",
       "0.464286      687\n",
       "0.250000       81\n",
       "Name: count, dtype: int64"
      ]
     },
     "execution_count": 601,
     "metadata": {},
     "output_type": "execute_result"
    }
   ],
   "source": [
    "test_data[\"CURE SPEED Collect Result_Dam_weight\"] = test_data[\"CURE SPEED Collect Result_Dam\"].map(target_ratio)\n",
    "test_data[\"CURE SPEED Collect Result_Dam_weight\"].value_counts()"
   ]
  },
  {
   "cell_type": "code",
   "execution_count": 602,
   "metadata": {},
   "outputs": [
    {
     "name": "stdout",
     "output_type": "stream",
     "text": [
      "0\n"
     ]
    }
   ],
   "source": [
    "print(test_data[\"CURE SPEED Collect Result_Dam_weight\"].isnull().sum())"
   ]
  },
  {
   "cell_type": "code",
   "execution_count": 603,
   "metadata": {},
   "outputs": [
    {
     "name": "stdout",
     "output_type": "stream",
     "text": [
      "CURE START POSITION X Collect Result_Dam\n",
      "280     0.469624\n",
      "1030    0.513308\n",
      "Name: target, dtype: float64\n"
     ]
    }
   ],
   "source": [
    "# 8. CURE START POSITION X Collect Result_Dam\n",
    "target_ratio = df_concat.groupby(\"CURE START POSITION X Collect Result_Dam\")[\"target\"].mean()\n",
    "print(target_ratio)"
   ]
  },
  {
   "cell_type": "code",
   "execution_count": 604,
   "metadata": {},
   "outputs": [
    {
     "name": "stdout",
     "output_type": "stream",
     "text": [
      "(3404, 141)\n"
     ]
    }
   ],
   "source": [
    "# 1번과 동일한 값이므로 삭제\n",
    "del df_concat[\"CURE START POSITION X Collect Result_Dam\"]\n",
    "print(df_concat.shape)"
   ]
  },
  {
   "cell_type": "code",
   "execution_count": 605,
   "metadata": {},
   "outputs": [
    {
     "name": "stdout",
     "output_type": "stream",
     "text": [
      "CURE START POSITION Θ Collect Result_Dam\n",
      "-90    0.513308\n",
      " 90    0.469624\n",
      "Name: target, dtype: float64\n"
     ]
    }
   ],
   "source": [
    "# 9. CURE START POSITION Θ Collect Result_Dam\n",
    "target_ratio = df_concat.groupby(\"CURE START POSITION Θ Collect Result_Dam\")[\"target\"].mean()\n",
    "print(target_ratio)"
   ]
  },
  {
   "cell_type": "code",
   "execution_count": 606,
   "metadata": {},
   "outputs": [
    {
     "name": "stdout",
     "output_type": "stream",
     "text": [
      "(3404, 140)\n"
     ]
    }
   ],
   "source": [
    "# 1번과 동일한 값이므로 삭제\n",
    "del df_concat[\"CURE START POSITION Θ Collect Result_Dam\"]\n",
    "print(df_concat.shape)"
   ]
  },
  {
   "cell_type": "code",
   "execution_count": 607,
   "metadata": {},
   "outputs": [
    {
     "name": "stdout",
     "output_type": "stream",
     "text": [
      "DISCHARGED SPEED OF RESIN Collect Result_Dam\n",
      "10    0.547187\n",
      "16    0.413333\n",
      "Name: target, dtype: float64\n"
     ]
    }
   ],
   "source": [
    "# 10. DISCHARGED SPEED OF RESIN Collect Result_Dam\n",
    "target_ratio = df_concat.groupby(\"DISCHARGED SPEED OF RESIN Collect Result_Dam\")[\"target\"].mean()\n",
    "print(target_ratio)"
   ]
  },
  {
   "cell_type": "code",
   "execution_count": 608,
   "metadata": {},
   "outputs": [
    {
     "data": {
      "text/plain": [
       "DISCHARGED SPEED OF RESIN Collect Result_Dam_weight\n",
       "0.547187    2204\n",
       "0.413333    1200\n",
       "Name: count, dtype: int64"
      ]
     },
     "execution_count": 608,
     "metadata": {},
     "output_type": "execute_result"
    }
   ],
   "source": [
    "df_concat[\"DISCHARGED SPEED OF RESIN Collect Result_Dam_weight\"] = df_concat[\"DISCHARGED SPEED OF RESIN Collect Result_Dam\"].map(target_ratio)\n",
    "df_concat[\"DISCHARGED SPEED OF RESIN Collect Result_Dam_weight\"].value_counts()"
   ]
  },
  {
   "cell_type": "code",
   "execution_count": 609,
   "metadata": {},
   "outputs": [
    {
     "data": {
      "text/plain": [
       "DISCHARGED SPEED OF RESIN Collect Result_Dam_weight\n",
       "0.547187    8944\n",
       "0.413333    8415\n",
       "Name: count, dtype: int64"
      ]
     },
     "execution_count": 609,
     "metadata": {},
     "output_type": "execute_result"
    }
   ],
   "source": [
    "test_data[\"DISCHARGED SPEED OF RESIN Collect Result_Dam_weight\"] = test_data[\"DISCHARGED SPEED OF RESIN Collect Result_Dam\"].map(target_ratio)\n",
    "test_data[\"DISCHARGED SPEED OF RESIN Collect Result_Dam_weight\"].value_counts()"
   ]
  },
  {
   "cell_type": "code",
   "execution_count": 610,
   "metadata": {},
   "outputs": [
    {
     "name": "stdout",
     "output_type": "stream",
     "text": [
      "2\n"
     ]
    }
   ],
   "source": [
    "print(test_data[\"DISCHARGED SPEED OF RESIN Collect Result_Dam_weight\"].isnull().sum())"
   ]
  },
  {
   "cell_type": "code",
   "execution_count": 611,
   "metadata": {},
   "outputs": [
    {
     "name": "stderr",
     "output_type": "stream",
     "text": [
      "C:\\Users\\hwnam\\AppData\\Local\\Temp\\ipykernel_21144\\2015489677.py:3: FutureWarning: A value is trying to be set on a copy of a DataFrame or Series through chained assignment using an inplace method.\n",
      "The behavior will change in pandas 3.0. This inplace method will never work because the intermediate object on which we are setting values always behaves as a copy.\n",
      "\n",
      "For example, when doing 'df[col].method(value, inplace=True)', try using 'df.method({col: value}, inplace=True)' or df[col] = df[col].method(value) instead, to perform the operation inplace on the original object.\n",
      "\n",
      "\n",
      "  test_data[\"DISCHARGED SPEED OF RESIN Collect Result_Dam_weight\"].fillna(mode_value, inplace=True)\n"
     ]
    }
   ],
   "source": [
    "# 최빈값으로 결측치 처리\n",
    "mode_value = test_data[\"DISCHARGED SPEED OF RESIN Collect Result_Dam_weight\"].mode()[0]\n",
    "test_data[\"DISCHARGED SPEED OF RESIN Collect Result_Dam_weight\"].fillna(mode_value, inplace=True)"
   ]
  },
  {
   "cell_type": "code",
   "execution_count": 612,
   "metadata": {},
   "outputs": [
    {
     "name": "stdout",
     "output_type": "stream",
     "text": [
      "DISCHARGED TIME OF RESIN(Stage1) Collect Result_Dam\n",
      "9.6     0.588905\n",
      "9.7     0.549869\n",
      "11.6    0.857143\n",
      "13.1    0.600000\n",
      "13.2    0.417824\n",
      "13.5    0.157895\n",
      "13.6    0.250000\n",
      "13.7    1.000000\n",
      "13.8    0.424242\n",
      "14.2    0.425373\n",
      "14.3    0.500000\n",
      "14.7    0.285714\n",
      "17.0    0.524055\n",
      "17.1    0.000000\n",
      "21.2    0.000000\n",
      "21.3    0.400000\n",
      "Name: target, dtype: float64\n"
     ]
    }
   ],
   "source": [
    "# 11. DISCHARGED TIME OF RESIN(Stage1) Collect Result_Dam\n",
    "target_ratio = df_concat.groupby(\"DISCHARGED TIME OF RESIN(Stage1) Collect Result_Dam\")[\"target\"].mean()\n",
    "print(target_ratio)"
   ]
  },
  {
   "cell_type": "code",
   "execution_count": 613,
   "metadata": {},
   "outputs": [
    {
     "data": {
      "text/plain": [
       "DISCHARGED TIME OF RESIN(Stage1) Collect Result_Dam_weight\n",
       "0.417824    864\n",
       "0.549869    762\n",
       "0.588905    703\n",
       "0.524055    582\n",
       "0.400000    140\n",
       "0.425373    134\n",
       "0.285714     70\n",
       "0.600000     55\n",
       "0.424242     33\n",
       "0.250000     20\n",
       "0.157895     19\n",
       "0.857143     14\n",
       "0.500000      4\n",
       "0.000000      3\n",
       "1.000000      1\n",
       "Name: count, dtype: int64"
      ]
     },
     "execution_count": 613,
     "metadata": {},
     "output_type": "execute_result"
    }
   ],
   "source": [
    "df_concat[\"DISCHARGED TIME OF RESIN(Stage1) Collect Result_Dam_weight\"] = df_concat[\"DISCHARGED TIME OF RESIN(Stage1) Collect Result_Dam\"].map(target_ratio)\n",
    "df_concat[\"DISCHARGED TIME OF RESIN(Stage1) Collect Result_Dam_weight\"].value_counts()"
   ]
  },
  {
   "cell_type": "code",
   "execution_count": 614,
   "metadata": {},
   "outputs": [
    {
     "data": {
      "text/plain": [
       "DISCHARGED TIME OF RESIN(Stage1) Collect Result_Dam_weight\n",
       "0.417824    4767\n",
       "0.400000    2517\n",
       "0.549869    2292\n",
       "0.524055    2079\n",
       "0.588905    1955\n",
       "0.285714     593\n",
       "0.425373     558\n",
       "0.600000     378\n",
       "0.157895     129\n",
       "0.424242     111\n",
       "0.250000     110\n",
       "0.857143      70\n",
       "0.000000      33\n",
       "0.500000      11\n",
       "1.000000       5\n",
       "Name: count, dtype: int64"
      ]
     },
     "execution_count": 614,
     "metadata": {},
     "output_type": "execute_result"
    }
   ],
   "source": [
    "test_data[\"DISCHARGED TIME OF RESIN(Stage1) Collect Result_Dam_weight\"] = test_data[\"DISCHARGED TIME OF RESIN(Stage1) Collect Result_Dam\"].map(target_ratio)\n",
    "test_data[\"DISCHARGED TIME OF RESIN(Stage1) Collect Result_Dam_weight\"].value_counts()"
   ]
  },
  {
   "cell_type": "code",
   "execution_count": 615,
   "metadata": {},
   "outputs": [
    {
     "name": "stdout",
     "output_type": "stream",
     "text": [
      "1753\n"
     ]
    }
   ],
   "source": [
    "print(test_data[\"DISCHARGED TIME OF RESIN(Stage1) Collect Result_Dam_weight\"].isnull().sum())"
   ]
  },
  {
   "cell_type": "code",
   "execution_count": 616,
   "metadata": {},
   "outputs": [
    {
     "name": "stderr",
     "output_type": "stream",
     "text": [
      "C:\\Users\\hwnam\\AppData\\Local\\Temp\\ipykernel_21144\\1899489910.py:3: FutureWarning: A value is trying to be set on a copy of a DataFrame or Series through chained assignment using an inplace method.\n",
      "The behavior will change in pandas 3.0. This inplace method will never work because the intermediate object on which we are setting values always behaves as a copy.\n",
      "\n",
      "For example, when doing 'df[col].method(value, inplace=True)', try using 'df.method({col: value}, inplace=True)' or df[col] = df[col].method(value) instead, to perform the operation inplace on the original object.\n",
      "\n",
      "\n",
      "  test_data[\"DISCHARGED TIME OF RESIN(Stage1) Collect Result_Dam_weight\"].fillna(mean_value, inplace=True)\n"
     ]
    }
   ],
   "source": [
    "# 평균값으로 결측치 처리\n",
    "mean_value = test_data[\"DISCHARGED TIME OF RESIN(Stage1) Collect Result_Dam_weight\"].mean()\n",
    "test_data[\"DISCHARGED TIME OF RESIN(Stage1) Collect Result_Dam_weight\"].fillna(mean_value, inplace=True)"
   ]
  },
  {
   "cell_type": "code",
   "execution_count": 617,
   "metadata": {},
   "outputs": [
    {
     "name": "stdout",
     "output_type": "stream",
     "text": [
      "DISCHARGED TIME OF RESIN(Stage2) Collect Result_Dam\n",
      "3.8    0.533333\n",
      "3.9    0.588595\n",
      "4.8    0.637500\n",
      "4.9    0.541697\n",
      "5.0    0.512397\n",
      "5.8    1.000000\n",
      "5.9    1.000000\n",
      "6.5    0.625000\n",
      "6.6    0.451613\n",
      "6.7    0.495413\n",
      "7.1    0.250000\n",
      "7.2    0.333333\n",
      "7.5    0.477876\n",
      "7.6    0.396396\n",
      "7.7    0.380952\n",
      "7.9    0.642857\n",
      "8.0    0.750000\n",
      "8.1    0.338308\n",
      "8.2    0.406250\n",
      "8.3    0.403670\n",
      "8.4    0.375887\n",
      "8.5    0.375000\n",
      "8.6    0.266667\n",
      "Name: target, dtype: float64\n"
     ]
    }
   ],
   "source": [
    "# 12. DISCHARGED TIME OF RESIN(Stage2) Collect Result_Dam\n",
    "target_ratio = df_concat.groupby(\"DISCHARGED TIME OF RESIN(Stage2) Collect Result_Dam\")[\"target\"].mean()\n",
    "print(target_ratio)"
   ]
  },
  {
   "cell_type": "code",
   "execution_count": 618,
   "metadata": {},
   "outputs": [
    {
     "data": {
      "text/plain": [
       "DISCHARGED TIME OF RESIN(Stage2) Collect Result_Dam_weight\n",
       "0.541697    1379\n",
       "0.588595     491\n",
       "0.403670     218\n",
       "0.338308     201\n",
       "0.406250     160\n",
       "0.375887     141\n",
       "0.512397     121\n",
       "0.477876     113\n",
       "0.396396     111\n",
       "0.495413     109\n",
       "0.451613      93\n",
       "0.637500      80\n",
       "0.380952      63\n",
       "0.375000      32\n",
       "0.625000      32\n",
       "0.266667      15\n",
       "0.533333      15\n",
       "0.642857      14\n",
       "0.333333       6\n",
       "0.250000       4\n",
       "0.750000       4\n",
       "1.000000       2\n",
       "Name: count, dtype: int64"
      ]
     },
     "execution_count": 618,
     "metadata": {},
     "output_type": "execute_result"
    }
   ],
   "source": [
    "df_concat[\"DISCHARGED TIME OF RESIN(Stage2) Collect Result_Dam_weight\"] = df_concat[\"DISCHARGED TIME OF RESIN(Stage2) Collect Result_Dam\"].map(target_ratio)\n",
    "df_concat[\"DISCHARGED TIME OF RESIN(Stage2) Collect Result_Dam_weight\"].value_counts()"
   ]
  },
  {
   "cell_type": "code",
   "execution_count": 619,
   "metadata": {},
   "outputs": [
    {
     "data": {
      "text/plain": [
       "DISCHARGED TIME OF RESIN(Stage2) Collect Result_Dam_weight\n",
       "0.541697    4383\n",
       "0.588595    1491\n",
       "0.375887    1473\n",
       "0.451613    1156\n",
       "0.403670     966\n",
       "0.338308     920\n",
       "0.625000     728\n",
       "0.406250     709\n",
       "0.266667     679\n",
       "0.375000     676\n",
       "0.512397     437\n",
       "0.477876     436\n",
       "0.495413     430\n",
       "0.396396     391\n",
       "0.380952     237\n",
       "0.637500     222\n",
       "0.533333      46\n",
       "0.333333      35\n",
       "0.750000      16\n",
       "0.250000      15\n",
       "0.642857      14\n",
       "1.000000       4\n",
       "Name: count, dtype: int64"
      ]
     },
     "execution_count": 619,
     "metadata": {},
     "output_type": "execute_result"
    }
   ],
   "source": [
    "test_data[\"DISCHARGED TIME OF RESIN(Stage2) Collect Result_Dam_weight\"] = test_data[\"DISCHARGED TIME OF RESIN(Stage2) Collect Result_Dam\"].map(target_ratio)\n",
    "test_data[\"DISCHARGED TIME OF RESIN(Stage2) Collect Result_Dam_weight\"].value_counts()"
   ]
  },
  {
   "cell_type": "code",
   "execution_count": 620,
   "metadata": {},
   "outputs": [
    {
     "name": "stdout",
     "output_type": "stream",
     "text": [
      "1897\n"
     ]
    }
   ],
   "source": [
    "print(test_data[\"DISCHARGED TIME OF RESIN(Stage2) Collect Result_Dam_weight\"].isnull().sum())"
   ]
  },
  {
   "cell_type": "code",
   "execution_count": 621,
   "metadata": {},
   "outputs": [
    {
     "name": "stderr",
     "output_type": "stream",
     "text": [
      "C:\\Users\\hwnam\\AppData\\Local\\Temp\\ipykernel_21144\\1782786780.py:2: FutureWarning: A value is trying to be set on a copy of a DataFrame or Series through chained assignment using an inplace method.\n",
      "The behavior will change in pandas 3.0. This inplace method will never work because the intermediate object on which we are setting values always behaves as a copy.\n",
      "\n",
      "For example, when doing 'df[col].method(value, inplace=True)', try using 'df.method({col: value}, inplace=True)' or df[col] = df[col].method(value) instead, to perform the operation inplace on the original object.\n",
      "\n",
      "\n",
      "  test_data[\"DISCHARGED TIME OF RESIN(Stage2) Collect Result_Dam_weight\"].fillna(mean_value, inplace=True)\n"
     ]
    }
   ],
   "source": [
    "mean_value = test_data[\"DISCHARGED TIME OF RESIN(Stage2) Collect Result_Dam_weight\"].mean()\n",
    "test_data[\"DISCHARGED TIME OF RESIN(Stage2) Collect Result_Dam_weight\"].fillna(mean_value, inplace=True)"
   ]
  },
  {
   "cell_type": "code",
   "execution_count": 622,
   "metadata": {},
   "outputs": [
    {
     "name": "stdout",
     "output_type": "stream",
     "text": [
      "DISCHARGED TIME OF RESIN(Stage3) Collect Result_Dam\n",
      "9.6     0.597222\n",
      "9.7     0.564103\n",
      "9.8     0.000000\n",
      "11.5    1.000000\n",
      "11.6    0.833333\n",
      "13.1    0.400000\n",
      "13.2    0.434014\n",
      "13.5    0.090909\n",
      "13.6    0.250000\n",
      "13.7    0.250000\n",
      "13.8    0.466667\n",
      "14.2    0.416667\n",
      "14.3    0.470588\n",
      "14.7    0.311475\n",
      "14.8    0.111111\n",
      "17.0    0.516878\n",
      "17.1    0.550459\n",
      "21.2    0.250000\n",
      "21.3    0.398551\n",
      "Name: target, dtype: float64\n"
     ]
    }
   ],
   "source": [
    "#13. DISCHARGED TIME OF RESIN(Stage3) Collect Result_Dam\n",
    "target_ratio = df_concat.groupby(\"DISCHARGED TIME OF RESIN(Stage3) Collect Result_Dam\")[\"target\"].mean()\n",
    "print(target_ratio)"
   ]
  },
  {
   "cell_type": "code",
   "execution_count": 623,
   "metadata": {},
   "outputs": [
    {
     "data": {
      "text/plain": [
       "DISCHARGED TIME OF RESIN(Stage3) Collect Result_Dam_weight\n",
       "0.564103    1248\n",
       "0.434014     735\n",
       "0.516878     474\n",
       "0.597222     216\n",
       "0.400000     175\n",
       "0.398551     138\n",
       "0.550459     109\n",
       "0.416667      96\n",
       "0.311475      61\n",
       "0.470588      51\n",
       "0.250000      36\n",
       "0.466667      30\n",
       "0.833333      12\n",
       "0.090909      11\n",
       "0.111111       9\n",
       "1.000000       2\n",
       "0.000000       1\n",
       "Name: count, dtype: int64"
      ]
     },
     "execution_count": 623,
     "metadata": {},
     "output_type": "execute_result"
    }
   ],
   "source": [
    "df_concat[\"DISCHARGED TIME OF RESIN(Stage3) Collect Result_Dam_weight\"] = df_concat[\"DISCHARGED TIME OF RESIN(Stage3) Collect Result_Dam\"].map(target_ratio)\n",
    "df_concat[\"DISCHARGED TIME OF RESIN(Stage3) Collect Result_Dam_weight\"].value_counts()"
   ]
  },
  {
   "cell_type": "code",
   "execution_count": 624,
   "metadata": {},
   "outputs": [
    {
     "data": {
      "text/plain": [
       "DISCHARGED TIME OF RESIN(Stage3) Collect Result_Dam_weight\n",
       "0.434014    4010\n",
       "0.564103    3670\n",
       "0.398551    2450\n",
       "0.311475    2075\n",
       "0.516878    1693\n",
       "0.400000    1100\n",
       "0.597222     576\n",
       "0.550459     397\n",
       "0.416667     395\n",
       "0.111111     271\n",
       "0.250000     257\n",
       "0.470588     211\n",
       "0.466667      97\n",
       "0.090909      86\n",
       "0.833333      63\n",
       "1.000000       7\n",
       "0.000000       1\n",
       "Name: count, dtype: int64"
      ]
     },
     "execution_count": 624,
     "metadata": {},
     "output_type": "execute_result"
    }
   ],
   "source": [
    "test_data[\"DISCHARGED TIME OF RESIN(Stage3) Collect Result_Dam_weight\"] = test_data[\"DISCHARGED TIME OF RESIN(Stage3) Collect Result_Dam\"].map(target_ratio)\n",
    "test_data[\"DISCHARGED TIME OF RESIN(Stage3) Collect Result_Dam_weight\"].value_counts()"
   ]
  },
  {
   "cell_type": "code",
   "execution_count": 625,
   "metadata": {},
   "outputs": [
    {
     "name": "stdout",
     "output_type": "stream",
     "text": [
      "2\n"
     ]
    }
   ],
   "source": [
    "print(test_data[\"DISCHARGED TIME OF RESIN(Stage3) Collect Result_Dam_weight\"].isnull().sum())"
   ]
  },
  {
   "cell_type": "code",
   "execution_count": 626,
   "metadata": {},
   "outputs": [
    {
     "name": "stderr",
     "output_type": "stream",
     "text": [
      "C:\\Users\\hwnam\\AppData\\Local\\Temp\\ipykernel_21144\\692408697.py:3: FutureWarning: A value is trying to be set on a copy of a DataFrame or Series through chained assignment using an inplace method.\n",
      "The behavior will change in pandas 3.0. This inplace method will never work because the intermediate object on which we are setting values always behaves as a copy.\n",
      "\n",
      "For example, when doing 'df[col].method(value, inplace=True)', try using 'df.method({col: value}, inplace=True)' or df[col] = df[col].method(value) instead, to perform the operation inplace on the original object.\n",
      "\n",
      "\n",
      "  test_data[\"DISCHARGED TIME OF RESIN(Stage3) Collect Result_Dam_weight\"].fillna(mode_value, inplace=True)\n"
     ]
    }
   ],
   "source": [
    "#최빈값으로 결측치 처리\n",
    "mode_value = test_data[\"DISCHARGED TIME OF RESIN(Stage3) Collect Result_Dam_weight\"].mode()[0]\n",
    "test_data[\"DISCHARGED TIME OF RESIN(Stage3) Collect Result_Dam_weight\"].fillna(mode_value, inplace=True)"
   ]
  },
  {
   "cell_type": "code",
   "execution_count": 627,
   "metadata": {},
   "outputs": [
    {
     "name": "stdout",
     "output_type": "stream",
     "text": [
      "Dispense Volume(Stage1) Collect Result_Dam\n",
      "0.67    0.568601\n",
      "0.81    0.857143\n",
      "0.91    0.600000\n",
      "0.92    0.417824\n",
      "0.94    0.157895\n",
      "0.95    0.285714\n",
      "0.96    0.424242\n",
      "0.99    0.425373\n",
      "1.00    0.500000\n",
      "1.02    0.244898\n",
      "1.19    0.523156\n",
      "1.48    0.000000\n",
      "1.49    0.400000\n",
      "1.61    0.380952\n",
      "Name: target, dtype: float64\n"
     ]
    }
   ],
   "source": [
    "# 14. Dispense Volume(Stage1) Collect Result_Dam\n",
    "target_ratio = df_concat.groupby(\"Dispense Volume(Stage1) Collect Result_Dam\")[\"target\"].mean()\n",
    "print(target_ratio)"
   ]
  },
  {
   "cell_type": "code",
   "execution_count": 628,
   "metadata": {},
   "outputs": [
    {
     "data": {
      "text/plain": [
       "Dispense Volume(Stage1) Collect Result_Dam_weight\n",
       "0.568601    1465\n",
       "0.417824     864\n",
       "0.523156     583\n",
       "0.400000     140\n",
       "0.425373     134\n",
       "0.600000      55\n",
       "0.244898      49\n",
       "0.424242      33\n",
       "0.285714      21\n",
       "0.380952      21\n",
       "0.157895      19\n",
       "0.857143      14\n",
       "0.500000       4\n",
       "0.000000       2\n",
       "Name: count, dtype: int64"
      ]
     },
     "execution_count": 628,
     "metadata": {},
     "output_type": "execute_result"
    }
   ],
   "source": [
    "df_concat[\"Dispense Volume(Stage1) Collect Result_Dam_weight\"] = df_concat[\"Dispense Volume(Stage1) Collect Result_Dam\"].map(target_ratio)\n",
    "df_concat[\"Dispense Volume(Stage1) Collect Result_Dam_weight\"].value_counts()"
   ]
  },
  {
   "cell_type": "code",
   "execution_count": 629,
   "metadata": {},
   "outputs": [
    {
     "data": {
      "text/plain": [
       "Dispense Volume(Stage1) Collect Result_Dam_weight\n",
       "0.568601    4247\n",
       "0.417824    3440\n",
       "0.400000    2515\n",
       "0.523156    2090\n",
       "0.425373     542\n",
       "0.380952     328\n",
       "0.244898     265\n",
       "0.600000     253\n",
       "0.157895     129\n",
       "0.285714     115\n",
       "0.424242     111\n",
       "0.857143      70\n",
       "0.000000      22\n",
       "0.500000      11\n",
       "Name: count, dtype: int64"
      ]
     },
     "execution_count": 629,
     "metadata": {},
     "output_type": "execute_result"
    }
   ],
   "source": [
    "test_data[\"Dispense Volume(Stage1) Collect Result_Dam_weight\"] = test_data[\"Dispense Volume(Stage1) Collect Result_Dam\"].map(target_ratio)\n",
    "test_data[\"Dispense Volume(Stage1) Collect Result_Dam_weight\"].value_counts()"
   ]
  },
  {
   "cell_type": "code",
   "execution_count": 630,
   "metadata": {},
   "outputs": [
    {
     "name": "stdout",
     "output_type": "stream",
     "text": [
      "3223\n"
     ]
    }
   ],
   "source": [
    "print(test_data[\"Dispense Volume(Stage1) Collect Result_Dam_weight\"].isnull().sum())"
   ]
  },
  {
   "cell_type": "code",
   "execution_count": 631,
   "metadata": {},
   "outputs": [],
   "source": [
    "del df_concat[\"Dispense Volume(Stage1) Collect Result_Dam\"]\n",
    "del test_data[\"Dispense Volume(Stage1) Collect Result_Dam\"]\n",
    "del df_concat[\"Dispense Volume(Stage1) Collect Result_Dam_weight\"]\n",
    "del test_data[\"Dispense Volume(Stage1) Collect Result_Dam_weight\"]"
   ]
  },
  {
   "cell_type": "code",
   "execution_count": 632,
   "metadata": {},
   "outputs": [
    {
     "name": "stdout",
     "output_type": "stream",
     "text": [
      "Dispense Volume(Stage2) Collect Result_Dam\n",
      "0.26    0.533333\n",
      "0.27    0.588595\n",
      "0.33    0.637500\n",
      "0.34    0.541697\n",
      "0.35    0.512397\n",
      "0.40    1.000000\n",
      "0.41    1.000000\n",
      "0.45    0.625000\n",
      "0.46    0.475248\n",
      "0.49    0.250000\n",
      "0.50    0.333333\n",
      "0.52    0.477876\n",
      "0.53    0.390805\n",
      "0.55    0.642857\n",
      "0.56    0.346341\n",
      "0.57    0.406250\n",
      "0.58    0.397143\n",
      "0.59    0.250000\n",
      "0.60    0.363636\n",
      "0.92    0.222222\n",
      "0.93    0.750000\n",
      "0.94    0.000000\n",
      "Name: target, dtype: float64\n"
     ]
    }
   ],
   "source": [
    "# 15. Dispense Volume(Stage2) Collect Result_Dam\n",
    "target_ratio = df_concat.groupby(\"Dispense Volume(Stage2) Collect Result_Dam\")[\"target\"].mean()\n",
    "print(target_ratio)"
   ]
  },
  {
   "cell_type": "code",
   "execution_count": 633,
   "metadata": {},
   "outputs": [
    {
     "data": {
      "text/plain": [
       "Dispense Volume(Stage2) Collect Result_Dam_weight\n",
       "0.541697    1379\n",
       "0.588595     491\n",
       "0.397143     350\n",
       "0.346341     205\n",
       "0.475248     202\n",
       "0.390805     174\n",
       "0.406250     160\n",
       "0.512397     121\n",
       "0.477876     113\n",
       "0.637500      80\n",
       "0.625000      32\n",
       "0.250000      28\n",
       "0.533333      15\n",
       "0.642857      14\n",
       "0.363636      11\n",
       "0.222222       9\n",
       "0.750000       8\n",
       "0.333333       6\n",
       "0.000000       4\n",
       "1.000000       2\n",
       "Name: count, dtype: int64"
      ]
     },
     "execution_count": 633,
     "metadata": {},
     "output_type": "execute_result"
    }
   ],
   "source": [
    "df_concat[\"Dispense Volume(Stage2) Collect Result_Dam_weight\"] = df_concat[\"Dispense Volume(Stage2) Collect Result_Dam\"].map(target_ratio)\n",
    "df_concat[\"Dispense Volume(Stage2) Collect Result_Dam_weight\"].value_counts()"
   ]
  },
  {
   "cell_type": "code",
   "execution_count": 634,
   "metadata": {},
   "outputs": [
    {
     "data": {
      "text/plain": [
       "Dispense Volume(Stage2) Collect Result_Dam_weight\n",
       "0.541697    4383\n",
       "0.397143    1923\n",
       "0.588595    1491\n",
       "0.346341     930\n",
       "0.406250     703\n",
       "0.475248     672\n",
       "0.390805     628\n",
       "0.222222     512\n",
       "0.512397     437\n",
       "0.477876     436\n",
       "0.250000     377\n",
       "0.363636     360\n",
       "0.000000     319\n",
       "0.750000     314\n",
       "0.637500     222\n",
       "0.625000     188\n",
       "0.533333      46\n",
       "0.333333      35\n",
       "0.642857      14\n",
       "1.000000       4\n",
       "Name: count, dtype: int64"
      ]
     },
     "execution_count": 634,
     "metadata": {},
     "output_type": "execute_result"
    }
   ],
   "source": [
    "test_data[\"Dispense Volume(Stage2) Collect Result_Dam_weight\"] = test_data[\"Dispense Volume(Stage2) Collect Result_Dam\"].map(target_ratio)\n",
    "test_data[\"Dispense Volume(Stage2) Collect Result_Dam_weight\"].value_counts()"
   ]
  },
  {
   "cell_type": "code",
   "execution_count": 635,
   "metadata": {},
   "outputs": [
    {
     "name": "stdout",
     "output_type": "stream",
     "text": [
      "3367\n"
     ]
    }
   ],
   "source": [
    "print(test_data[\"Dispense Volume(Stage2) Collect Result_Dam_weight\"].isnull().sum())"
   ]
  },
  {
   "cell_type": "code",
   "execution_count": 636,
   "metadata": {},
   "outputs": [],
   "source": [
    "del df_concat[\"Dispense Volume(Stage2) Collect Result_Dam\"]\n",
    "del test_data[\"Dispense Volume(Stage2) Collect Result_Dam\"]\n",
    "del df_concat[\"Dispense Volume(Stage2) Collect Result_Dam_weight\"]\n",
    "del test_data[\"Dispense Volume(Stage2) Collect Result_Dam_weight\"]"
   ]
  },
  {
   "cell_type": "code",
   "execution_count": 637,
   "metadata": {},
   "outputs": [
    {
     "name": "stdout",
     "output_type": "stream",
     "text": [
      "Dispense Volume(Stage3) Collect Result_Dam\n",
      "0.67    0.568989\n",
      "0.68    0.000000\n",
      "0.80    1.000000\n",
      "0.81    0.833333\n",
      "0.91    0.400000\n",
      "0.92    0.434014\n",
      "0.94    0.090909\n",
      "0.95    0.250000\n",
      "0.96    0.466667\n",
      "0.99    0.416667\n",
      "1.00    0.470588\n",
      "1.02    0.272727\n",
      "1.03    0.000000\n",
      "1.19    0.523156\n",
      "1.48    0.250000\n",
      "1.49    0.398551\n",
      "1.61    0.411765\n",
      "1.62    0.250000\n",
      "Name: target, dtype: float64\n"
     ]
    }
   ],
   "source": [
    "# 16. Dispense Volume(Stage3) Collect Result_Dam\n",
    "target_ratio = df_concat.groupby(\"Dispense Volume(Stage3) Collect Result_Dam\")[\"target\"].mean()\n",
    "print(target_ratio)"
   ]
  },
  {
   "cell_type": "code",
   "execution_count": 638,
   "metadata": {},
   "outputs": [
    {
     "data": {
      "text/plain": [
       "Dispense Volume(Stage3) Collect Result_Dam_weight\n",
       "0.568989    1464\n",
       "0.434014     735\n",
       "0.523156     583\n",
       "0.400000     175\n",
       "0.398551     138\n",
       "0.416667      96\n",
       "0.470588      51\n",
       "0.272727      44\n",
       "0.250000      40\n",
       "0.466667      30\n",
       "0.411765      17\n",
       "0.833333      12\n",
       "0.090909      11\n",
       "0.000000       6\n",
       "1.000000       2\n",
       "Name: count, dtype: int64"
      ]
     },
     "execution_count": 638,
     "metadata": {},
     "output_type": "execute_result"
    }
   ],
   "source": [
    "df_concat[\"Dispense Volume(Stage3) Collect Result_Dam_weight\"] = df_concat[\"Dispense Volume(Stage3) Collect Result_Dam\"].map(target_ratio)\n",
    "df_concat[\"Dispense Volume(Stage3) Collect Result_Dam_weight\"].value_counts()"
   ]
  },
  {
   "cell_type": "code",
   "execution_count": 639,
   "metadata": {},
   "outputs": [
    {
     "data": {
      "text/plain": [
       "Dispense Volume(Stage3) Collect Result_Dam_weight\n",
       "0.568989    4246\n",
       "0.434014    2878\n",
       "0.398551    2452\n",
       "0.523156    2090\n",
       "0.272727    1066\n",
       "0.411765    1009\n",
       "0.400000     778\n",
       "0.250000     393\n",
       "0.416667     381\n",
       "0.470588     209\n",
       "0.000000     136\n",
       "0.466667      97\n",
       "0.090909      86\n",
       "0.833333      63\n",
       "1.000000       7\n",
       "Name: count, dtype: int64"
      ]
     },
     "execution_count": 639,
     "metadata": {},
     "output_type": "execute_result"
    }
   ],
   "source": [
    "test_data[\"Dispense Volume(Stage3) Collect Result_Dam_weight\"] = test_data[\"Dispense Volume(Stage3) Collect Result_Dam\"].map(target_ratio)\n",
    "test_data[\"Dispense Volume(Stage3) Collect Result_Dam_weight\"].value_counts()"
   ]
  },
  {
   "cell_type": "code",
   "execution_count": 640,
   "metadata": {},
   "outputs": [
    {
     "name": "stdout",
     "output_type": "stream",
     "text": [
      "1470\n"
     ]
    }
   ],
   "source": [
    "print(test_data[\"Dispense Volume(Stage3) Collect Result_Dam_weight\"].isnull().sum())"
   ]
  },
  {
   "cell_type": "code",
   "execution_count": 641,
   "metadata": {},
   "outputs": [
    {
     "name": "stderr",
     "output_type": "stream",
     "text": [
      "C:\\Users\\hwnam\\AppData\\Local\\Temp\\ipykernel_21144\\142454562.py:3: FutureWarning: A value is trying to be set on a copy of a DataFrame or Series through chained assignment using an inplace method.\n",
      "The behavior will change in pandas 3.0. This inplace method will never work because the intermediate object on which we are setting values always behaves as a copy.\n",
      "\n",
      "For example, when doing 'df[col].method(value, inplace=True)', try using 'df.method({col: value}, inplace=True)' or df[col] = df[col].method(value) instead, to perform the operation inplace on the original object.\n",
      "\n",
      "\n",
      "  test_data[\"Dispense Volume(Stage3) Collect Result_Dam_weight\"].fillna(mean_value, inplace=True)\n"
     ]
    }
   ],
   "source": [
    "# 평균값으로 결측치 처리\n",
    "mean_value = test_data[\"Dispense Volume(Stage3) Collect Result_Dam_weight\"].mean()\n",
    "test_data[\"Dispense Volume(Stage3) Collect Result_Dam_weight\"].fillna(mean_value, inplace=True)"
   ]
  },
  {
   "cell_type": "code",
   "execution_count": 642,
   "metadata": {},
   "outputs": [
    {
     "name": "stdout",
     "output_type": "stream",
     "text": [
      "HEAD NORMAL COORDINATE X AXIS(Stage2) Collect Result_Dam\n",
      "161.20    0.342466\n",
      "161.70    0.380000\n",
      "162.40    0.421348\n",
      "162.70    0.448161\n",
      "462.20    0.400000\n",
      "462.50    0.461538\n",
      "462.75    0.576923\n",
      "463.00    0.607502\n",
      "463.50    0.461538\n",
      "463.80    0.417910\n",
      "465.10    0.604651\n",
      "465.30    0.477876\n",
      "465.50    0.363636\n",
      "548.90    0.272727\n",
      "549.40    0.416667\n",
      "550.30    0.277778\n",
      "550.40    0.473684\n",
      "550.60    0.364130\n",
      "Name: target, dtype: float64\n"
     ]
    }
   ],
   "source": [
    "# 16. HEAD NORMAL COORDINATE X AXIS(Stage2) Collect Result_Dam\n",
    "target_ratio = df_concat.groupby(\"HEAD NORMAL COORDINATE X AXIS(Stage2) Collect Result_Dam\")[\"target\"].mean()\n",
    "print(target_ratio)"
   ]
  },
  {
   "cell_type": "code",
   "execution_count": 643,
   "metadata": {},
   "outputs": [
    {
     "data": {
      "text/plain": [
       "HEAD NORMAL COORDINATE X AXIS(Stage2) Collect Result_Dam_weight\n",
       "0.607502    1093\n",
       "0.461538     416\n",
       "0.448161     299\n",
       "0.473684     285\n",
       "0.604651     258\n",
       "0.417910     201\n",
       "0.364130     184\n",
       "0.421348     178\n",
       "0.477876     113\n",
       "0.272727      77\n",
       "0.342466      73\n",
       "0.363636      66\n",
       "0.576923      52\n",
       "0.380000      50\n",
       "0.416667      36\n",
       "0.277778      18\n",
       "0.400000       5\n",
       "Name: count, dtype: int64"
      ]
     },
     "execution_count": 643,
     "metadata": {},
     "output_type": "execute_result"
    }
   ],
   "source": [
    "df_concat[\"HEAD NORMAL COORDINATE X AXIS(Stage2) Collect Result_Dam_weight\"] = df_concat[\"HEAD NORMAL COORDINATE X AXIS(Stage2) Collect Result_Dam\"].map(target_ratio)\n",
    "df_concat[\"HEAD NORMAL COORDINATE X AXIS(Stage2) Collect Result_Dam_weight\"].value_counts()"
   ]
  },
  {
   "cell_type": "code",
   "execution_count": 644,
   "metadata": {},
   "outputs": [
    {
     "data": {
      "text/plain": [
       "HEAD NORMAL COORDINATE X AXIS(Stage2) Collect Result_Dam_weight\n",
       "0.607502    2969\n",
       "0.461538    1583\n",
       "0.421348    1539\n",
       "0.473684    1051\n",
       "0.448161    1016\n",
       "0.277778     777\n",
       "0.417910     767\n",
       "0.364130     766\n",
       "0.604651     707\n",
       "0.477876     490\n",
       "0.342466     373\n",
       "0.272727     338\n",
       "0.363636     333\n",
       "0.416667     224\n",
       "0.380000     177\n",
       "0.576923     154\n",
       "0.400000       9\n",
       "Name: count, dtype: int64"
      ]
     },
     "execution_count": 644,
     "metadata": {},
     "output_type": "execute_result"
    }
   ],
   "source": [
    "test_data[\"HEAD NORMAL COORDINATE X AXIS(Stage2) Collect Result_Dam_weight\"] = test_data[\"HEAD NORMAL COORDINATE X AXIS(Stage2) Collect Result_Dam\"].map(target_ratio)\n",
    "test_data[\"HEAD NORMAL COORDINATE X AXIS(Stage2) Collect Result_Dam_weight\"].value_counts()"
   ]
  },
  {
   "cell_type": "code",
   "execution_count": 645,
   "metadata": {},
   "outputs": [
    {
     "name": "stdout",
     "output_type": "stream",
     "text": [
      "4088\n"
     ]
    }
   ],
   "source": [
    "print(test_data[\"HEAD NORMAL COORDINATE X AXIS(Stage2) Collect Result_Dam_weight\"].isnull().sum())"
   ]
  },
  {
   "cell_type": "code",
   "execution_count": 646,
   "metadata": {},
   "outputs": [],
   "source": [
    "del df_concat[\"HEAD NORMAL COORDINATE X AXIS(Stage2) Collect Result_Dam\"]\n",
    "del test_data[\"HEAD NORMAL COORDINATE X AXIS(Stage2) Collect Result_Dam\"]\n",
    "del df_concat[\"HEAD NORMAL COORDINATE X AXIS(Stage2) Collect Result_Dam_weight\"]\n",
    "del test_data[\"HEAD NORMAL COORDINATE X AXIS(Stage2) Collect Result_Dam_weight\"]"
   ]
  },
  {
   "cell_type": "code",
   "execution_count": 647,
   "metadata": {},
   "outputs": [
    {
     "name": "stdout",
     "output_type": "stream",
     "text": [
      "HEAD NORMAL COORDINATE X AXIS(Stage3) Collect Result_Dam\n",
      "159.5    0.459459\n",
      "160.0    0.629412\n",
      "160.5    0.562152\n",
      "160.8    0.417910\n",
      "462.2    0.272727\n",
      "462.7    0.416667\n",
      "463.6    0.277778\n",
      "463.7    0.469965\n",
      "463.9    0.364130\n",
      "464.0    1.000000\n",
      "464.2    0.342466\n",
      "464.7    0.380000\n",
      "465.4    0.421348\n",
      "465.7    0.448161\n",
      "551.1    0.000000\n",
      "551.3    0.567568\n",
      "552.0    0.363636\n",
      "Name: target, dtype: float64\n"
     ]
    }
   ],
   "source": [
    "# 17. HEAD NORMAL COORDINATE X AXIS(Stage3) Collect Result_Dam\n",
    "target_ratio = df_concat.groupby(\"HEAD NORMAL COORDINATE X AXIS(Stage3) Collect Result_Dam\")[\"target\"].mean()\n",
    "print(target_ratio)"
   ]
  },
  {
   "cell_type": "code",
   "execution_count": 648,
   "metadata": {},
   "outputs": [
    {
     "data": {
      "text/plain": [
       "HEAD NORMAL COORDINATE X AXIS(Stage3) Collect Result_Dam_weight\n",
       "0.562152    1078\n",
       "0.567568     370\n",
       "0.629412     340\n",
       "0.448161     299\n",
       "0.469965     283\n",
       "0.417910     201\n",
       "0.364130     184\n",
       "0.421348     178\n",
       "0.459459     148\n",
       "0.272727      77\n",
       "0.342466      73\n",
       "0.363636      66\n",
       "0.380000      50\n",
       "0.416667      36\n",
       "0.277778      18\n",
       "1.000000       2\n",
       "0.000000       1\n",
       "Name: count, dtype: int64"
      ]
     },
     "execution_count": 648,
     "metadata": {},
     "output_type": "execute_result"
    }
   ],
   "source": [
    "df_concat[\"HEAD NORMAL COORDINATE X AXIS(Stage3) Collect Result_Dam_weight\"] = df_concat[\"HEAD NORMAL COORDINATE X AXIS(Stage3) Collect Result_Dam\"].map(target_ratio)\n",
    "df_concat[\"HEAD NORMAL COORDINATE X AXIS(Stage3) Collect Result_Dam_weight\"].value_counts()"
   ]
  },
  {
   "cell_type": "code",
   "execution_count": 649,
   "metadata": {},
   "outputs": [
    {
     "data": {
      "text/plain": [
       "HEAD NORMAL COORDINATE X AXIS(Stage3) Collect Result_Dam_weight\n",
       "0.562152    3289\n",
       "0.567568    1195\n",
       "0.469965    1050\n",
       "0.448161     989\n",
       "0.629412     860\n",
       "0.421348     850\n",
       "0.417910     767\n",
       "0.364130     766\n",
       "0.277778     696\n",
       "0.459459     566\n",
       "0.342466     373\n",
       "0.272727     338\n",
       "0.363636     333\n",
       "0.416667     224\n",
       "0.380000     177\n",
       "1.000000      34\n",
       "0.000000       2\n",
       "Name: count, dtype: int64"
      ]
     },
     "execution_count": 649,
     "metadata": {},
     "output_type": "execute_result"
    }
   ],
   "source": [
    "test_data[\"HEAD NORMAL COORDINATE X AXIS(Stage3) Collect Result_Dam_weight\"] = test_data[\"HEAD NORMAL COORDINATE X AXIS(Stage3) Collect Result_Dam\"].map(target_ratio)\n",
    "test_data[\"HEAD NORMAL COORDINATE X AXIS(Stage3) Collect Result_Dam_weight\"].value_counts()"
   ]
  },
  {
   "cell_type": "code",
   "execution_count": 650,
   "metadata": {},
   "outputs": [
    {
     "name": "stdout",
     "output_type": "stream",
     "text": [
      "4852\n"
     ]
    }
   ],
   "source": [
    "print(test_data[\"HEAD NORMAL COORDINATE X AXIS(Stage3) Collect Result_Dam_weight\"].isnull().sum())"
   ]
  },
  {
   "cell_type": "code",
   "execution_count": 651,
   "metadata": {},
   "outputs": [],
   "source": [
    "del df_concat[\"HEAD NORMAL COORDINATE X AXIS(Stage3) Collect Result_Dam\"]\n",
    "del test_data[\"HEAD NORMAL COORDINATE X AXIS(Stage3) Collect Result_Dam\"]\n",
    "del df_concat[\"HEAD NORMAL COORDINATE X AXIS(Stage3) Collect Result_Dam_weight\"]\n",
    "del test_data[\"HEAD NORMAL COORDINATE X AXIS(Stage3) Collect Result_Dam_weight\"]"
   ]
  },
  {
   "cell_type": "code",
   "execution_count": 652,
   "metadata": {},
   "outputs": [
    {
     "name": "stdout",
     "output_type": "stream",
     "text": [
      "HEAD NORMAL COORDINATE Y AXIS(Stage1) Collect Result_Dam\n",
      "159.8     0.272727\n",
      "160.3     0.416667\n",
      "161.2     0.277778\n",
      "161.3     0.473684\n",
      "161.5     0.364130\n",
      "377.3     0.443038\n",
      "377.5     0.589327\n",
      "550.5     0.342466\n",
      "551.0     0.380000\n",
      "551.7     0.421348\n",
      "552.0     0.448161\n",
      "1269.0    0.603846\n",
      "1271.3    0.477477\n",
      "1271.8    0.363636\n",
      "Name: target, dtype: float64\n"
     ]
    }
   ],
   "source": [
    "# 18. HEAD NORMAL COORDINATE Y AXIS(Stage1) Collect Result_Dam\n",
    "target_ratio = df_concat.groupby(\"HEAD NORMAL COORDINATE Y AXIS(Stage1) Collect Result_Dam\")[\"target\"].mean()\n",
    "print(target_ratio)"
   ]
  },
  {
   "cell_type": "code",
   "execution_count": 653,
   "metadata": {},
   "outputs": [
    {
     "data": {
      "text/plain": [
       "HEAD NORMAL COORDINATE Y AXIS(Stage1) Collect Result_Dam_weight\n",
       "0.589327    1293\n",
       "0.443038     474\n",
       "0.448161     299\n",
       "0.473684     285\n",
       "0.603846     260\n",
       "0.364130     184\n",
       "0.421348     178\n",
       "0.477477     111\n",
       "0.272727      77\n",
       "0.342466      73\n",
       "0.363636      66\n",
       "0.380000      50\n",
       "0.416667      36\n",
       "0.277778      18\n",
       "Name: count, dtype: int64"
      ]
     },
     "execution_count": 653,
     "metadata": {},
     "output_type": "execute_result"
    }
   ],
   "source": [
    "df_concat[\"HEAD NORMAL COORDINATE Y AXIS(Stage1) Collect Result_Dam_weight\"] = df_concat[\"HEAD NORMAL COORDINATE Y AXIS(Stage1) Collect Result_Dam\"].map(target_ratio)\n",
    "df_concat[\"HEAD NORMAL COORDINATE Y AXIS(Stage1) Collect Result_Dam_weight\"].value_counts()"
   ]
  },
  {
   "cell_type": "code",
   "execution_count": 654,
   "metadata": {},
   "outputs": [
    {
     "data": {
      "text/plain": [
       "HEAD NORMAL COORDINATE Y AXIS(Stage1) Collect Result_Dam_weight\n",
       "0.589327    3693\n",
       "0.443038    1789\n",
       "0.448161    1702\n",
       "0.473684    1084\n",
       "0.421348     850\n",
       "0.364130     766\n",
       "0.603846     737\n",
       "0.477477     460\n",
       "0.342466     373\n",
       "0.272727     338\n",
       "0.363636     333\n",
       "0.416667     224\n",
       "0.380000     177\n",
       "0.277778     114\n",
       "Name: count, dtype: int64"
      ]
     },
     "execution_count": 654,
     "metadata": {},
     "output_type": "execute_result"
    }
   ],
   "source": [
    "test_data[\"HEAD NORMAL COORDINATE Y AXIS(Stage1) Collect Result_Dam_weight\"] = test_data[\"HEAD NORMAL COORDINATE Y AXIS(Stage1) Collect Result_Dam\"].map(target_ratio)\n",
    "test_data[\"HEAD NORMAL COORDINATE Y AXIS(Stage1) Collect Result_Dam_weight\"].value_counts()"
   ]
  },
  {
   "cell_type": "code",
   "execution_count": 655,
   "metadata": {},
   "outputs": [
    {
     "name": "stdout",
     "output_type": "stream",
     "text": [
      "4721\n"
     ]
    }
   ],
   "source": [
    "print(test_data[\"HEAD NORMAL COORDINATE Y AXIS(Stage1) Collect Result_Dam_weight\"].isnull().sum())"
   ]
  },
  {
   "cell_type": "code",
   "execution_count": 656,
   "metadata": {},
   "outputs": [],
   "source": [
    "del df_concat[\"HEAD NORMAL COORDINATE Y AXIS(Stage1) Collect Result_Dam\"]\n",
    "del test_data[\"HEAD NORMAL COORDINATE Y AXIS(Stage1) Collect Result_Dam\"]\n",
    "del df_concat[\"HEAD NORMAL COORDINATE Y AXIS(Stage1) Collect Result_Dam_weight\"]\n",
    "del test_data[\"HEAD NORMAL COORDINATE Y AXIS(Stage1) Collect Result_Dam_weight\"]"
   ]
  },
  {
   "cell_type": "code",
   "execution_count": 657,
   "metadata": {},
   "outputs": [
    {
     "name": "stdout",
     "output_type": "stream",
     "text": [
      "HEAD NORMAL COORDINATE Y AXIS(Stage2) Collect Result_Dam\n",
      "377.0     0.589327\n",
      "377.3     0.443038\n",
      "377.6     0.405000\n",
      "1268.2    0.557692\n",
      "1268.4    0.608187\n",
      "1268.8    0.648649\n",
      "1270.7    0.435028\n",
      "1271.8    0.421667\n",
      "Name: target, dtype: float64\n"
     ]
    }
   ],
   "source": [
    "# 19. HEAD NORMAL COORDINATE Y AXIS(Stage2) Collect Result_Dam\n",
    "target_ratio = df_concat.groupby(\"HEAD NORMAL COORDINATE Y AXIS(Stage2) Collect Result_Dam\")[\"target\"].mean()\n",
    "print(target_ratio)"
   ]
  },
  {
   "cell_type": "code",
   "execution_count": 658,
   "metadata": {},
   "outputs": [
    {
     "data": {
      "text/plain": [
       "HEAD NORMAL COORDINATE Y AXIS(Stage2) Collect Result_Dam_weight\n",
       "0.589327    1293\n",
       "0.421667     600\n",
       "0.405000     600\n",
       "0.443038     474\n",
       "0.435028     177\n",
       "0.608187     171\n",
       "0.557692      52\n",
       "0.648649      37\n",
       "Name: count, dtype: int64"
      ]
     },
     "execution_count": 658,
     "metadata": {},
     "output_type": "execute_result"
    }
   ],
   "source": [
    "df_concat[\"HEAD NORMAL COORDINATE Y AXIS(Stage2) Collect Result_Dam_weight\"] = df_concat[\"HEAD NORMAL COORDINATE Y AXIS(Stage2) Collect Result_Dam\"].map(target_ratio)\n",
    "df_concat[\"HEAD NORMAL COORDINATE Y AXIS(Stage2) Collect Result_Dam_weight\"].value_counts()"
   ]
  },
  {
   "cell_type": "code",
   "execution_count": 659,
   "metadata": {},
   "outputs": [
    {
     "data": {
      "text/plain": [
       "HEAD NORMAL COORDINATE Y AXIS(Stage2) Collect Result_Dam_weight\n",
       "0.405000    4653\n",
       "0.421667    4442\n",
       "0.589327    3693\n",
       "0.443038    1929\n",
       "0.435028     793\n",
       "0.608187     445\n",
       "0.557692     187\n",
       "0.648649     105\n",
       "Name: count, dtype: int64"
      ]
     },
     "execution_count": 659,
     "metadata": {},
     "output_type": "execute_result"
    }
   ],
   "source": [
    "test_data[\"HEAD NORMAL COORDINATE Y AXIS(Stage2) Collect Result_Dam_weight\"] = test_data[\"HEAD NORMAL COORDINATE Y AXIS(Stage2) Collect Result_Dam\"].map(target_ratio)\n",
    "test_data[\"HEAD NORMAL COORDINATE Y AXIS(Stage2) Collect Result_Dam_weight\"].value_counts()"
   ]
  },
  {
   "cell_type": "code",
   "execution_count": 660,
   "metadata": {},
   "outputs": [
    {
     "name": "stdout",
     "output_type": "stream",
     "text": [
      "1114\n"
     ]
    }
   ],
   "source": [
    "print(test_data[\"HEAD NORMAL COORDINATE Y AXIS(Stage2) Collect Result_Dam_weight\"].isnull().sum())"
   ]
  },
  {
   "cell_type": "code",
   "execution_count": 661,
   "metadata": {},
   "outputs": [
    {
     "name": "stderr",
     "output_type": "stream",
     "text": [
      "C:\\Users\\hwnam\\AppData\\Local\\Temp\\ipykernel_21144\\1469040763.py:2: FutureWarning: A value is trying to be set on a copy of a DataFrame or Series through chained assignment using an inplace method.\n",
      "The behavior will change in pandas 3.0. This inplace method will never work because the intermediate object on which we are setting values always behaves as a copy.\n",
      "\n",
      "For example, when doing 'df[col].method(value, inplace=True)', try using 'df.method({col: value}, inplace=True)' or df[col] = df[col].method(value) instead, to perform the operation inplace on the original object.\n",
      "\n",
      "\n",
      "  test_data[\"HEAD NORMAL COORDINATE Y AXIS(Stage2) Collect Result_Dam_weight\"].fillna(mean_value, inplace=True)\n"
     ]
    }
   ],
   "source": [
    "mean_value = test_data[\"HEAD NORMAL COORDINATE Y AXIS(Stage2) Collect Result_Dam_weight\"].mean()\n",
    "test_data[\"HEAD NORMAL COORDINATE Y AXIS(Stage2) Collect Result_Dam_weight\"].fillna(mean_value, inplace=True)"
   ]
  },
  {
   "cell_type": "code",
   "execution_count": 662,
   "metadata": {},
   "outputs": [
    {
     "name": "stdout",
     "output_type": "stream",
     "text": [
      "HEAD NORMAL COORDINATE Y AXIS(Stage3) Collect Result_Dam\n",
      "377.1     0.405000\n",
      "377.3     0.443038\n",
      "377.5     0.589327\n",
      "1269.0    0.603846\n",
      "1271.3    0.477477\n",
      "1271.8    0.363636\n",
      "1383.9    0.421667\n",
      "Name: target, dtype: float64\n"
     ]
    }
   ],
   "source": [
    "# 20. HEAD NORMAL COORDINATE Y AXIS(Stage3) Collect Result_Dam\n",
    "target_ratio = df_concat.groupby(\"HEAD NORMAL COORDINATE Y AXIS(Stage3) Collect Result_Dam\")[\"target\"].mean()\n",
    "print(target_ratio)"
   ]
  },
  {
   "cell_type": "code",
   "execution_count": 663,
   "metadata": {},
   "outputs": [
    {
     "data": {
      "text/plain": [
       "HEAD NORMAL COORDINATE Y AXIS(Stage3) Collect Result_Dam_weight\n",
       "0.589327    1293\n",
       "0.421667     600\n",
       "0.405000     600\n",
       "0.443038     474\n",
       "0.603846     260\n",
       "0.477477     111\n",
       "0.363636      66\n",
       "Name: count, dtype: int64"
      ]
     },
     "execution_count": 663,
     "metadata": {},
     "output_type": "execute_result"
    }
   ],
   "source": [
    "df_concat[\"HEAD NORMAL COORDINATE Y AXIS(Stage3) Collect Result_Dam_weight\"] = df_concat[\"HEAD NORMAL COORDINATE Y AXIS(Stage3) Collect Result_Dam\"].map(target_ratio)\n",
    "df_concat[\"HEAD NORMAL COORDINATE Y AXIS(Stage3) Collect Result_Dam_weight\"].value_counts()"
   ]
  },
  {
   "cell_type": "code",
   "execution_count": 664,
   "metadata": {},
   "outputs": [
    {
     "data": {
      "text/plain": [
       "HEAD NORMAL COORDINATE Y AXIS(Stage3) Collect Result_Dam_weight\n",
       "0.405000    4712\n",
       "0.589327    3693\n",
       "0.421667    3004\n",
       "0.443038    1870\n",
       "0.603846     737\n",
       "0.477477     460\n",
       "0.363636     333\n",
       "Name: count, dtype: int64"
      ]
     },
     "execution_count": 664,
     "metadata": {},
     "output_type": "execute_result"
    }
   ],
   "source": [
    "test_data[\"HEAD NORMAL COORDINATE Y AXIS(Stage3) Collect Result_Dam_weight\"] = test_data[\"HEAD NORMAL COORDINATE Y AXIS(Stage3) Collect Result_Dam\"].map(target_ratio)\n",
    "test_data[\"HEAD NORMAL COORDINATE Y AXIS(Stage3) Collect Result_Dam_weight\"].value_counts()"
   ]
  },
  {
   "cell_type": "code",
   "execution_count": 665,
   "metadata": {},
   "outputs": [
    {
     "name": "stdout",
     "output_type": "stream",
     "text": [
      "2552\n"
     ]
    }
   ],
   "source": [
    "print(test_data[\"HEAD NORMAL COORDINATE Y AXIS(Stage3) Collect Result_Dam_weight\"].isnull().sum())"
   ]
  },
  {
   "cell_type": "code",
   "execution_count": 666,
   "metadata": {},
   "outputs": [
    {
     "name": "stderr",
     "output_type": "stream",
     "text": [
      "C:\\Users\\hwnam\\AppData\\Local\\Temp\\ipykernel_21144\\3901542498.py:2: FutureWarning: A value is trying to be set on a copy of a DataFrame or Series through chained assignment using an inplace method.\n",
      "The behavior will change in pandas 3.0. This inplace method will never work because the intermediate object on which we are setting values always behaves as a copy.\n",
      "\n",
      "For example, when doing 'df[col].method(value, inplace=True)', try using 'df.method({col: value}, inplace=True)' or df[col] = df[col].method(value) instead, to perform the operation inplace on the original object.\n",
      "\n",
      "\n",
      "  test_data[\"HEAD NORMAL COORDINATE Y AXIS(Stage3) Collect Result_Dam_weight\"].fillna(mean_value, inplace=True)\n"
     ]
    }
   ],
   "source": [
    "mean_value = test_data[\"HEAD NORMAL COORDINATE Y AXIS(Stage3) Collect Result_Dam_weight\"].mean()\n",
    "test_data[\"HEAD NORMAL COORDINATE Y AXIS(Stage3) Collect Result_Dam_weight\"].fillna(mean_value, inplace=True)"
   ]
  },
  {
   "cell_type": "code",
   "execution_count": 667,
   "metadata": {},
   "outputs": [
    {
     "name": "stdout",
     "output_type": "stream",
     "text": [
      "HEAD NORMAL COORDINATE Z AXIS(Stage1) Collect Result_Dam\n",
      "282.15     0.487912\n",
      "284.60     0.550388\n",
      "284.80     0.593133\n",
      "377.60     0.429648\n",
      "378.00     0.356436\n",
      "1271.80    0.421667\n",
      "Name: target, dtype: float64\n"
     ]
    }
   ],
   "source": [
    "# 21. HEAD NORMAL COORDINATE Z AXIS(Stage1) Collect Result_Dam\n",
    "target_ratio = df_concat.groupby(\"HEAD NORMAL COORDINATE Z AXIS(Stage1) Collect Result_Dam\")[\"target\"].mean()\n",
    "print(target_ratio)"
   ]
  },
  {
   "cell_type": "code",
   "execution_count": 668,
   "metadata": {},
   "outputs": [
    {
     "data": {
      "text/plain": [
       "HEAD NORMAL COORDINATE Z AXIS(Stage1) Collect Result_Dam_weight\n",
       "0.593133    1165\n",
       "0.487912     910\n",
       "0.421667     600\n",
       "0.429648     398\n",
       "0.356436     202\n",
       "0.550388     129\n",
       "Name: count, dtype: int64"
      ]
     },
     "execution_count": 668,
     "metadata": {},
     "output_type": "execute_result"
    }
   ],
   "source": [
    "df_concat[\"HEAD NORMAL COORDINATE Z AXIS(Stage1) Collect Result_Dam_weight\"] = df_concat[\"HEAD NORMAL COORDINATE Z AXIS(Stage1) Collect Result_Dam\"].map(target_ratio)\n",
    "df_concat[\"HEAD NORMAL COORDINATE Z AXIS(Stage1) Collect Result_Dam_weight\"].value_counts()"
   ]
  },
  {
   "cell_type": "code",
   "execution_count": 669,
   "metadata": {},
   "outputs": [
    {
     "data": {
      "text/plain": [
       "HEAD NORMAL COORDINATE Z AXIS(Stage1) Collect Result_Dam_weight\n",
       "0.421667    4442\n",
       "0.593133    3353\n",
       "0.487912    3318\n",
       "0.429648    3184\n",
       "0.356436    1469\n",
       "0.550388     341\n",
       "Name: count, dtype: int64"
      ]
     },
     "execution_count": 669,
     "metadata": {},
     "output_type": "execute_result"
    }
   ],
   "source": [
    "test_data[\"HEAD NORMAL COORDINATE Z AXIS(Stage1) Collect Result_Dam_weight\"] = test_data[\"HEAD NORMAL COORDINATE Z AXIS(Stage1) Collect Result_Dam\"].map(target_ratio)\n",
    "test_data[\"HEAD NORMAL COORDINATE Z AXIS(Stage1) Collect Result_Dam_weight\"].value_counts()"
   ]
  },
  {
   "cell_type": "code",
   "execution_count": 670,
   "metadata": {},
   "outputs": [
    {
     "name": "stdout",
     "output_type": "stream",
     "text": [
      "1254\n"
     ]
    }
   ],
   "source": [
    "print(test_data[\"HEAD NORMAL COORDINATE Z AXIS(Stage1) Collect Result_Dam_weight\"].isnull().sum())"
   ]
  },
  {
   "cell_type": "code",
   "execution_count": 671,
   "metadata": {},
   "outputs": [
    {
     "name": "stderr",
     "output_type": "stream",
     "text": [
      "C:\\Users\\hwnam\\AppData\\Local\\Temp\\ipykernel_21144\\2926648933.py:2: FutureWarning: A value is trying to be set on a copy of a DataFrame or Series through chained assignment using an inplace method.\n",
      "The behavior will change in pandas 3.0. This inplace method will never work because the intermediate object on which we are setting values always behaves as a copy.\n",
      "\n",
      "For example, when doing 'df[col].method(value, inplace=True)', try using 'df.method({col: value}, inplace=True)' or df[col] = df[col].method(value) instead, to perform the operation inplace on the original object.\n",
      "\n",
      "\n",
      "  test_data[\"HEAD NORMAL COORDINATE Z AXIS(Stage1) Collect Result_Dam_weight\"].fillna(mean_value, inplace=True)\n"
     ]
    }
   ],
   "source": [
    "mean_value = test_data[\"HEAD NORMAL COORDINATE Z AXIS(Stage1) Collect Result_Dam_weight\"].mean()\n",
    "test_data[\"HEAD NORMAL COORDINATE Z AXIS(Stage1) Collect Result_Dam_weight\"].fillna(mean_value, inplace=True)"
   ]
  },
  {
   "cell_type": "code",
   "execution_count": 672,
   "metadata": {},
   "outputs": [
    {
     "name": "stdout",
     "output_type": "stream",
     "text": [
      "HEAD NORMAL COORDINATE Z AXIS(Stage2) Collect Result_Dam\n",
      "273.800    0.472222\n",
      "274.000    0.583333\n",
      "274.200    0.400000\n",
      "274.330    0.354839\n",
      "274.400    0.337349\n",
      "274.510    0.232558\n",
      "274.780    0.425000\n",
      "280.894    0.445946\n",
      "281.095    0.465649\n",
      "281.222    0.560000\n",
      "281.226    0.384615\n",
      "281.300    0.500000\n",
      "281.324    0.258065\n",
      "281.413    0.235294\n",
      "281.424    0.000000\n",
      "281.430    0.428571\n",
      "281.513    0.142857\n",
      "281.517    0.333333\n",
      "282.150    0.487912\n",
      "282.343    0.436170\n",
      "282.500    0.454545\n",
      "284.600    0.550388\n",
      "284.800    0.593133\n",
      "Name: target, dtype: float64\n"
     ]
    }
   ],
   "source": [
    "# 22. HEAD NORMAL COORDINATE Z AXIS(Stage2) Collect Result_Dam\n",
    "target_ratio = df_concat.groupby(\"HEAD NORMAL COORDINATE Z AXIS(Stage2) Collect Result_Dam\")[\"target\"].mean()\n",
    "print(target_ratio)"
   ]
  },
  {
   "cell_type": "code",
   "execution_count": 673,
   "metadata": {},
   "outputs": [
    {
     "data": {
      "text/plain": [
       "HEAD NORMAL COORDINATE Z AXIS(Stage2) Collect Result_Dam_weight\n",
       "0.593133    1165\n",
       "0.487912     910\n",
       "0.436170     188\n",
       "0.454545     165\n",
       "0.445946     148\n",
       "0.465649     131\n",
       "0.550388     129\n",
       "0.337349      83\n",
       "0.400000      80\n",
       "0.354839      62\n",
       "0.232558      43\n",
       "0.425000      40\n",
       "0.583333      36\n",
       "0.333333      36\n",
       "0.472222      36\n",
       "0.428571      35\n",
       "0.235294      34\n",
       "0.258065      31\n",
       "0.560000      25\n",
       "0.384615      13\n",
       "0.142857       7\n",
       "0.500000       4\n",
       "0.000000       3\n",
       "Name: count, dtype: int64"
      ]
     },
     "execution_count": 673,
     "metadata": {},
     "output_type": "execute_result"
    }
   ],
   "source": [
    "df_concat[\"HEAD NORMAL COORDINATE Z AXIS(Stage2) Collect Result_Dam_weight\"] = df_concat[\"HEAD NORMAL COORDINATE Z AXIS(Stage2) Collect Result_Dam\"].map(target_ratio)\n",
    "df_concat[\"HEAD NORMAL COORDINATE Z AXIS(Stage2) Collect Result_Dam_weight\"].value_counts()"
   ]
  },
  {
   "cell_type": "code",
   "execution_count": 674,
   "metadata": {},
   "outputs": [
    {
     "data": {
      "text/plain": [
       "HEAD NORMAL COORDINATE Z AXIS(Stage2) Collect Result_Dam_weight\n",
       "0.487912    5718\n",
       "0.593133    3353\n",
       "0.354839    1283\n",
       "0.232558    1247\n",
       "0.454545     883\n",
       "0.436170     835\n",
       "0.465649     542\n",
       "0.445946     490\n",
       "0.400000     352\n",
       "0.337349     347\n",
       "0.550388     341\n",
       "0.428571     183\n",
       "0.583333     182\n",
       "0.472222     180\n",
       "0.333333     170\n",
       "0.235294     160\n",
       "0.425000     154\n",
       "0.258065     150\n",
       "0.560000      70\n",
       "0.384615      55\n",
       "0.500000      26\n",
       "0.000000      14\n",
       "0.142857       8\n",
       "Name: count, dtype: int64"
      ]
     },
     "execution_count": 674,
     "metadata": {},
     "output_type": "execute_result"
    }
   ],
   "source": [
    "test_data[\"HEAD NORMAL COORDINATE Z AXIS(Stage2) Collect Result_Dam_weight\"] = test_data[\"HEAD NORMAL COORDINATE Z AXIS(Stage2) Collect Result_Dam\"].map(target_ratio)\n",
    "test_data[\"HEAD NORMAL COORDINATE Z AXIS(Stage2) Collect Result_Dam_weight\"].value_counts()"
   ]
  },
  {
   "cell_type": "code",
   "execution_count": 675,
   "metadata": {},
   "outputs": [
    {
     "name": "stdout",
     "output_type": "stream",
     "text": [
      "618\n"
     ]
    }
   ],
   "source": [
    "print(test_data[\"HEAD NORMAL COORDINATE Z AXIS(Stage2) Collect Result_Dam_weight\"].isnull().sum())"
   ]
  },
  {
   "cell_type": "code",
   "execution_count": 676,
   "metadata": {},
   "outputs": [
    {
     "name": "stderr",
     "output_type": "stream",
     "text": [
      "C:\\Users\\hwnam\\AppData\\Local\\Temp\\ipykernel_21144\\1363309899.py:3: FutureWarning: A value is trying to be set on a copy of a DataFrame or Series through chained assignment using an inplace method.\n",
      "The behavior will change in pandas 3.0. This inplace method will never work because the intermediate object on which we are setting values always behaves as a copy.\n",
      "\n",
      "For example, when doing 'df[col].method(value, inplace=True)', try using 'df.method({col: value}, inplace=True)' or df[col] = df[col].method(value) instead, to perform the operation inplace on the original object.\n",
      "\n",
      "\n",
      "  test_data[\"HEAD NORMAL COORDINATE Z AXIS(Stage2) Collect Result_Dam_weight\"].fillna(mode_value, inplace=True)\n"
     ]
    }
   ],
   "source": [
    "# 최빈값으로 결측치 처리\n",
    "mode_value = test_data[\"HEAD NORMAL COORDINATE Z AXIS(Stage2) Collect Result_Dam_weight\"].mode()[0]\n",
    "test_data[\"HEAD NORMAL COORDINATE Z AXIS(Stage2) Collect Result_Dam_weight\"].fillna(mode_value, inplace=True)"
   ]
  },
  {
   "cell_type": "code",
   "execution_count": 677,
   "metadata": {},
   "outputs": [
    {
     "name": "stdout",
     "output_type": "stream",
     "text": [
      "HEAD NORMAL COORDINATE Z AXIS(Stage3) Collect Result_Dam\n",
      "273.800    0.472222\n",
      "274.000    0.583333\n",
      "274.200    0.400000\n",
      "274.330    0.354839\n",
      "274.400    0.337349\n",
      "274.510    0.232558\n",
      "274.780    0.425000\n",
      "280.894    0.445946\n",
      "281.095    0.465649\n",
      "281.222    0.560000\n",
      "281.226    0.384615\n",
      "281.300    0.500000\n",
      "281.324    0.258065\n",
      "281.413    0.235294\n",
      "281.424    0.000000\n",
      "281.430    0.428571\n",
      "281.513    0.142857\n",
      "281.517    0.333333\n",
      "282.150    0.487912\n",
      "282.343    0.436170\n",
      "282.500    0.454545\n",
      "284.600    0.550388\n",
      "284.800    0.593133\n",
      "Name: target, dtype: float64\n"
     ]
    }
   ],
   "source": [
    "# 22. HEAD NORMAL COORDINATE Z AXIS(Stage3) Collect Result_Dam\n",
    "target_ratio = df_concat.groupby(\"HEAD NORMAL COORDINATE Z AXIS(Stage3) Collect Result_Dam\")[\"target\"].mean()\n",
    "print(target_ratio)"
   ]
  },
  {
   "cell_type": "code",
   "execution_count": 678,
   "metadata": {},
   "outputs": [
    {
     "name": "stdout",
     "output_type": "stream",
     "text": [
      "(3404, 143)\n"
     ]
    }
   ],
   "source": [
    "# 22번과 동일한 값이므로 삭제\n",
    "del df_concat[\"HEAD NORMAL COORDINATE Z AXIS(Stage3) Collect Result_Dam\"]\n",
    "print(df_concat.shape)"
   ]
  },
  {
   "cell_type": "code",
   "execution_count": 679,
   "metadata": {},
   "outputs": [
    {
     "name": "stdout",
     "output_type": "stream",
     "text": [
      "HEAD Standby Position X Collect Result_Dam\n",
      "257.000    0.547187\n",
      "273.800    0.472222\n",
      "274.000    0.583333\n",
      "274.200    0.400000\n",
      "274.330    0.354839\n",
      "274.400    0.337349\n",
      "274.510    0.232558\n",
      "274.780    0.425000\n",
      "280.894    0.445946\n",
      "281.095    0.465649\n",
      "281.222    0.560000\n",
      "281.226    0.384615\n",
      "281.300    0.500000\n",
      "281.324    0.258065\n",
      "281.413    0.235294\n",
      "281.424    0.000000\n",
      "281.430    0.428571\n",
      "281.513    0.142857\n",
      "281.517    0.333333\n",
      "282.343    0.436170\n",
      "282.500    0.454545\n",
      "Name: target, dtype: float64\n"
     ]
    }
   ],
   "source": [
    "# HEAD Standby Position X Collect Result_Dam\n",
    "target_ratio = df_concat.groupby(\"HEAD Standby Position X Collect Result_Dam\")[\"target\"].mean()\n",
    "print(target_ratio) "
   ]
  },
  {
   "cell_type": "code",
   "execution_count": 680,
   "metadata": {},
   "outputs": [
    {
     "name": "stdout",
     "output_type": "stream",
     "text": [
      "(3404, 142)\n"
     ]
    }
   ],
   "source": [
    "# 22번과 동일한 값이므로 삭제\n",
    "del df_concat[\"HEAD Standby Position X Collect Result_Dam\"]\n",
    "print(df_concat.shape)"
   ]
  },
  {
   "cell_type": "code",
   "execution_count": 681,
   "metadata": {},
   "outputs": [
    {
     "name": "stdout",
     "output_type": "stream",
     "text": [
      "HEAD Standby Position Y Collect Result_Dam\n",
      "66     0.547187\n",
      "257    0.413333\n",
      "Name: target, dtype: float64\n"
     ]
    }
   ],
   "source": [
    "# 24. HEAD Standby Position Y Collect Result_Dam\n",
    "target_ratio = df_concat.groupby(\"HEAD Standby Position Y Collect Result_Dam\")[\"target\"].mean()\n",
    "print(target_ratio)"
   ]
  },
  {
   "cell_type": "code",
   "execution_count": 682,
   "metadata": {},
   "outputs": [
    {
     "name": "stdout",
     "output_type": "stream",
     "text": [
      "(3404, 141)\n"
     ]
    }
   ],
   "source": [
    "# 10번과 동일한 값이므로 삭제\n",
    "del df_concat[\"HEAD Standby Position Y Collect Result_Dam\"]\n",
    "print(df_concat.shape)"
   ]
  },
  {
   "cell_type": "code",
   "execution_count": 683,
   "metadata": {},
   "outputs": [
    {
     "name": "stdout",
     "output_type": "stream",
     "text": [
      "HEAD Standby Position Z Collect Result_Dam\n",
      "0     0.547187\n",
      "66    0.413333\n",
      "Name: target, dtype: float64\n"
     ]
    }
   ],
   "source": [
    "# 25. HEAD Standby Position Z Collect Result_Dam\n",
    "target_ratio = df_concat.groupby(\"HEAD Standby Position Z Collect Result_Dam\")[\"target\"].mean()\n",
    "print(target_ratio)"
   ]
  },
  {
   "cell_type": "code",
   "execution_count": 684,
   "metadata": {},
   "outputs": [
    {
     "name": "stdout",
     "output_type": "stream",
     "text": [
      "(3404, 140)\n"
     ]
    }
   ],
   "source": [
    "# 10번과 동일한 값이므로 삭제\n",
    "del df_concat[\"HEAD Standby Position Z Collect Result_Dam\"]\n",
    "print(df_concat.shape)"
   ]
  },
  {
   "cell_type": "code",
   "execution_count": 685,
   "metadata": {},
   "outputs": [
    {
     "name": "stdout",
     "output_type": "stream",
     "text": [
      "Head Clean Position X Collect Result_Dam\n",
      "0.0      0.413333\n",
      "127.5    0.547187\n",
      "Name: target, dtype: float64\n"
     ]
    }
   ],
   "source": [
    "# 26. Head Clean Position X Collect Result_Dam\n",
    "target_ratio = df_concat.groupby(\"Head Clean Position X Collect Result_Dam\")[\"target\"].mean()\n",
    "print(target_ratio)"
   ]
  },
  {
   "cell_type": "code",
   "execution_count": 686,
   "metadata": {},
   "outputs": [
    {
     "name": "stdout",
     "output_type": "stream",
     "text": [
      "(3404, 139)\n"
     ]
    }
   ],
   "source": [
    "# 10번과 동일한 값이므로 삭제\n",
    "del df_concat[\"Head Clean Position X Collect Result_Dam\"]\n",
    "print(df_concat.shape)"
   ]
  },
  {
   "cell_type": "code",
   "execution_count": 687,
   "metadata": {},
   "outputs": [
    {
     "name": "stdout",
     "output_type": "stream",
     "text": [
      "Head Clean Position Y Collect Result_Dam\n",
      "66.0     0.547187\n",
      "127.5    0.413333\n",
      "Name: target, dtype: float64\n"
     ]
    }
   ],
   "source": [
    "# 27. Head Clean Position Y Collect Result_Dam\n",
    "target_ratio = df_concat.groupby(\"Head Clean Position Y Collect Result_Dam\")[\"target\"].mean()\n",
    "print(target_ratio)"
   ]
  },
  {
   "cell_type": "code",
   "execution_count": 688,
   "metadata": {},
   "outputs": [
    {
     "name": "stdout",
     "output_type": "stream",
     "text": [
      "(3404, 138)\n"
     ]
    }
   ],
   "source": [
    "# 10번과 동일한 값이므로 삭제\n",
    "del df_concat[\"Head Clean Position Y Collect Result_Dam\"]\n",
    "print(df_concat.shape)"
   ]
  },
  {
   "cell_type": "code",
   "execution_count": 689,
   "metadata": {},
   "outputs": [
    {
     "name": "stdout",
     "output_type": "stream",
     "text": [
      "Head Clean Position Z Collect Result_Dam\n",
      "66.00     0.413333\n",
      "124.50    0.682927\n",
      "130.85    0.487912\n",
      "133.50    0.585794\n",
      "Name: target, dtype: float64\n"
     ]
    }
   ],
   "source": [
    "# 28. Head Clean Position Z Collect Result_Dam\n",
    "target_ratio = df_concat.groupby(\"Head Clean Position Z Collect Result_Dam\")[\"target\"].mean()\n",
    "print(target_ratio)"
   ]
  },
  {
   "cell_type": "code",
   "execution_count": 690,
   "metadata": {},
   "outputs": [
    {
     "data": {
      "text/plain": [
       "Head Clean Position Z Collect Result_Dam_weight\n",
       "0.585794    1253\n",
       "0.413333    1200\n",
       "0.487912     910\n",
       "0.682927      41\n",
       "Name: count, dtype: int64"
      ]
     },
     "execution_count": 690,
     "metadata": {},
     "output_type": "execute_result"
    }
   ],
   "source": [
    "df_concat[\"Head Clean Position Z Collect Result_Dam_weight\"] = df_concat[\"Head Clean Position Z Collect Result_Dam\"].map(target_ratio)\n",
    "df_concat[\"Head Clean Position Z Collect Result_Dam_weight\"].value_counts()"
   ]
  },
  {
   "cell_type": "code",
   "execution_count": 691,
   "metadata": {},
   "outputs": [
    {
     "data": {
      "text/plain": [
       "Head Clean Position Z Collect Result_Dam_weight\n",
       "0.413333    10349\n",
       "0.585794     3513\n",
       "0.487912     3317\n",
       "0.682927      182\n",
       "Name: count, dtype: int64"
      ]
     },
     "execution_count": 691,
     "metadata": {},
     "output_type": "execute_result"
    }
   ],
   "source": [
    "test_data[\"Head Clean Position Z Collect Result_Dam_weight\"] = test_data[\"Head Clean Position Z Collect Result_Dam\"].map(target_ratio)\n",
    "test_data[\"Head Clean Position Z Collect Result_Dam_weight\"].value_counts()"
   ]
  },
  {
   "cell_type": "code",
   "execution_count": 692,
   "metadata": {},
   "outputs": [
    {
     "name": "stdout",
     "output_type": "stream",
     "text": [
      "0\n"
     ]
    }
   ],
   "source": [
    "print(test_data[\"Head Clean Position Z Collect Result_Dam_weight\"].isnull().sum())"
   ]
  },
  {
   "cell_type": "code",
   "execution_count": 693,
   "metadata": {},
   "outputs": [
    {
     "name": "stdout",
     "output_type": "stream",
     "text": [
      "Head Purge Position X Collect Result_Dam\n",
      "118.85    0.000000\n",
      "124.00    0.387863\n",
      "130.85    0.425610\n",
      "257.00    0.547187\n",
      "Name: target, dtype: float64\n"
     ]
    }
   ],
   "source": [
    "# 29. Head Purge Position X Collect Result_Dam\n",
    "target_ratio = df_concat.groupby(\"Head Purge Position X Collect Result_Dam\")[\"target\"].mean()\n",
    "print(target_ratio)"
   ]
  },
  {
   "cell_type": "code",
   "execution_count": 694,
   "metadata": {},
   "outputs": [
    {
     "data": {
      "text/plain": [
       "Head Purge Position X Collect Result_Dam_weight\n",
       "0.547187    2204\n",
       "0.425610     820\n",
       "0.387863     379\n",
       "0.000000       1\n",
       "Name: count, dtype: int64"
      ]
     },
     "execution_count": 694,
     "metadata": {},
     "output_type": "execute_result"
    }
   ],
   "source": [
    "df_concat[\"Head Purge Position X Collect Result_Dam_weight\"] = df_concat[\"Head Purge Position X Collect Result_Dam\"].map(target_ratio)\n",
    "df_concat[\"Head Purge Position X Collect Result_Dam_weight\"].value_counts()"
   ]
  },
  {
   "cell_type": "code",
   "execution_count": 695,
   "metadata": {},
   "outputs": [
    {
     "name": "stdout",
     "output_type": "stream",
     "text": [
      "(3404, 138)\n"
     ]
    }
   ],
   "source": [
    "# 1개만 데이터 있는 값이 있어서 무의미 하다고 생각하여 삭제\n",
    "del df_concat[\"Head Purge Position X Collect Result_Dam\"]\n",
    "del df_concat[\"Head Purge Position X Collect Result_Dam_weight\"]\n",
    "print(df_concat.shape)"
   ]
  },
  {
   "cell_type": "code",
   "execution_count": 696,
   "metadata": {},
   "outputs": [
    {
     "name": "stdout",
     "output_type": "stream",
     "text": [
      "Head Purge Position Y Collect Result_Dam\n",
      "66     0.547187\n",
      "257    0.413333\n",
      "Name: target, dtype: float64\n"
     ]
    }
   ],
   "source": [
    "# 30. Head Purge Position Y Collect Result_Dam\n",
    "target_ratio = df_concat.groupby(\"Head Purge Position Y Collect Result_Dam\")[\"target\"].mean()\n",
    "print(target_ratio)"
   ]
  },
  {
   "cell_type": "code",
   "execution_count": 697,
   "metadata": {},
   "outputs": [
    {
     "name": "stdout",
     "output_type": "stream",
     "text": [
      "(3404, 137)\n"
     ]
    }
   ],
   "source": [
    "# 10번과 동일한 값이므로 삭제\n",
    "del df_concat[\"Head Purge Position Y Collect Result_Dam\"]\n",
    "print(df_concat.shape)"
   ]
  },
  {
   "cell_type": "code",
   "execution_count": 698,
   "metadata": {},
   "outputs": [
    {
     "name": "stdout",
     "output_type": "stream",
     "text": [
      "Head Purge Position Z Collect Result_Dam\n",
      "66.00     0.413333\n",
      "124.50    0.682927\n",
      "130.85    0.487321\n",
      "133.50    0.585987\n",
      "Name: target, dtype: float64\n"
     ]
    }
   ],
   "source": [
    "# 31. Head Purge Position Z Collect Result_Dam\n",
    "target_ratio = df_concat.groupby(\"Head Purge Position Z Collect Result_Dam\")[\"target\"].mean()\n",
    "print(target_ratio)"
   ]
  },
  {
   "cell_type": "code",
   "execution_count": 699,
   "metadata": {},
   "outputs": [
    {
     "name": "stdout",
     "output_type": "stream",
     "text": [
      "(3404, 136)\n"
     ]
    }
   ],
   "source": [
    "# 28번과 비슷한 값이므로 삭제\n",
    "del df_concat[\"Head Purge Position Z Collect Result_Dam\"]\n",
    "print(df_concat.shape)"
   ]
  },
  {
   "cell_type": "code",
   "execution_count": 700,
   "metadata": {},
   "outputs": [
    {
     "name": "stdout",
     "output_type": "stream",
     "text": [
      "Head Zero Position X Collect Result_Dam\n",
      "130.85    0.413333\n",
      "505.00    0.547187\n",
      "Name: target, dtype: float64\n"
     ]
    }
   ],
   "source": [
    "# 32. Head Zero Position X Collect Result_Dam\n",
    "target_ratio = df_concat.groupby(\"Head Zero Position X Collect Result_Dam\")[\"target\"].mean()\n",
    "print(target_ratio)"
   ]
  },
  {
   "cell_type": "code",
   "execution_count": 701,
   "metadata": {},
   "outputs": [
    {
     "name": "stdout",
     "output_type": "stream",
     "text": [
      "(3404, 135)\n"
     ]
    }
   ],
   "source": [
    "# 10번과 동일한 값이므로 삭제\n",
    "del df_concat[\"Head Zero Position X Collect Result_Dam\"]\n",
    "print(df_concat.shape)"
   ]
  },
  {
   "cell_type": "code",
   "execution_count": 702,
   "metadata": {},
   "outputs": [
    {
     "name": "stdout",
     "output_type": "stream",
     "text": [
      "Head Zero Position Y Collect Result_Dam\n",
      "300.0    0.522124\n",
      "303.5    0.597279\n",
      "505.0    0.413333\n",
      "Name: target, dtype: float64\n"
     ]
    }
   ],
   "source": [
    "# 33. Head Zero Position Y Collect Result_Dam\n",
    "target_ratio = df_concat.groupby(\"Head Zero Position Y Collect Result_Dam\")[\"target\"].mean()\n",
    "print(target_ratio)"
   ]
  },
  {
   "cell_type": "code",
   "execution_count": 703,
   "metadata": {},
   "outputs": [
    {
     "data": {
      "text/plain": [
       "Head Zero Position Y Collect Result_Dam_weight\n",
       "0.522124    1469\n",
       "0.413333    1200\n",
       "0.597279     735\n",
       "Name: count, dtype: int64"
      ]
     },
     "execution_count": 703,
     "metadata": {},
     "output_type": "execute_result"
    }
   ],
   "source": [
    "df_concat[\"Head Zero Position Y Collect Result_Dam_weight\"] = df_concat[\"Head Zero Position Y Collect Result_Dam\"].map(target_ratio)\n",
    "df_concat[\"Head Zero Position Y Collect Result_Dam_weight\"].value_counts()"
   ]
  },
  {
   "cell_type": "code",
   "execution_count": 704,
   "metadata": {},
   "outputs": [
    {
     "data": {
      "text/plain": [
       "Head Zero Position Y Collect Result_Dam_weight\n",
       "0.413333    10349\n",
       "0.522124     4951\n",
       "0.597279     2061\n",
       "Name: count, dtype: int64"
      ]
     },
     "execution_count": 704,
     "metadata": {},
     "output_type": "execute_result"
    }
   ],
   "source": [
    "test_data[\"Head Zero Position Y Collect Result_Dam_weight\"] = test_data[\"Head Zero Position Y Collect Result_Dam\"].map(target_ratio)\n",
    "test_data[\"Head Zero Position Y Collect Result_Dam_weight\"].value_counts()"
   ]
  },
  {
   "cell_type": "code",
   "execution_count": 705,
   "metadata": {},
   "outputs": [
    {
     "name": "stdout",
     "output_type": "stream",
     "text": [
      "0\n"
     ]
    }
   ],
   "source": [
    "print(test_data[\"Head Zero Position Y Collect Result_Dam_weight\"].isnull().sum())"
   ]
  },
  {
   "cell_type": "code",
   "execution_count": 706,
   "metadata": {},
   "outputs": [
    {
     "name": "stdout",
     "output_type": "stream",
     "text": [
      "Head Zero Position Z Collect Result_Dam\n",
      "265.0    0.547187\n",
      "300.0    0.413333\n",
      "Name: target, dtype: float64\n"
     ]
    }
   ],
   "source": [
    "# 34. Head Zero Position Z Collect Result_Dam\n",
    "target_ratio = df_concat.groupby(\"Head Zero Position Z Collect Result_Dam\")[\"target\"].mean()\n",
    "print(target_ratio)"
   ]
  },
  {
   "cell_type": "code",
   "execution_count": 707,
   "metadata": {},
   "outputs": [
    {
     "name": "stdout",
     "output_type": "stream",
     "text": [
      "(3404, 135)\n"
     ]
    }
   ],
   "source": [
    "# 10번과 동일한 값이므로 삭제\n",
    "del df_concat[\"Head Zero Position Z Collect Result_Dam\"]\n",
    "print(df_concat.shape)"
   ]
  },
  {
   "cell_type": "code",
   "execution_count": 708,
   "metadata": {},
   "outputs": [
    {
     "name": "stdout",
     "output_type": "stream",
     "text": [
      "Machine Tact time Collect Result_Dam\n",
      "48.00     0.000000\n",
      "48.30     0.000000\n",
      "49.10     1.000000\n",
      "51.00     0.000000\n",
      "51.20     1.000000\n",
      "            ...   \n",
      "104.00    0.500000\n",
      "104.10    0.000000\n",
      "197.30    1.000000\n",
      "265.02    0.413333\n",
      "999.90    1.000000\n",
      "Name: target, Length: 148, dtype: float64\n"
     ]
    }
   ],
   "source": [
    "# 35. Machine Tact time Collect Result_Dam\n",
    "target_ratio = df_concat.groupby(\"Machine Tact time Collect Result_Dam\")[\"target\"].mean()\n",
    "print(target_ratio)"
   ]
  },
  {
   "cell_type": "code",
   "execution_count": 709,
   "metadata": {},
   "outputs": [
    {
     "name": "stdout",
     "output_type": "stream",
     "text": [
      "(3404, 134)\n"
     ]
    }
   ],
   "source": [
    "del df_concat[\"Machine Tact time Collect Result_Dam\"]\n",
    "print(df_concat.shape)"
   ]
  },
  {
   "cell_type": "code",
   "execution_count": 710,
   "metadata": {},
   "outputs": [
    {
     "name": "stdout",
     "output_type": "stream",
     "text": [
      "PalletID Collect Result_Dam\n",
      "1.0      0.565854\n",
      "2.0      0.547414\n",
      "3.0      0.562232\n",
      "4.0      0.554502\n",
      "5.0      0.532110\n",
      "           ...   \n",
      "101.4    0.000000\n",
      "101.6    0.000000\n",
      "102.0    1.000000\n",
      "135.4    1.000000\n",
      "243.1    1.000000\n",
      "Name: target, Length: 156, dtype: float64\n"
     ]
    }
   ],
   "source": [
    "# 36. PalletID Collect Result_Dam\n",
    "target_ratio = df_concat.groupby(\"PalletID Collect Result_Dam\")[\"target\"].mean()\n",
    "print(target_ratio) "
   ]
  },
  {
   "cell_type": "code",
   "execution_count": 711,
   "metadata": {},
   "outputs": [
    {
     "name": "stdout",
     "output_type": "stream",
     "text": [
      "(3404, 133)\n"
     ]
    }
   ],
   "source": [
    "del df_concat[\"PalletID Collect Result_Dam\"]\n",
    "print(df_concat.shape)"
   ]
  },
  {
   "cell_type": "code",
   "execution_count": 712,
   "metadata": {},
   "outputs": [
    {
     "name": "stdout",
     "output_type": "stream",
     "text": [
      "Production Qty Collect Result_Dam\n",
      "0      0.750000\n",
      "1      0.421053\n",
      "2      0.470588\n",
      "3      0.467391\n",
      "4      0.350649\n",
      "         ...   \n",
      "465    0.000000\n",
      "468    0.000000\n",
      "470    1.000000\n",
      "485    1.000000\n",
      "487    1.000000\n",
      "Name: target, Length: 424, dtype: float64\n"
     ]
    }
   ],
   "source": [
    "# 37. Production Qty Collect Result_Dam\n",
    "target_ratio = df_concat.groupby(\"Production Qty Collect Result_Dam\")[\"target\"].mean()\n",
    "print(target_ratio)"
   ]
  },
  {
   "cell_type": "code",
   "execution_count": 713,
   "metadata": {},
   "outputs": [
    {
     "name": "stdout",
     "output_type": "stream",
     "text": [
      "(3404, 132)\n"
     ]
    }
   ],
   "source": [
    "del df_concat[\"Production Qty Collect Result_Dam\"]\n",
    "print(df_concat.shape)"
   ]
  },
  {
   "cell_type": "code",
   "execution_count": 714,
   "metadata": {},
   "outputs": [
    {
     "name": "stdout",
     "output_type": "stream",
     "text": [
      "Receip No Collect Result_Dam\n",
      "0      0.714286\n",
      "1      0.547349\n",
      "2      1.000000\n",
      "3      0.333333\n",
      "4      0.750000\n",
      "         ...   \n",
      "591    0.000000\n",
      "596    0.000000\n",
      "597    0.000000\n",
      "599    0.000000\n",
      "608    0.000000\n",
      "Name: target, Length: 470, dtype: float64\n"
     ]
    }
   ],
   "source": [
    "# 38. Receip No Collect Result_Dam\n",
    "target_ratio = df_concat.groupby(\"Receip No Collect Result_Dam\")[\"target\"].mean()\n",
    "print(target_ratio)"
   ]
  },
  {
   "cell_type": "code",
   "execution_count": 715,
   "metadata": {},
   "outputs": [
    {
     "name": "stdout",
     "output_type": "stream",
     "text": [
      "(3404, 131)\n"
     ]
    }
   ],
   "source": [
    "del df_concat[\"Receip No Collect Result_Dam\"]\n",
    "print(df_concat.shape)"
   ]
  },
  {
   "cell_type": "code",
   "execution_count": 716,
   "metadata": {},
   "outputs": [
    {
     "name": "stdout",
     "output_type": "stream",
     "text": [
      "Stage1 Circle1 Distance Speed Collect Result_Dam\n",
      "1       0.399277\n",
      "6       0.586957\n",
      "9       0.000000\n",
      "4000    0.394366\n",
      "5000    0.523156\n",
      "9000    0.571332\n",
      "Name: target, dtype: float64\n"
     ]
    }
   ],
   "source": [
    "# 39. Stage1 Circle1 Distance Speed Collect Result_Dam\n",
    "target_ratio = df_concat.groupby(\"Stage1 Circle1 Distance Speed Collect Result_Dam\")[\"target\"].mean()\n",
    "print(target_ratio)"
   ]
  },
  {
   "cell_type": "code",
   "execution_count": 717,
   "metadata": {},
   "outputs": [
    {
     "data": {
      "text/plain": [
       "Stage1 Circle1 Distance Speed Collect Result_Dam_weight\n",
       "0.571332    1479\n",
       "0.399277    1107\n",
       "0.523156     583\n",
       "0.394366     142\n",
       "0.586957      92\n",
       "0.000000       1\n",
       "Name: count, dtype: int64"
      ]
     },
     "execution_count": 717,
     "metadata": {},
     "output_type": "execute_result"
    }
   ],
   "source": [
    "df_concat[\"Stage1 Circle1 Distance Speed Collect Result_Dam_weight\"] = df_concat[\"Stage1 Circle1 Distance Speed Collect Result_Dam\"].map(target_ratio)\n",
    "df_concat[\"Stage1 Circle1 Distance Speed Collect Result_Dam_weight\"].value_counts()"
   ]
  },
  {
   "cell_type": "code",
   "execution_count": 718,
   "metadata": {},
   "outputs": [
    {
     "name": "stdout",
     "output_type": "stream",
     "text": [
      "(3404, 130)\n"
     ]
    }
   ],
   "source": [
    "del df_concat[\"Stage1 Circle1 Distance Speed Collect Result_Dam\"]\n",
    "del df_concat[\"Stage1 Circle1 Distance Speed Collect Result_Dam_weight\"]\n",
    "print(df_concat.shape)"
   ]
  },
  {
   "cell_type": "code",
   "execution_count": 719,
   "metadata": {},
   "outputs": [
    {
     "name": "stdout",
     "output_type": "stream",
     "text": [
      "Stage1 Circle2 Distance Speed Collect Result_Dam\n",
      "4000    0.394366\n",
      "5000    0.523156\n",
      "5800    0.285714\n",
      "6000    0.427536\n",
      "6200    0.441176\n",
      "6500    0.419624\n",
      "9000    0.571332\n",
      "Name: target, dtype: float64\n"
     ]
    }
   ],
   "source": [
    "# 40. Stage1 Circle2 Distance Speed Collect Result_Dam\n",
    "target_ratio = df_concat.groupby(\"Stage1 Circle2 Distance Speed Collect Result_Dam\")[\"target\"].mean()\n",
    "print(target_ratio)"
   ]
  },
  {
   "cell_type": "code",
   "execution_count": 720,
   "metadata": {},
   "outputs": [
    {
     "data": {
      "text/plain": [
       "Stage1 Circle2 Distance Speed Collect Result_Dam_weight\n",
       "0.571332    1479\n",
       "0.419624     958\n",
       "0.523156     583\n",
       "0.394366     142\n",
       "0.427536     138\n",
       "0.285714      70\n",
       "0.441176      34\n",
       "Name: count, dtype: int64"
      ]
     },
     "execution_count": 720,
     "metadata": {},
     "output_type": "execute_result"
    }
   ],
   "source": [
    "df_concat[\"Stage1 Circle2 Distance Speed Collect Result_Dam_weight\"] = df_concat[\"Stage1 Circle2 Distance Speed Collect Result_Dam\"].map(target_ratio)\n",
    "df_concat[\"Stage1 Circle2 Distance Speed Collect Result_Dam_weight\"].value_counts()"
   ]
  },
  {
   "cell_type": "code",
   "execution_count": 721,
   "metadata": {},
   "outputs": [
    {
     "data": {
      "text/plain": [
       "Stage1 Circle2 Distance Speed Collect Result_Dam_weight\n",
       "0.419624    5386\n",
       "0.571332    4317\n",
       "0.394366    2537\n",
       "0.285714    2346\n",
       "0.523156    2090\n",
       "0.427536     569\n",
       "0.441176     116\n",
       "Name: count, dtype: int64"
      ]
     },
     "execution_count": 721,
     "metadata": {},
     "output_type": "execute_result"
    }
   ],
   "source": [
    "test_data[\"Stage1 Circle2 Distance Speed Collect Result_Dam_weight\"] = test_data[\"Stage1 Circle2 Distance Speed Collect Result_Dam\"].map(target_ratio)\n",
    "test_data[\"Stage1 Circle2 Distance Speed Collect Result_Dam_weight\"].value_counts()"
   ]
  },
  {
   "cell_type": "code",
   "execution_count": 722,
   "metadata": {},
   "outputs": [
    {
     "name": "stdout",
     "output_type": "stream",
     "text": [
      "0\n"
     ]
    }
   ],
   "source": [
    "print(test_data[\"Stage1 Circle2 Distance Speed Collect Result_Dam_weight\"].isnull().sum())"
   ]
  },
  {
   "cell_type": "code",
   "execution_count": 723,
   "metadata": {},
   "outputs": [
    {
     "name": "stdout",
     "output_type": "stream",
     "text": [
      "Stage1 Circle3 Distance Speed Collect Result_Dam\n",
      "4000    0.394366\n",
      "5000    0.523156\n",
      "5800    0.285714\n",
      "6000    0.427536\n",
      "6200    0.441176\n",
      "6500    0.419624\n",
      "9000    0.571332\n",
      "Name: target, dtype: float64\n"
     ]
    }
   ],
   "source": [
    "# 41. Stage1 Circle3 Distance Speed Collect Result_Dam\n",
    "target_ratio = df_concat.groupby(\"Stage1 Circle3 Distance Speed Collect Result_Dam\")[\"target\"].mean()\n",
    "print(target_ratio)"
   ]
  },
  {
   "cell_type": "code",
   "execution_count": 724,
   "metadata": {},
   "outputs": [
    {
     "name": "stdout",
     "output_type": "stream",
     "text": [
      "(3404, 130)\n"
     ]
    }
   ],
   "source": [
    "# 40번과 동일한 값이므로 삭제\n",
    "del df_concat[\"Stage1 Circle3 Distance Speed Collect Result_Dam\"]\n",
    "print(df_concat.shape)"
   ]
  },
  {
   "cell_type": "code",
   "execution_count": 725,
   "metadata": {},
   "outputs": [
    {
     "name": "stdout",
     "output_type": "stream",
     "text": [
      "Stage1 Circle4 Distance Speed Collect Result_Dam\n",
      "4000    0.394366\n",
      "5000    0.523156\n",
      "5800    0.285714\n",
      "6000    0.427536\n",
      "6200    0.441176\n",
      "6500    0.419624\n",
      "9000    0.571332\n",
      "Name: target, dtype: float64\n"
     ]
    }
   ],
   "source": [
    "# 42. Stage1 Circle4 Distance Speed Collect Result_Dam\n",
    "target_ratio = df_concat.groupby(\"Stage1 Circle4 Distance Speed Collect Result_Dam\")[\"target\"].mean()\n",
    "print(target_ratio)"
   ]
  },
  {
   "cell_type": "code",
   "execution_count": 726,
   "metadata": {},
   "outputs": [
    {
     "name": "stdout",
     "output_type": "stream",
     "text": [
      "(3404, 129)\n"
     ]
    }
   ],
   "source": [
    "# 40번과 동일한 값이므로 삭제\n",
    "del df_concat[\"Stage1 Circle4 Distance Speed Collect Result_Dam\"]\n",
    "print(df_concat.shape)"
   ]
  },
  {
   "cell_type": "code",
   "execution_count": 727,
   "metadata": {},
   "outputs": [
    {
     "name": "stdout",
     "output_type": "stream",
     "text": [
      "Stage1 Line1 Distance Speed Collect Result_Dam\n",
      "4000    0.394366\n",
      "5000    0.523156\n",
      "5800    0.285714\n",
      "6000    0.427536\n",
      "6200    0.441176\n",
      "6500    0.419624\n",
      "7000    0.857143\n",
      "9000    0.568601\n",
      "Name: target, dtype: float64\n"
     ]
    }
   ],
   "source": [
    "# 43. Stage1 Line1 Distance Speed Collect Result_Dam\n",
    "target_ratio = df_concat.groupby(\"Stage1 Line1 Distance Speed Collect Result_Dam\")[\"target\"].mean()\n",
    "print(target_ratio)"
   ]
  },
  {
   "cell_type": "code",
   "execution_count": 728,
   "metadata": {},
   "outputs": [
    {
     "data": {
      "text/plain": [
       "Stage1 Line1 Distance Speed Collect Result_Dam_weight\n",
       "0.568601    1465\n",
       "0.419624     958\n",
       "0.523156     583\n",
       "0.394366     142\n",
       "0.427536     138\n",
       "0.285714      70\n",
       "0.441176      34\n",
       "0.857143      14\n",
       "Name: count, dtype: int64"
      ]
     },
     "execution_count": 728,
     "metadata": {},
     "output_type": "execute_result"
    }
   ],
   "source": [
    "df_concat[\"Stage1 Line1 Distance Speed Collect Result_Dam_weight\"] = df_concat[\"Stage1 Line1 Distance Speed Collect Result_Dam\"].map(target_ratio)\n",
    "df_concat[\"Stage1 Line1 Distance Speed Collect Result_Dam_weight\"].value_counts()"
   ]
  },
  {
   "cell_type": "code",
   "execution_count": 729,
   "metadata": {},
   "outputs": [
    {
     "data": {
      "text/plain": [
       "Stage1 Line1 Distance Speed Collect Result_Dam_weight\n",
       "0.419624    5386\n",
       "0.568601    4247\n",
       "0.394366    2537\n",
       "0.285714    2346\n",
       "0.523156    2090\n",
       "0.427536     569\n",
       "0.441176     116\n",
       "0.857143      70\n",
       "Name: count, dtype: int64"
      ]
     },
     "execution_count": 729,
     "metadata": {},
     "output_type": "execute_result"
    }
   ],
   "source": [
    "test_data[\"Stage1 Line1 Distance Speed Collect Result_Dam_weight\"] = test_data[\"Stage1 Line1 Distance Speed Collect Result_Dam\"].map(target_ratio)\n",
    "test_data[\"Stage1 Line1 Distance Speed Collect Result_Dam_weight\"].value_counts()"
   ]
  },
  {
   "cell_type": "code",
   "execution_count": 730,
   "metadata": {},
   "outputs": [
    {
     "name": "stdout",
     "output_type": "stream",
     "text": [
      "0\n"
     ]
    }
   ],
   "source": [
    "print(test_data[\"Stage1 Line1 Distance Speed Collect Result_Dam_weight\"].isnull().sum())"
   ]
  },
  {
   "cell_type": "code",
   "execution_count": 731,
   "metadata": {},
   "outputs": [
    {
     "name": "stdout",
     "output_type": "stream",
     "text": [
      "Stage1 Line2 Distance Speed Collect Result_Dam\n",
      "4000    0.394366\n",
      "5000    0.523156\n",
      "5800    0.285714\n",
      "6000    0.410256\n",
      "6200    0.441176\n",
      "6500    0.422340\n",
      "9000    0.571332\n",
      "Name: target, dtype: float64\n"
     ]
    }
   ],
   "source": [
    "# 44. Stage1 Line2 Distance Speed Collect Result_Dam\n",
    "target_ratio = df_concat.groupby(\"Stage1 Line2 Distance Speed Collect Result_Dam\")[\"target\"].mean()\n",
    "print(target_ratio)"
   ]
  },
  {
   "cell_type": "code",
   "execution_count": 732,
   "metadata": {},
   "outputs": [
    {
     "name": "stdout",
     "output_type": "stream",
     "text": [
      "(3404, 129)\n"
     ]
    }
   ],
   "source": [
    "# 40번과 동일한 값이므로 삭제\n",
    "del df_concat[\"Stage1 Line2 Distance Speed Collect Result_Dam\"]\n",
    "print(df_concat.shape)"
   ]
  },
  {
   "cell_type": "code",
   "execution_count": 733,
   "metadata": {},
   "outputs": [
    {
     "name": "stdout",
     "output_type": "stream",
     "text": [
      "Stage1 Line3 Distance Speed Collect Result_Dam\n",
      "4000    0.394366\n",
      "5000    0.523156\n",
      "5800    0.285714\n",
      "6000    0.427536\n",
      "6200    0.441176\n",
      "6500    0.419624\n",
      "7000    0.857143\n",
      "9000    0.568601\n",
      "Name: target, dtype: float64\n"
     ]
    }
   ],
   "source": [
    "# 45. Stage1 Line3 Distance Speed Collect Result_Dam\n",
    "target_ratio = df_concat.groupby(\"Stage1 Line3 Distance Speed Collect Result_Dam\")[\"target\"].mean()\n",
    "print(target_ratio)"
   ]
  },
  {
   "cell_type": "code",
   "execution_count": 734,
   "metadata": {},
   "outputs": [
    {
     "name": "stdout",
     "output_type": "stream",
     "text": [
      "(3404, 128)\n"
     ]
    }
   ],
   "source": [
    "# 43번과 동일한 값이므로 삭제\n",
    "del df_concat[\"Stage1 Line3 Distance Speed Collect Result_Dam\"]\n",
    "print(df_concat.shape)"
   ]
  },
  {
   "cell_type": "code",
   "execution_count": 735,
   "metadata": {},
   "outputs": [
    {
     "name": "stdout",
     "output_type": "stream",
     "text": [
      "Stage1 Line4 Distance Speed Collect Result_Dam\n",
      "4000    0.394366\n",
      "5000    0.523156\n",
      "5800    0.285714\n",
      "6000    0.389937\n",
      "6200    0.441176\n",
      "6500    0.425827\n",
      "9000    0.571332\n",
      "Name: target, dtype: float64\n"
     ]
    }
   ],
   "source": [
    "#46. Stage1 Line4 Distance Speed Collect\n",
    "target_ratio = df_concat.groupby(\"Stage1 Line4 Distance Speed Collect Result_Dam\")[\"target\"].mean()\n",
    "print(target_ratio)"
   ]
  },
  {
   "cell_type": "code",
   "execution_count": 736,
   "metadata": {},
   "outputs": [
    {
     "name": "stdout",
     "output_type": "stream",
     "text": [
      "(3404, 127)\n"
     ]
    }
   ],
   "source": [
    "# 40번과 동일한 값이므로 삭제\n",
    "del df_concat[\"Stage1 Line4 Distance Speed Collect Result_Dam\"]\n",
    "print(df_concat.shape)"
   ]
  },
  {
   "cell_type": "code",
   "execution_count": 737,
   "metadata": {},
   "outputs": [
    {
     "name": "stdout",
     "output_type": "stream",
     "text": [
      "Stage2 Circle1 Distance Speed Collect Result_Dam\n",
      "5000     0.415254\n",
      "5800     0.285714\n",
      "6000     0.427536\n",
      "6200     0.441176\n",
      "6500     0.419624\n",
      "9000     0.544304\n",
      "12000    0.586957\n",
      "Name: target, dtype: float64\n"
     ]
    }
   ],
   "source": [
    "# 47. Stage2 Circle1 Distance Speed Collect Result_Dam\n",
    "target_ratio = df_concat.groupby(\"Stage2 Circle1 Distance Speed Collect Result_Dam\")[\"target\"].mean()\n",
    "print(target_ratio)"
   ]
  },
  {
   "cell_type": "code",
   "execution_count": 738,
   "metadata": {},
   "outputs": [
    {
     "data": {
      "text/plain": [
       "Stage2 Circle1 Distance Speed Collect Result_Dam_weight\n",
       "0.544304    1580\n",
       "0.419624     958\n",
       "0.586957     506\n",
       "0.427536     138\n",
       "0.415254     118\n",
       "0.285714      70\n",
       "0.441176      34\n",
       "Name: count, dtype: int64"
      ]
     },
     "execution_count": 738,
     "metadata": {},
     "output_type": "execute_result"
    }
   ],
   "source": [
    "df_concat[\"Stage2 Circle1 Distance Speed Collect Result_Dam_weight\"] = df_concat[\"Stage2 Circle1 Distance Speed Collect Result_Dam\"].map(target_ratio)\n",
    "df_concat[\"Stage2 Circle1 Distance Speed Collect Result_Dam_weight\"].value_counts()"
   ]
  },
  {
   "cell_type": "code",
   "execution_count": 739,
   "metadata": {},
   "outputs": [
    {
     "data": {
      "text/plain": [
       "Stage2 Circle1 Distance Speed Collect Result_Dam_weight\n",
       "0.419624    5386\n",
       "0.544304    5042\n",
       "0.285714    2346\n",
       "0.586957    1533\n",
       "0.427536     569\n",
       "0.415254     437\n",
       "0.441176     116\n",
       "Name: count, dtype: int64"
      ]
     },
     "execution_count": 739,
     "metadata": {},
     "output_type": "execute_result"
    }
   ],
   "source": [
    "test_data[\"Stage2 Circle1 Distance Speed Collect Result_Dam_weight\"] = test_data[\"Stage2 Circle1 Distance Speed Collect Result_Dam\"].map(target_ratio)\n",
    "test_data[\"Stage2 Circle1 Distance Speed Collect Result_Dam_weight\"].value_counts()"
   ]
  },
  {
   "cell_type": "code",
   "execution_count": 740,
   "metadata": {},
   "outputs": [
    {
     "name": "stdout",
     "output_type": "stream",
     "text": [
      "1932\n"
     ]
    }
   ],
   "source": [
    "print(test_data[\"Stage2 Circle1 Distance Speed Collect Result_Dam_weight\"].isnull().sum())"
   ]
  },
  {
   "cell_type": "code",
   "execution_count": 741,
   "metadata": {},
   "outputs": [
    {
     "name": "stderr",
     "output_type": "stream",
     "text": [
      "C:\\Users\\hwnam\\AppData\\Local\\Temp\\ipykernel_21144\\3659883236.py:3: FutureWarning: A value is trying to be set on a copy of a DataFrame or Series through chained assignment using an inplace method.\n",
      "The behavior will change in pandas 3.0. This inplace method will never work because the intermediate object on which we are setting values always behaves as a copy.\n",
      "\n",
      "For example, when doing 'df[col].method(value, inplace=True)', try using 'df.method({col: value}, inplace=True)' or df[col] = df[col].method(value) instead, to perform the operation inplace on the original object.\n",
      "\n",
      "\n",
      "  test_data[\"Stage2 Circle1 Distance Speed Collect Result_Dam_weight\"].fillna(mode_value, inplace=True)\n"
     ]
    }
   ],
   "source": [
    "# 최빈값으로 결측치 처리\n",
    "mode_value = test_data[\"Stage2 Circle1 Distance Speed Collect Result_Dam_weight\"].mode()[0]\n",
    "test_data[\"Stage2 Circle1 Distance Speed Collect Result_Dam_weight\"].fillna(mode_value, inplace=True)"
   ]
  },
  {
   "cell_type": "code",
   "execution_count": 742,
   "metadata": {},
   "outputs": [
    {
     "name": "stdout",
     "output_type": "stream",
     "text": [
      "Stage2 Circle2 Distance Speed Collect Result_Dam\n",
      "5000     0.415254\n",
      "5300     0.285714\n",
      "5500     0.388699\n",
      "6000     0.500000\n",
      "6500     0.455556\n",
      "9000     0.544304\n",
      "12000    0.586957\n",
      "Name: target, dtype: float64\n"
     ]
    }
   ],
   "source": [
    "# 48. Stage2 Circle2 Distance Speed Collect Result_Dam\n",
    "target_ratio = df_concat.groupby(\"Stage2 Circle2 Distance Speed Collect Result_Dam\")[\"target\"].mean()\n",
    "print(target_ratio)"
   ]
  },
  {
   "cell_type": "code",
   "execution_count": 743,
   "metadata": {},
   "outputs": [
    {
     "data": {
      "text/plain": [
       "Stage2 Circle2 Distance Speed Collect Result_Dam_weight\n",
       "0.544304    1580\n",
       "0.388699     584\n",
       "0.455556     540\n",
       "0.586957     506\n",
       "0.415254     118\n",
       "0.285714      70\n",
       "0.500000       6\n",
       "Name: count, dtype: int64"
      ]
     },
     "execution_count": 743,
     "metadata": {},
     "output_type": "execute_result"
    }
   ],
   "source": [
    "df_concat[\"Stage2 Circle2 Distance Speed Collect Result_Dam_weight\"] = df_concat[\"Stage2 Circle2 Distance Speed Collect Result_Dam\"].map(target_ratio)\n",
    "df_concat[\"Stage2 Circle2 Distance Speed Collect Result_Dam_weight\"].value_counts()"
   ]
  },
  {
   "cell_type": "code",
   "execution_count": 744,
   "metadata": {},
   "outputs": [
    {
     "data": {
      "text/plain": [
       "Stage2 Circle2 Distance Speed Collect Result_Dam_weight\n",
       "0.544304    5042\n",
       "0.455556    3453\n",
       "0.388699    2589\n",
       "0.285714    2346\n",
       "0.586957    1548\n",
       "0.415254     483\n",
       "0.500000      14\n",
       "Name: count, dtype: int64"
      ]
     },
     "execution_count": 744,
     "metadata": {},
     "output_type": "execute_result"
    }
   ],
   "source": [
    "test_data[\"Stage2 Circle2 Distance Speed Collect Result_Dam_weight\"] = test_data[\"Stage2 Circle2 Distance Speed Collect Result_Dam\"].map(target_ratio)\n",
    "test_data[\"Stage2 Circle2 Distance Speed Collect Result_Dam_weight\"].value_counts()"
   ]
  },
  {
   "cell_type": "code",
   "execution_count": 745,
   "metadata": {},
   "outputs": [
    {
     "name": "stdout",
     "output_type": "stream",
     "text": [
      "1886\n"
     ]
    }
   ],
   "source": [
    "print(test_data[\"Stage2 Circle2 Distance Speed Collect Result_Dam_weight\"].isnull().sum())"
   ]
  },
  {
   "cell_type": "code",
   "execution_count": 746,
   "metadata": {},
   "outputs": [
    {
     "name": "stderr",
     "output_type": "stream",
     "text": [
      "C:\\Users\\hwnam\\AppData\\Local\\Temp\\ipykernel_21144\\1216205743.py:2: FutureWarning: A value is trying to be set on a copy of a DataFrame or Series through chained assignment using an inplace method.\n",
      "The behavior will change in pandas 3.0. This inplace method will never work because the intermediate object on which we are setting values always behaves as a copy.\n",
      "\n",
      "For example, when doing 'df[col].method(value, inplace=True)', try using 'df.method({col: value}, inplace=True)' or df[col] = df[col].method(value) instead, to perform the operation inplace on the original object.\n",
      "\n",
      "\n",
      "  test_data[\"Stage2 Circle2 Distance Speed Collect Result_Dam_weight\"].fillna(mean_value, inplace=True)\n"
     ]
    }
   ],
   "source": [
    "mean_value = test_data[\"Stage2 Circle2 Distance Speed Collect Result_Dam_weight\"].mean()\n",
    "test_data[\"Stage2 Circle2 Distance Speed Collect Result_Dam_weight\"].fillna(mean_value, inplace=True)"
   ]
  },
  {
   "cell_type": "code",
   "execution_count": 747,
   "metadata": {},
   "outputs": [
    {
     "name": "stdout",
     "output_type": "stream",
     "text": [
      "Stage2 Circle3 Distance Speed Collect Result_Dam\n",
      "5000     0.415254\n",
      "5300     0.285714\n",
      "5500     0.388699\n",
      "6000     0.500000\n",
      "6500     0.455556\n",
      "9000     0.544304\n",
      "12000    0.586957\n",
      "Name: target, dtype: float64\n"
     ]
    }
   ],
   "source": [
    "# 49. Stage2 Circle3 Distance Speed Collect Result_Dam\n",
    "target_ratio = df_concat.groupby(\"Stage2 Circle3 Distance Speed Collect Result_Dam\")[\"target\"].mean()\n",
    "print(target_ratio)"
   ]
  },
  {
   "cell_type": "code",
   "execution_count": 748,
   "metadata": {},
   "outputs": [
    {
     "name": "stdout",
     "output_type": "stream",
     "text": [
      "(3404, 128)\n"
     ]
    }
   ],
   "source": [
    "# 48번과 동일한 값이므로 삭제\n",
    "del df_concat[\"Stage2 Circle3 Distance Speed Collect Result_Dam\"]\n",
    "print(df_concat.shape)"
   ]
  },
  {
   "cell_type": "code",
   "execution_count": 749,
   "metadata": {},
   "outputs": [
    {
     "name": "stdout",
     "output_type": "stream",
     "text": [
      "Stage2 Circle4 Distance Speed Collect Result_Dam\n",
      "5000     0.415254\n",
      "5300     0.285714\n",
      "5500     0.388699\n",
      "6000     0.500000\n",
      "6500     0.455556\n",
      "9000     0.544304\n",
      "12000    0.586957\n",
      "Name: target, dtype: float64\n"
     ]
    }
   ],
   "source": [
    "# 50. Stage2 Circle4 Distance Speed Collect Result_Dam\n",
    "target_ratio = df_concat.groupby(\"Stage2 Circle4 Distance Speed Collect Result_Dam\")[\"target\"].mean()\n",
    "print(target_ratio)"
   ]
  },
  {
   "cell_type": "code",
   "execution_count": 750,
   "metadata": {},
   "outputs": [
    {
     "name": "stdout",
     "output_type": "stream",
     "text": [
      "(3404, 127)\n"
     ]
    }
   ],
   "source": [
    "# 48번과 동일한 값이므로 삭제\n",
    "del df_concat[\"Stage2 Circle4 Distance Speed Collect Result_Dam\"]\n",
    "print(df_concat.shape)"
   ]
  },
  {
   "cell_type": "code",
   "execution_count": 751,
   "metadata": {},
   "outputs": [
    {
     "name": "stdout",
     "output_type": "stream",
     "text": [
      "Stage2 Line1 Distance Speed Collect Result_Dam\n",
      "5000     0.415254\n",
      "5300     0.285714\n",
      "5500     0.388699\n",
      "6000     0.500000\n",
      "6500     0.455556\n",
      "9000     0.544304\n",
      "12000    0.586957\n",
      "Name: target, dtype: float64\n"
     ]
    }
   ],
   "source": [
    "# 51. Stage2 Line1 Distance Speed Collect Result_Dam\n",
    "target_ratio = df_concat.groupby(\"Stage2 Line1 Distance Speed Collect Result_Dam\")[\"target\"].mean()\n",
    "print(target_ratio)"
   ]
  },
  {
   "cell_type": "code",
   "execution_count": 752,
   "metadata": {},
   "outputs": [
    {
     "name": "stdout",
     "output_type": "stream",
     "text": [
      "(3404, 126)\n"
     ]
    }
   ],
   "source": [
    "# 48번과 동일한 값이므로 삭제\n",
    "del df_concat[\"Stage2 Line1 Distance Speed Collect Result_Dam\"]\n",
    "print(df_concat.shape)"
   ]
  },
  {
   "cell_type": "code",
   "execution_count": 753,
   "metadata": {},
   "outputs": [
    {
     "name": "stdout",
     "output_type": "stream",
     "text": [
      "Stage2 Line2 Distance Speed Collect Result_Dam\n",
      "5000     0.416000\n",
      "5300     0.285714\n",
      "5500     0.401368\n",
      "6500     0.487705\n",
      "9000     0.544304\n",
      "12000    0.586957\n",
      "13000    1.000000\n",
      "Name: target, dtype: float64\n"
     ]
    }
   ],
   "source": [
    "# 52. Stage2 Line2 Distance Speed Collect Result_Dam\n",
    "target_ratio = df_concat.groupby(\"Stage2 Line2 Distance Speed Collect Result_Dam\")[\"target\"].mean()\n",
    "print(target_ratio)"
   ]
  },
  {
   "cell_type": "code",
   "execution_count": 754,
   "metadata": {},
   "outputs": [
    {
     "data": {
      "text/plain": [
       "Stage2 Line2 Distance Speed Collect Result_Dam_weight\n",
       "0.544304    1580\n",
       "0.401368     877\n",
       "0.586957     506\n",
       "0.487705     244\n",
       "0.416000     125\n",
       "0.285714      70\n",
       "1.000000       2\n",
       "Name: count, dtype: int64"
      ]
     },
     "execution_count": 754,
     "metadata": {},
     "output_type": "execute_result"
    }
   ],
   "source": [
    "df_concat[\"Stage2 Line2 Distance Speed Collect Result_Dam_weight\"] = df_concat[\"Stage2 Line2 Distance Speed Collect Result_Dam\"].map(target_ratio)\n",
    "df_concat[\"Stage2 Line2 Distance Speed Collect Result_Dam_weight\"].value_counts()"
   ]
  },
  {
   "cell_type": "code",
   "execution_count": 755,
   "metadata": {},
   "outputs": [
    {
     "name": "stdout",
     "output_type": "stream",
     "text": [
      "(3404, 125)\n"
     ]
    }
   ],
   "source": [
    "# 수치가 적어서 삭제\n",
    "del df_concat[\"Stage2 Line2 Distance Speed Collect Result_Dam\"]\n",
    "del df_concat[\"Stage2 Line2 Distance Speed Collect Result_Dam_weight\"]\n",
    "print(df_concat.shape)"
   ]
  },
  {
   "cell_type": "code",
   "execution_count": 756,
   "metadata": {},
   "outputs": [
    {
     "name": "stdout",
     "output_type": "stream",
     "text": [
      "Stage2 Line3 Distance Speed Collect Result_Dam\n",
      "5000     0.415254\n",
      "5300     0.285714\n",
      "5500     0.381533\n",
      "5800     0.800000\n",
      "6000     0.500000\n",
      "6500     0.455556\n",
      "9000     0.544304\n",
      "12000    0.586957\n",
      "Name: target, dtype: float64\n"
     ]
    }
   ],
   "source": [
    "#53. Stage2 Line3 Distance Speed Collect Result_Dam\n",
    "target_ratio = df_concat.groupby(\"Stage2 Line3 Distance Speed Collect Result_Dam\")[\"target\"].mean()\n",
    "print(target_ratio)"
   ]
  },
  {
   "cell_type": "code",
   "execution_count": 757,
   "metadata": {},
   "outputs": [
    {
     "data": {
      "text/plain": [
       "Stage2 Line3 Distance Speed Collect Result_Dam_weight\n",
       "0.544304    1580\n",
       "0.381533     574\n",
       "0.455556     540\n",
       "0.586957     506\n",
       "0.415254     118\n",
       "0.285714      70\n",
       "0.800000      10\n",
       "0.500000       6\n",
       "Name: count, dtype: int64"
      ]
     },
     "execution_count": 757,
     "metadata": {},
     "output_type": "execute_result"
    }
   ],
   "source": [
    "df_concat[\"Stage2 Line3 Distance Speed Collect Result_Dam_weight\"] = df_concat[\"Stage2 Line3 Distance Speed Collect Result_Dam\"].map(target_ratio)\n",
    "df_concat[\"Stage2 Line3 Distance Speed Collect Result_Dam_weight\"].value_counts()"
   ]
  },
  {
   "cell_type": "code",
   "execution_count": 758,
   "metadata": {},
   "outputs": [
    {
     "data": {
      "text/plain": [
       "Stage2 Line3 Distance Speed Collect Result_Dam_weight\n",
       "0.544304    5042\n",
       "0.455556    3453\n",
       "0.381533    2584\n",
       "0.285714    2346\n",
       "0.586957    1548\n",
       "0.415254     483\n",
       "0.500000      14\n",
       "0.800000       5\n",
       "Name: count, dtype: int64"
      ]
     },
     "execution_count": 758,
     "metadata": {},
     "output_type": "execute_result"
    }
   ],
   "source": [
    "test_data[\"Stage2 Line3 Distance Speed Collect Result_Dam_weight\"] = test_data[\"Stage2 Line3 Distance Speed Collect Result_Dam\"].map(target_ratio)\n",
    "test_data[\"Stage2 Line3 Distance Speed Collect Result_Dam_weight\"].value_counts()"
   ]
  },
  {
   "cell_type": "code",
   "execution_count": 759,
   "metadata": {},
   "outputs": [
    {
     "name": "stdout",
     "output_type": "stream",
     "text": [
      "1886\n"
     ]
    }
   ],
   "source": [
    "print(test_data[\"Stage2 Line3 Distance Speed Collect Result_Dam_weight\"].isnull().sum())"
   ]
  },
  {
   "cell_type": "code",
   "execution_count": 760,
   "metadata": {},
   "outputs": [
    {
     "name": "stderr",
     "output_type": "stream",
     "text": [
      "C:\\Users\\hwnam\\AppData\\Local\\Temp\\ipykernel_21144\\798643967.py:2: FutureWarning: A value is trying to be set on a copy of a DataFrame or Series through chained assignment using an inplace method.\n",
      "The behavior will change in pandas 3.0. This inplace method will never work because the intermediate object on which we are setting values always behaves as a copy.\n",
      "\n",
      "For example, when doing 'df[col].method(value, inplace=True)', try using 'df.method({col: value}, inplace=True)' or df[col] = df[col].method(value) instead, to perform the operation inplace on the original object.\n",
      "\n",
      "\n",
      "  test_data[\"Stage2 Line3 Distance Speed Collect Result_Dam_weight\"].fillna(mean_value, inplace=True)\n"
     ]
    }
   ],
   "source": [
    "mean_value = test_data[\"Stage2 Line3 Distance Speed Collect Result_Dam_weight\"].mean()\n",
    "test_data[\"Stage2 Line3 Distance Speed Collect Result_Dam_weight\"].fillna(mean_value, inplace=True)"
   ]
  },
  {
   "cell_type": "code",
   "execution_count": 761,
   "metadata": {},
   "outputs": [
    {
     "name": "stdout",
     "output_type": "stream",
     "text": [
      "Stage2 Line4 Distance Speed Collect Result_Dam\n",
      "5000     0.419847\n",
      "5300     0.285714\n",
      "5500     0.400689\n",
      "6000     0.300000\n",
      "6500     0.500000\n",
      "9000     0.544304\n",
      "12000    0.586957\n",
      "Name: target, dtype: float64\n"
     ]
    }
   ],
   "source": [
    "# 54. Stage2 Line4 Distance Speed Collect Result_Dam\n",
    "target_ratio = df_concat.groupby(\"Stage2 Line4 Distance Speed Collect Result_Dam\")[\"target\"].mean()\n",
    "print(target_ratio)"
   ]
  },
  {
   "cell_type": "code",
   "execution_count": 762,
   "metadata": {},
   "outputs": [
    {
     "data": {
      "text/plain": [
       "Stage2 Line4 Distance Speed Collect Result_Dam_weight\n",
       "0.544304    1580\n",
       "0.400689     871\n",
       "0.586957     506\n",
       "0.500000     236\n",
       "0.419847     131\n",
       "0.285714      70\n",
       "0.300000      10\n",
       "Name: count, dtype: int64"
      ]
     },
     "execution_count": 762,
     "metadata": {},
     "output_type": "execute_result"
    }
   ],
   "source": [
    "df_concat[\"Stage2 Line4 Distance Speed Collect Result_Dam_weight\"] = df_concat[\"Stage2 Line4 Distance Speed Collect Result_Dam\"].map(target_ratio)\n",
    "df_concat[\"Stage2 Line4 Distance Speed Collect Result_Dam_weight\"].value_counts()"
   ]
  },
  {
   "cell_type": "code",
   "execution_count": 763,
   "metadata": {},
   "outputs": [
    {
     "data": {
      "text/plain": [
       "Stage2 Line4 Distance Speed Collect Result_Dam_weight\n",
       "0.544304    5042\n",
       "0.400689    3653\n",
       "0.285714    2346\n",
       "0.500000    2318\n",
       "0.586957    1548\n",
       "0.419847     518\n",
       "0.300000      50\n",
       "Name: count, dtype: int64"
      ]
     },
     "execution_count": 763,
     "metadata": {},
     "output_type": "execute_result"
    }
   ],
   "source": [
    "test_data[\"Stage2 Line4 Distance Speed Collect Result_Dam_weight\"] = test_data[\"Stage2 Line4 Distance Speed Collect Result_Dam\"].map(target_ratio)\n",
    "test_data[\"Stage2 Line4 Distance Speed Collect Result_Dam_weight\"].value_counts()"
   ]
  },
  {
   "cell_type": "code",
   "execution_count": 764,
   "metadata": {},
   "outputs": [
    {
     "name": "stdout",
     "output_type": "stream",
     "text": [
      "1886\n"
     ]
    }
   ],
   "source": [
    "print(test_data[\"Stage2 Line4 Distance Speed Collect Result_Dam_weight\"].isnull().sum())"
   ]
  },
  {
   "cell_type": "code",
   "execution_count": 765,
   "metadata": {},
   "outputs": [
    {
     "name": "stderr",
     "output_type": "stream",
     "text": [
      "C:\\Users\\hwnam\\AppData\\Local\\Temp\\ipykernel_21144\\874638203.py:2: FutureWarning: A value is trying to be set on a copy of a DataFrame or Series through chained assignment using an inplace method.\n",
      "The behavior will change in pandas 3.0. This inplace method will never work because the intermediate object on which we are setting values always behaves as a copy.\n",
      "\n",
      "For example, when doing 'df[col].method(value, inplace=True)', try using 'df.method({col: value}, inplace=True)' or df[col] = df[col].method(value) instead, to perform the operation inplace on the original object.\n",
      "\n",
      "\n",
      "  test_data[\"Stage2 Line4 Distance Speed Collect Result_Dam_weight\"].fillna(mean_value, inplace=True)\n"
     ]
    }
   ],
   "source": [
    "mean_value = test_data[\"Stage2 Line4 Distance Speed Collect Result_Dam_weight\"].mean()\n",
    "test_data[\"Stage2 Line4 Distance Speed Collect Result_Dam_weight\"].fillna(mean_value, inplace=True)"
   ]
  },
  {
   "cell_type": "code",
   "execution_count": 766,
   "metadata": {},
   "outputs": [
    {
     "name": "stdout",
     "output_type": "stream",
     "text": [
      "Stage3 Circle1 Distance Speed Collect Result_Dam\n",
      "4000    0.394366\n",
      "5000    0.523156\n",
      "5300    0.285714\n",
      "5500    0.381533\n",
      "5800    0.800000\n",
      "6000    0.500000\n",
      "6500    0.455556\n",
      "9000    0.571332\n",
      "Name: target, dtype: float64\n"
     ]
    }
   ],
   "source": [
    "# 55. Stage3 Circle1 Distance Speed Collect Result_Dam\n",
    "target_ratio = df_concat.groupby(\"Stage3 Circle1 Distance Speed Collect Result_Dam\")[\"target\"].mean()\n",
    "print(target_ratio)"
   ]
  },
  {
   "cell_type": "code",
   "execution_count": 767,
   "metadata": {},
   "outputs": [
    {
     "data": {
      "text/plain": [
       "Stage3 Circle1 Distance Speed Collect Result_Dam_weight\n",
       "0.571332    1479\n",
       "0.523156     583\n",
       "0.381533     574\n",
       "0.455556     540\n",
       "0.394366     142\n",
       "0.285714      70\n",
       "0.800000      10\n",
       "0.500000       6\n",
       "Name: count, dtype: int64"
      ]
     },
     "execution_count": 767,
     "metadata": {},
     "output_type": "execute_result"
    }
   ],
   "source": [
    "df_concat[\"Stage3 Circle1 Distance Speed Collect Result_Dam_weight\"] = df_concat[\"Stage3 Circle1 Distance Speed Collect Result_Dam\"].map(target_ratio)\n",
    "df_concat[\"Stage3 Circle1 Distance Speed Collect Result_Dam_weight\"].value_counts()"
   ]
  },
  {
   "cell_type": "code",
   "execution_count": 768,
   "metadata": {},
   "outputs": [
    {
     "data": {
      "text/plain": [
       "Stage3 Circle1 Distance Speed Collect Result_Dam_weight\n",
       "0.571332    4317\n",
       "0.455556    3453\n",
       "0.381533    2584\n",
       "0.285714    2346\n",
       "0.394366    2310\n",
       "0.523156    2136\n",
       "0.500000      14\n",
       "0.800000       5\n",
       "Name: count, dtype: int64"
      ]
     },
     "execution_count": 768,
     "metadata": {},
     "output_type": "execute_result"
    }
   ],
   "source": [
    "test_data[\"Stage3 Circle1 Distance Speed Collect Result_Dam_weight\"] = test_data[\"Stage3 Circle1 Distance Speed Collect Result_Dam\"].map(target_ratio)\n",
    "test_data[\"Stage3 Circle1 Distance Speed Collect Result_Dam_weight\"].value_counts()"
   ]
  },
  {
   "cell_type": "code",
   "execution_count": 769,
   "metadata": {},
   "outputs": [
    {
     "name": "stdout",
     "output_type": "stream",
     "text": [
      "196\n"
     ]
    }
   ],
   "source": [
    "print(test_data[\"Stage3 Circle1 Distance Speed Collect Result_Dam_weight\"].isnull().sum())"
   ]
  },
  {
   "cell_type": "code",
   "execution_count": 770,
   "metadata": {},
   "outputs": [
    {
     "name": "stderr",
     "output_type": "stream",
     "text": [
      "C:\\Users\\hwnam\\AppData\\Local\\Temp\\ipykernel_21144\\2415506748.py:2: FutureWarning: A value is trying to be set on a copy of a DataFrame or Series through chained assignment using an inplace method.\n",
      "The behavior will change in pandas 3.0. This inplace method will never work because the intermediate object on which we are setting values always behaves as a copy.\n",
      "\n",
      "For example, when doing 'df[col].method(value, inplace=True)', try using 'df.method({col: value}, inplace=True)' or df[col] = df[col].method(value) instead, to perform the operation inplace on the original object.\n",
      "\n",
      "\n",
      "  test_data[\"Stage3 Circle1 Distance Speed Collect Result_Dam_weight\"].fillna(mean_value, inplace=True)\n"
     ]
    }
   ],
   "source": [
    "mean_value = test_data[\"Stage3 Circle1 Distance Speed Collect Result_Dam_weight\"].mean()\n",
    "test_data[\"Stage3 Circle1 Distance Speed Collect Result_Dam_weight\"].fillna(mean_value, inplace=True)"
   ]
  },
  {
   "cell_type": "code",
   "execution_count": 771,
   "metadata": {},
   "outputs": [
    {
     "name": "stdout",
     "output_type": "stream",
     "text": [
      "Stage3 Circle2 Distance Speed Collect Result_Dam\n",
      "4000    0.394366\n",
      "5000    0.523156\n",
      "5800    0.285714\n",
      "6000    0.435374\n",
      "6200    0.441176\n",
      "6500    0.418335\n",
      "9000    0.571332\n",
      "Name: target, dtype: float64\n"
     ]
    }
   ],
   "source": [
    "# 56. Stage3 Circle2 Distance Speed Collect Result_Dam\n",
    "target_ratio = df_concat.groupby(\"Stage3 Circle2 Distance Speed Collect Result_Dam\")[\"target\"].mean()\n",
    "print(target_ratio)"
   ]
  },
  {
   "cell_type": "code",
   "execution_count": 772,
   "metadata": {},
   "outputs": [
    {
     "name": "stdout",
     "output_type": "stream",
     "text": [
      "(3404, 127)\n"
     ]
    }
   ],
   "source": [
    "# 43번과 동일한 값이므로 삭제\n",
    "del df_concat[\"Stage3 Circle2 Distance Speed Collect Result_Dam\"]\n",
    "print(df_concat.shape)"
   ]
  },
  {
   "cell_type": "code",
   "execution_count": 773,
   "metadata": {},
   "outputs": [
    {
     "name": "stdout",
     "output_type": "stream",
     "text": [
      "Stage3 Circle3 Distance Speed Collect Result_Dam\n",
      "4000    0.394366\n",
      "5000    0.523156\n",
      "5800    0.285714\n",
      "6000    0.435374\n",
      "6200    0.441176\n",
      "6500    0.418335\n",
      "9000    0.571332\n",
      "Name: target, dtype: float64\n"
     ]
    }
   ],
   "source": [
    "# 57. Stage3 Circle3 Distance Speed Collect Result_Dam\n",
    "target_ratio = df_concat.groupby(\"Stage3 Circle3 Distance Speed Collect Result_Dam\")[\"target\"].mean()\n",
    "print(target_ratio)"
   ]
  },
  {
   "cell_type": "code",
   "execution_count": 774,
   "metadata": {},
   "outputs": [
    {
     "name": "stdout",
     "output_type": "stream",
     "text": [
      "(3404, 126)\n"
     ]
    }
   ],
   "source": [
    "# 43번과 동일한 값이므로 삭제\n",
    "del df_concat[\"Stage3 Circle3 Distance Speed Collect Result_Dam\"]\n",
    "print(df_concat.shape)"
   ]
  },
  {
   "cell_type": "code",
   "execution_count": 775,
   "metadata": {},
   "outputs": [
    {
     "name": "stdout",
     "output_type": "stream",
     "text": [
      "Stage3 Circle4 Distance Speed Collect Result_Dam\n",
      "4000    0.394366\n",
      "5000    0.523156\n",
      "5800    0.285714\n",
      "6000    0.435374\n",
      "6200    0.441176\n",
      "6500    0.418335\n",
      "9000    0.571332\n",
      "Name: target, dtype: float64\n"
     ]
    }
   ],
   "source": [
    "# 58. Stage3 Circle4 Distance Speed Collect Result_Dam\n",
    "target_ratio = df_concat.groupby(\"Stage3 Circle4 Distance Speed Collect Result_Dam\")[\"target\"].mean()\n",
    "print(target_ratio)"
   ]
  },
  {
   "cell_type": "code",
   "execution_count": 776,
   "metadata": {},
   "outputs": [
    {
     "name": "stdout",
     "output_type": "stream",
     "text": [
      "(3404, 125)\n"
     ]
    }
   ],
   "source": [
    "# 43번과 동일한 값이므로 삭제\n",
    "del df_concat[\"Stage3 Circle4 Distance Speed Collect Result_Dam\"]\n",
    "print(df_concat.shape)"
   ]
  },
  {
   "cell_type": "code",
   "execution_count": 777,
   "metadata": {},
   "outputs": [
    {
     "name": "stdout",
     "output_type": "stream",
     "text": [
      "Stage3 Line1 Distance Speed Collect Result_Dam\n",
      "4000    0.394366\n",
      "5000    0.523156\n",
      "5800    0.285714\n",
      "6000    0.435374\n",
      "6200    0.441176\n",
      "6500    0.418335\n",
      "7000    0.857143\n",
      "9000    0.568601\n",
      "Name: target, dtype: float64\n"
     ]
    }
   ],
   "source": [
    "# 59. Stage3 Line1 Distance Speed Collect Result_Dam\n",
    "target_ratio = df_concat.groupby(\"Stage3 Line1 Distance Speed Collect Result_Dam\")[\"target\"].mean()\n",
    "print(target_ratio)"
   ]
  },
  {
   "cell_type": "code",
   "execution_count": 778,
   "metadata": {},
   "outputs": [
    {
     "name": "stdout",
     "output_type": "stream",
     "text": [
      "(3404, 124)\n"
     ]
    }
   ],
   "source": [
    "# 43번과 동일한 값이므로 삭제\n",
    "del df_concat[\"Stage3 Line1 Distance Speed Collect Result_Dam\"]\n",
    "print(df_concat.shape)"
   ]
  },
  {
   "cell_type": "code",
   "execution_count": 779,
   "metadata": {},
   "outputs": [
    {
     "name": "stdout",
     "output_type": "stream",
     "text": [
      "Stage3 Line2 Distance Speed Collect Result_Dam\n",
      "4000    0.394366\n",
      "5000    0.523156\n",
      "5800    0.285714\n",
      "6000    0.418182\n",
      "6200    0.441176\n",
      "6500    0.421053\n",
      "9000    0.571332\n",
      "Name: target, dtype: float64\n"
     ]
    }
   ],
   "source": [
    "# 60. Stage3 Line2 Distance Speed Collect Result_Dam\n",
    "target_ratio = df_concat.groupby(\"Stage3 Line2 Distance Speed Collect Result_Dam\")[\"target\"].mean()\n",
    "print(target_ratio)"
   ]
  },
  {
   "cell_type": "code",
   "execution_count": 780,
   "metadata": {},
   "outputs": [
    {
     "name": "stdout",
     "output_type": "stream",
     "text": [
      "(3404, 123)\n"
     ]
    }
   ],
   "source": [
    "# 40번과 동일한 값이므로 삭제\n",
    "del df_concat[\"Stage3 Line2 Distance Speed Collect Result_Dam\"]\n",
    "print(df_concat.shape)"
   ]
  },
  {
   "cell_type": "code",
   "execution_count": 781,
   "metadata": {},
   "outputs": [
    {
     "name": "stdout",
     "output_type": "stream",
     "text": [
      "Stage3 Line3 Distance Speed Collect Result_Dam\n",
      "4000    0.394366\n",
      "5000    0.523156\n",
      "5800    0.285714\n",
      "6000    0.435374\n",
      "6200    0.441176\n",
      "6500    0.418335\n",
      "7000    0.857143\n",
      "9000    0.568601\n",
      "Name: target, dtype: float64\n"
     ]
    }
   ],
   "source": [
    "# 61. Stage3 Line3 Distance Speed Collect Result_Dam\n",
    "target_ratio = df_concat.groupby(\"Stage3 Line3 Distance Speed Collect Result_Dam\")[\"target\"].mean()\n",
    "print(target_ratio)"
   ]
  },
  {
   "cell_type": "code",
   "execution_count": 782,
   "metadata": {},
   "outputs": [
    {
     "name": "stdout",
     "output_type": "stream",
     "text": [
      "(3404, 122)\n"
     ]
    }
   ],
   "source": [
    "# 43번과 동일한 값이므로 삭제\n",
    "del df_concat[\"Stage3 Line3 Distance Speed Collect Result_Dam\"]\n",
    "print(df_concat.shape)"
   ]
  },
  {
   "cell_type": "code",
   "execution_count": 783,
   "metadata": {},
   "outputs": [
    {
     "name": "stdout",
     "output_type": "stream",
     "text": [
      "Stage3 Line4 Distance Speed Collect Result_Dam\n",
      "4000    0.394366\n",
      "5000    0.523156\n",
      "5800    0.285714\n",
      "6000    0.398810\n",
      "6200    0.441176\n",
      "6500    0.424569\n",
      "9000    0.571332\n",
      "Name: target, dtype: float64\n"
     ]
    }
   ],
   "source": [
    "# 62. Stage3 Line4 Distance Speed Collect Result_Dam\n",
    "target_ratio = df_concat.groupby(\"Stage3 Line4 Distance Speed Collect Result_Dam\")[\"target\"].mean()\n",
    "print(target_ratio)"
   ]
  },
  {
   "cell_type": "code",
   "execution_count": 784,
   "metadata": {},
   "outputs": [
    {
     "name": "stdout",
     "output_type": "stream",
     "text": [
      "(3404, 121)\n"
     ]
    }
   ],
   "source": [
    "# 40번과 동일한 값이므로 삭제\n",
    "del df_concat[\"Stage3 Line4 Distance Speed Collect Result_Dam\"]\n",
    "print(df_concat.shape)"
   ]
  },
  {
   "cell_type": "code",
   "execution_count": 785,
   "metadata": {},
   "outputs": [
    {
     "name": "stdout",
     "output_type": "stream",
     "text": [
      "THICKNESS 1 Collect Result_Dam\n",
      "0       0.547187\n",
      "5800    0.285714\n",
      "6000    0.435374\n",
      "6200    0.441176\n",
      "6500    0.418335\n",
      "Name: target, dtype: float64\n"
     ]
    }
   ],
   "source": [
    "# 63. THICKNESS 1 Collect Result_Dam\n",
    "target_ratio = df_concat.groupby(\"THICKNESS 1 Collect Result_Dam\")[\"target\"].mean()\n",
    "print(target_ratio)"
   ]
  },
  {
   "cell_type": "code",
   "execution_count": 786,
   "metadata": {},
   "outputs": [
    {
     "data": {
      "text/plain": [
       "THICKNESS 1 Collect Result_Dam_weight\n",
       "0.547187    2204\n",
       "0.418335     949\n",
       "0.435374     147\n",
       "0.285714      70\n",
       "0.441176      34\n",
       "Name: count, dtype: int64"
      ]
     },
     "execution_count": 786,
     "metadata": {},
     "output_type": "execute_result"
    }
   ],
   "source": [
    "df_concat[\"THICKNESS 1 Collect Result_Dam_weight\"] = df_concat[\"THICKNESS 1 Collect Result_Dam\"].map(target_ratio)\n",
    "df_concat[\"THICKNESS 1 Collect Result_Dam_weight\"].value_counts()"
   ]
  },
  {
   "cell_type": "code",
   "execution_count": 787,
   "metadata": {},
   "outputs": [
    {
     "data": {
      "text/plain": [
       "THICKNESS 1 Collect Result_Dam_weight\n",
       "0.547187    7012\n",
       "0.418335    5349\n",
       "0.285714    2346\n",
       "0.435374     606\n",
       "0.441176     116\n",
       "Name: count, dtype: int64"
      ]
     },
     "execution_count": 787,
     "metadata": {},
     "output_type": "execute_result"
    }
   ],
   "source": [
    "test_data[\"THICKNESS 1 Collect Result_Dam_weight\"] = test_data[\"THICKNESS 1 Collect Result_Dam\"].map(target_ratio)\n",
    "test_data[\"THICKNESS 1 Collect Result_Dam_weight\"].value_counts()"
   ]
  },
  {
   "cell_type": "code",
   "execution_count": 788,
   "metadata": {},
   "outputs": [
    {
     "name": "stdout",
     "output_type": "stream",
     "text": [
      "1932\n"
     ]
    }
   ],
   "source": [
    "print(test_data[\"THICKNESS 1 Collect Result_Dam_weight\"].isnull().sum())"
   ]
  },
  {
   "cell_type": "code",
   "execution_count": 789,
   "metadata": {},
   "outputs": [
    {
     "name": "stderr",
     "output_type": "stream",
     "text": [
      "C:\\Users\\hwnam\\AppData\\Local\\Temp\\ipykernel_21144\\3607208726.py:2: FutureWarning: A value is trying to be set on a copy of a DataFrame or Series through chained assignment using an inplace method.\n",
      "The behavior will change in pandas 3.0. This inplace method will never work because the intermediate object on which we are setting values always behaves as a copy.\n",
      "\n",
      "For example, when doing 'df[col].method(value, inplace=True)', try using 'df.method({col: value}, inplace=True)' or df[col] = df[col].method(value) instead, to perform the operation inplace on the original object.\n",
      "\n",
      "\n",
      "  test_data[\"THICKNESS 1 Collect Result_Dam_weight\"].fillna(mean_value, inplace=True)\n"
     ]
    }
   ],
   "source": [
    "mean_value = test_data[\"THICKNESS 1 Collect Result_Dam_weight\"].mean()\n",
    "test_data[\"THICKNESS 1 Collect Result_Dam_weight\"].fillna(mean_value, inplace=True)"
   ]
  },
  {
   "cell_type": "code",
   "execution_count": 790,
   "metadata": {},
   "outputs": [
    {
     "name": "stdout",
     "output_type": "stream",
     "text": [
      "THICKNESS 2 Collect Result_Dam\n",
      "-0.054    0.381443\n",
      " 0.000    0.504260\n",
      " 0.012    0.285714\n",
      " 0.014    0.428571\n",
      "Name: target, dtype: float64\n"
     ]
    }
   ],
   "source": [
    "# 64. THICKNESS 2 Collect Result_Dam\n",
    "target_ratio = df_concat.groupby(\"THICKNESS 2 Collect Result_Dam\")[\"target\"].mean()\n",
    "print(target_ratio)"
   ]
  },
  {
   "cell_type": "code",
   "execution_count": 791,
   "metadata": {},
   "outputs": [
    {
     "data": {
      "text/plain": [
       "THICKNESS 2 Collect Result_Dam_weight\n",
       "0.504260    3286\n",
       "0.381443      97\n",
       "0.428571      14\n",
       "0.285714       7\n",
       "Name: count, dtype: int64"
      ]
     },
     "execution_count": 791,
     "metadata": {},
     "output_type": "execute_result"
    }
   ],
   "source": [
    "df_concat[\"THICKNESS 2 Collect Result_Dam_weight\"] = df_concat[\"THICKNESS 2 Collect Result_Dam\"].map(target_ratio)\n",
    "df_concat[\"THICKNESS 2 Collect Result_Dam_weight\"].value_counts()"
   ]
  },
  {
   "cell_type": "code",
   "execution_count": 792,
   "metadata": {},
   "outputs": [
    {
     "data": {
      "text/plain": [
       "THICKNESS 2 Collect Result_Dam_weight\n",
       "0.504260    15204\n",
       "0.428571      610\n",
       "0.381443      355\n",
       "0.285714       45\n",
       "Name: count, dtype: int64"
      ]
     },
     "execution_count": 792,
     "metadata": {},
     "output_type": "execute_result"
    }
   ],
   "source": [
    "test_data[\"THICKNESS 2 Collect Result_Dam_weight\"] = test_data[\"THICKNESS 2 Collect Result_Dam\"].map(target_ratio)\n",
    "test_data[\"THICKNESS 2 Collect Result_Dam_weight\"].value_counts()"
   ]
  },
  {
   "cell_type": "code",
   "execution_count": 793,
   "metadata": {},
   "outputs": [
    {
     "name": "stdout",
     "output_type": "stream",
     "text": [
      "1147\n"
     ]
    }
   ],
   "source": [
    "print(test_data[\"THICKNESS 2 Collect Result_Dam_weight\"].isnull().sum())"
   ]
  },
  {
   "cell_type": "code",
   "execution_count": 794,
   "metadata": {},
   "outputs": [
    {
     "name": "stderr",
     "output_type": "stream",
     "text": [
      "C:\\Users\\hwnam\\AppData\\Local\\Temp\\ipykernel_21144\\4020876012.py:3: FutureWarning: A value is trying to be set on a copy of a DataFrame or Series through chained assignment using an inplace method.\n",
      "The behavior will change in pandas 3.0. This inplace method will never work because the intermediate object on which we are setting values always behaves as a copy.\n",
      "\n",
      "For example, when doing 'df[col].method(value, inplace=True)', try using 'df.method({col: value}, inplace=True)' or df[col] = df[col].method(value) instead, to perform the operation inplace on the original object.\n",
      "\n",
      "\n",
      "  test_data[\"THICKNESS 2 Collect Result_Dam_weight\"].fillna(mode_value, inplace=True)\n"
     ]
    }
   ],
   "source": [
    "# 최빈값으로 결측치\n",
    "mode_value = test_data[\"THICKNESS 2 Collect Result_Dam_weight\"].mode()[0]\n",
    "test_data[\"THICKNESS 2 Collect Result_Dam_weight\"].fillna(mode_value, inplace=True)"
   ]
  },
  {
   "cell_type": "code",
   "execution_count": 795,
   "metadata": {},
   "outputs": [
    {
     "name": "stdout",
     "output_type": "stream",
     "text": [
      "THICKNESS 3 Collect Result_Dam\n",
      "-0.219    0.381443\n",
      "-0.022    0.285714\n",
      " 0.000    0.504260\n",
      " 0.007    0.428571\n",
      "Name: target, dtype: float64\n"
     ]
    }
   ],
   "source": [
    "# 65. THICKNESS 3 Collect Result_Dam\n",
    "target_ratio = df_concat.groupby(\"THICKNESS 3 Collect Result_Dam\")[\"target\"].mean()\n",
    "print(target_ratio)"
   ]
  },
  {
   "cell_type": "code",
   "execution_count": 796,
   "metadata": {},
   "outputs": [
    {
     "name": "stdout",
     "output_type": "stream",
     "text": [
      "(3404, 122)\n"
     ]
    }
   ],
   "source": [
    "# 64번과 동일한 값이므로 삭제\n",
    "del df_concat[\"THICKNESS 3 Collect Result_Dam\"]\n",
    "print(df_concat.shape)"
   ]
  },
  {
   "cell_type": "code",
   "execution_count": 797,
   "metadata": {},
   "outputs": [
    {
     "name": "stdout",
     "output_type": "stream",
     "text": [
      "WorkMode Collect Result_Dam\n",
      "0.000    0.416821\n",
      "0.003    0.285714\n",
      "0.007    0.381443\n",
      "0.012    0.428571\n",
      "7.000    0.547187\n",
      "Name: target, dtype: float64\n"
     ]
    }
   ],
   "source": [
    "# 66. WorkMode Collect Result_Dam\n",
    "target_ratio = df_concat.groupby(\"WorkMode Collect Result_Dam\")[\"target\"].mean()\n",
    "print(target_ratio)"
   ]
  },
  {
   "cell_type": "code",
   "execution_count": 798,
   "metadata": {},
   "outputs": [
    {
     "name": "stdout",
     "output_type": "stream",
     "text": [
      "(3404, 121)\n"
     ]
    }
   ],
   "source": [
    "# 63번과 동일한 값이므로 삭제\n",
    "del df_concat[\"WorkMode Collect Result_Dam\"]\n",
    "print(df_concat.shape)"
   ]
  },
  {
   "cell_type": "code",
   "execution_count": 799,
   "metadata": {},
   "outputs": [
    {
     "name": "stdout",
     "output_type": "stream",
     "text": [
      "Model.Suffix_AutoClave\n",
      "AJX75334501    0.497020\n",
      "AJX75334502    0.543909\n",
      "AJX75334503    0.000000\n",
      "AJX75334505    0.200000\n",
      "AJX75334507    0.444444\n",
      "AJX75334508    0.333333\n",
      "Name: target, dtype: float64\n"
     ]
    }
   ],
   "source": [
    "# 67. Model.Suffix_AutoClave\n",
    "target_ratio = df_concat.groupby(\"Model.Suffix_AutoClave\")[\"target\"].mean()\n",
    "print(target_ratio)"
   ]
  },
  {
   "cell_type": "code",
   "execution_count": 800,
   "metadata": {},
   "outputs": [
    {
     "data": {
      "text/plain": [
       "Model.Suffix_AutoClave_weight\n",
       "0.497020    3020\n",
       "0.543909     353\n",
       "0.200000      15\n",
       "0.444444       9\n",
       "0.333333       6\n",
       "0.000000       1\n",
       "Name: count, dtype: int64"
      ]
     },
     "execution_count": 800,
     "metadata": {},
     "output_type": "execute_result"
    }
   ],
   "source": [
    "df_concat[\"Model.Suffix_AutoClave_weight\"] = df_concat[\"Model.Suffix_AutoClave\"].map(target_ratio)\n",
    "df_concat[\"Model.Suffix_AutoClave_weight\"].value_counts()"
   ]
  },
  {
   "cell_type": "code",
   "execution_count": 801,
   "metadata": {},
   "outputs": [
    {
     "name": "stdout",
     "output_type": "stream",
     "text": [
      "(3404, 120)\n"
     ]
    }
   ],
   "source": [
    "del df_concat[\"Model.Suffix_AutoClave\"]\n",
    "del df_concat[\"Model.Suffix_AutoClave_weight\"]\n",
    "print(df_concat.shape)"
   ]
  },
  {
   "cell_type": "code",
   "execution_count": 802,
   "metadata": {},
   "outputs": [
    {
     "name": "stdout",
     "output_type": "stream",
     "text": [
      "Workorder_AutoClave\n",
      "3F1X5847-2    0.857143\n",
      "3F1X9643-1    0.500000\n",
      "3F1X9644-1    0.615385\n",
      "3F1X9648-1    0.555556\n",
      "3F1X9648-2    0.250000\n",
      "                ...   \n",
      "4E1X0057-1    0.400000\n",
      "4E1X9167-1    0.125000\n",
      "4E1X9168-1    0.500000\n",
      "4E1X9169-1    0.500000\n",
      "4E1X9170-1    0.600000\n",
      "Name: target, Length: 421, dtype: float64\n"
     ]
    }
   ],
   "source": [
    "# 68. Workorder_AutoClave\n",
    "target_ratio = df_concat.groupby(\"Workorder_AutoClave\")[\"target\"].mean()\n",
    "print(target_ratio)"
   ]
  },
  {
   "cell_type": "code",
   "execution_count": 803,
   "metadata": {},
   "outputs": [
    {
     "name": "stdout",
     "output_type": "stream",
     "text": [
      "(3404, 119)\n"
     ]
    }
   ],
   "source": [
    "del df_concat[\"Workorder_AutoClave\"]\n",
    "print(df_concat.shape)"
   ]
  },
  {
   "cell_type": "code",
   "execution_count": 804,
   "metadata": {},
   "outputs": [
    {
     "name": "stdout",
     "output_type": "stream",
     "text": [
      "1st Pressure Collect Result_AutoClave\n",
      "0.296    1.000000\n",
      "0.297    0.714286\n",
      "0.298    0.469136\n",
      "0.299    0.402516\n",
      "0.300    0.514019\n",
      "0.301    0.496212\n",
      "0.302    0.504808\n",
      "0.303    0.555000\n",
      "0.304    0.521212\n",
      "0.305    0.441718\n",
      "0.306    0.500000\n",
      "0.307    0.500000\n",
      "0.308    0.420732\n",
      "0.309    0.504673\n",
      "0.310    0.516304\n",
      "0.311    0.508197\n",
      "0.312    0.481651\n",
      "0.313    0.532663\n",
      "0.314    0.511962\n",
      "0.315    0.533333\n",
      "0.316    0.515789\n",
      "0.317    0.571429\n",
      "0.318    0.400000\n",
      "0.319    0.000000\n",
      "Name: target, dtype: float64\n"
     ]
    }
   ],
   "source": [
    "# 69. 1st Pressure Collect Result_AutoClave\n",
    "target_ratio = df_concat.groupby(\"1st Pressure Collect Result_AutoClave\")[\"target\"].mean()\n",
    "print(target_ratio)"
   ]
  },
  {
   "cell_type": "code",
   "execution_count": 805,
   "metadata": {},
   "outputs": [
    {
     "data": {
      "text/plain": [
       "1st Pressure Collect Result_AutoClave_weight\n",
       "0.496212    264\n",
       "0.508197    244\n",
       "0.481651    218\n",
       "0.504673    214\n",
       "0.514019    214\n",
       "0.511962    209\n",
       "0.504808    208\n",
       "0.555000    200\n",
       "0.532663    199\n",
       "0.533333    195\n",
       "0.516304    184\n",
       "0.500000    178\n",
       "0.521212    165\n",
       "0.420732    164\n",
       "0.441718    163\n",
       "0.402516    159\n",
       "0.515789     95\n",
       "0.469136     81\n",
       "0.571429     35\n",
       "0.714286      7\n",
       "0.400000      5\n",
       "1.000000      2\n",
       "0.000000      1\n",
       "Name: count, dtype: int64"
      ]
     },
     "execution_count": 805,
     "metadata": {},
     "output_type": "execute_result"
    }
   ],
   "source": [
    "df_concat[\"1st Pressure Collect Result_AutoClave_weight\"] = df_concat[\"1st Pressure Collect Result_AutoClave\"].map(target_ratio)\n",
    "df_concat[\"1st Pressure Collect Result_AutoClave_weight\"].value_counts()"
   ]
  },
  {
   "cell_type": "code",
   "execution_count": 806,
   "metadata": {},
   "outputs": [
    {
     "name": "stdout",
     "output_type": "stream",
     "text": [
      "(3404, 118)\n"
     ]
    }
   ],
   "source": [
    "del df_concat[\"1st Pressure Collect Result_AutoClave\"]\n",
    "del df_concat[\"1st Pressure Collect Result_AutoClave_weight\"]\n",
    "print(df_concat.shape)"
   ]
  },
  {
   "cell_type": "code",
   "execution_count": 807,
   "metadata": {},
   "outputs": [
    {
     "name": "stdout",
     "output_type": "stream",
     "text": [
      "1st Pressure 1st Pressure Unit Time_AutoClave\n",
      "60     1.000000\n",
      "61     0.933333\n",
      "180    0.722222\n",
      "240    0.544901\n",
      "241    0.455048\n",
      "300    0.598131\n",
      "Name: target, dtype: float64\n"
     ]
    }
   ],
   "source": [
    "# 70. 1st Pressure 1st Pressure Unit Time_AutoClave\n",
    "target_ratio = df_concat.groupby(\"1st Pressure 1st Pressure Unit Time_AutoClave\")[\"target\"].mean()\n",
    "print(target_ratio)"
   ]
  },
  {
   "cell_type": "code",
   "execution_count": 808,
   "metadata": {},
   "outputs": [
    {
     "data": {
      "text/plain": [
       "1st Pressure 1st Pressure Unit Time_AutoClave_weight\n",
       "0.455048    2169\n",
       "0.544901     657\n",
       "0.598131     535\n",
       "0.722222      18\n",
       "0.933333      15\n",
       "1.000000      10\n",
       "Name: count, dtype: int64"
      ]
     },
     "execution_count": 808,
     "metadata": {},
     "output_type": "execute_result"
    }
   ],
   "source": [
    "df_concat[\"1st Pressure 1st Pressure Unit Time_AutoClave_weight\"] = df_concat[\"1st Pressure 1st Pressure Unit Time_AutoClave\"].map(target_ratio)\n",
    "df_concat[\"1st Pressure 1st Pressure Unit Time_AutoClave_weight\"].value_counts()"
   ]
  },
  {
   "cell_type": "code",
   "execution_count": 809,
   "metadata": {},
   "outputs": [
    {
     "data": {
      "text/plain": [
       "1st Pressure 1st Pressure Unit Time_AutoClave_weight\n",
       "0.455048    11886\n",
       "0.544901     3696\n",
       "0.598131     1609\n",
       "0.722222       22\n",
       "0.933333       20\n",
       "1.000000        6\n",
       "Name: count, dtype: int64"
      ]
     },
     "execution_count": 809,
     "metadata": {},
     "output_type": "execute_result"
    }
   ],
   "source": [
    "test_data[\"1st Pressure 1st Pressure Unit Time_AutoClave_weight\"] = test_data[\"1st Pressure 1st Pressure Unit Time_AutoClave\"].map(target_ratio)\n",
    "test_data[\"1st Pressure 1st Pressure Unit Time_AutoClave_weight\"].value_counts()"
   ]
  },
  {
   "cell_type": "code",
   "execution_count": 810,
   "metadata": {},
   "outputs": [
    {
     "name": "stdout",
     "output_type": "stream",
     "text": [
      "122\n"
     ]
    }
   ],
   "source": [
    "print(test_data[\"1st Pressure 1st Pressure Unit Time_AutoClave_weight\"].isnull().sum())"
   ]
  },
  {
   "cell_type": "code",
   "execution_count": 811,
   "metadata": {},
   "outputs": [
    {
     "name": "stderr",
     "output_type": "stream",
     "text": [
      "C:\\Users\\hwnam\\AppData\\Local\\Temp\\ipykernel_21144\\2507076420.py:3: FutureWarning: A value is trying to be set on a copy of a DataFrame or Series through chained assignment using an inplace method.\n",
      "The behavior will change in pandas 3.0. This inplace method will never work because the intermediate object on which we are setting values always behaves as a copy.\n",
      "\n",
      "For example, when doing 'df[col].method(value, inplace=True)', try using 'df.method({col: value}, inplace=True)' or df[col] = df[col].method(value) instead, to perform the operation inplace on the original object.\n",
      "\n",
      "\n",
      "  test_data[\"1st Pressure 1st Pressure Unit Time_AutoClave_weight\"].fillna(mode_value, inplace=True)\n"
     ]
    }
   ],
   "source": [
    "# 최빈값으로 결측치 처리\n",
    "mode_value = test_data[\"1st Pressure 1st Pressure Unit Time_AutoClave_weight\"].mode()[0]\n",
    "test_data[\"1st Pressure 1st Pressure Unit Time_AutoClave_weight\"].fillna(mode_value, inplace=True)"
   ]
  },
  {
   "cell_type": "code",
   "execution_count": 812,
   "metadata": {},
   "outputs": [
    {
     "name": "stdout",
     "output_type": "stream",
     "text": [
      "2nd Pressure Collect Result_AutoClave\n",
      "0.297    1.000000\n",
      "0.298    0.333333\n",
      "0.299    0.500000\n",
      "0.300    0.461538\n",
      "0.301    0.459459\n",
      "0.302    0.576271\n",
      "0.303    0.593407\n",
      "0.304    0.613861\n",
      "0.305    0.447059\n",
      "0.306    0.553846\n",
      "0.307    0.629630\n",
      "0.308    0.480000\n",
      "0.309    0.514286\n",
      "0.310    0.523810\n",
      "0.311    0.505495\n",
      "0.312    0.509259\n",
      "0.313    0.435185\n",
      "0.314    0.567308\n",
      "0.315    0.547826\n",
      "0.316    0.576577\n",
      "0.317    0.555556\n",
      "0.318    0.562500\n",
      "0.319    0.875000\n",
      "0.320    0.000000\n",
      "0.349    1.000000\n",
      "0.350    0.500000\n",
      "0.351    0.500000\n",
      "0.352    1.000000\n",
      "0.353    0.500000\n",
      "0.354    0.333333\n",
      "0.355    0.333333\n",
      "0.356    1.000000\n",
      "0.357    0.666667\n",
      "0.358    0.666667\n",
      "0.359    0.333333\n",
      "0.360    0.500000\n",
      "0.361    0.000000\n",
      "0.362    1.000000\n",
      "0.395    1.000000\n",
      "0.452    1.000000\n",
      "0.490    0.401734\n",
      "0.491    0.408100\n",
      "0.492    0.455357\n",
      "0.493    0.304348\n",
      "0.497    0.277778\n",
      "0.498    0.535354\n",
      "0.499    0.619048\n",
      "0.500    0.540816\n",
      "0.501    0.623762\n",
      "0.502    0.638889\n",
      "0.503    0.600000\n",
      "0.580    0.545455\n",
      "0.581    0.342105\n",
      "0.582    0.533333\n",
      "0.583    0.000000\n",
      "0.900    0.000000\n",
      "Name: target, dtype: float64\n"
     ]
    }
   ],
   "source": [
    "# 71. 2nd Pressure Collect Result_AutoClave\n",
    "target_ratio = df_concat.groupby(\"2nd Pressure Collect Result_AutoClave\")[\"target\"].mean()\n",
    "print(target_ratio)"
   ]
  },
  {
   "cell_type": "code",
   "execution_count": 813,
   "metadata": {},
   "outputs": [
    {
     "data": {
      "text/plain": [
       "2nd Pressure Collect Result_AutoClave_weight\n",
       "0.401734    346\n",
       "0.455357    336\n",
       "0.408100    321\n",
       "0.619048    126\n",
       "0.576271    118\n",
       "0.547826    115\n",
       "0.459459    111\n",
       "0.576577    111\n",
       "0.509259    108\n",
       "0.435185    108\n",
       "0.514286    105\n",
       "0.567308    104\n",
       "0.613861    101\n",
       "0.623762    101\n",
       "0.535354     99\n",
       "0.540816     98\n",
       "0.593407     91\n",
       "0.505495     91\n",
       "0.447059     85\n",
       "0.523810     84\n",
       "0.461538     78\n",
       "0.553846     65\n",
       "0.555556     63\n",
       "0.545455     55\n",
       "0.629630     54\n",
       "0.480000     50\n",
       "0.304348     46\n",
       "0.500000     40\n",
       "0.342105     38\n",
       "0.638889     36\n",
       "0.333333     24\n",
       "1.000000     18\n",
       "0.277778     18\n",
       "0.562500     16\n",
       "0.533333     15\n",
       "0.000000     10\n",
       "0.875000      8\n",
       "0.666667      6\n",
       "0.600000      5\n",
       "Name: count, dtype: int64"
      ]
     },
     "execution_count": 813,
     "metadata": {},
     "output_type": "execute_result"
    }
   ],
   "source": [
    "df_concat[\"2nd Pressure Collect Result_AutoClave_weight\"] = df_concat[\"2nd Pressure Collect Result_AutoClave\"].map(target_ratio)\n",
    "df_concat[\"2nd Pressure Collect Result_AutoClave_weight\"].value_counts()"
   ]
  },
  {
   "cell_type": "code",
   "execution_count": 814,
   "metadata": {},
   "outputs": [
    {
     "data": {
      "text/plain": [
       "2nd Pressure Collect Result_AutoClave_weight\n",
       "0.408100    2136\n",
       "0.401734    2082\n",
       "0.455357    1824\n",
       "0.509259     683\n",
       "0.435185     637\n",
       "0.505495     618\n",
       "0.523810     579\n",
       "0.567308     569\n",
       "0.459459     551\n",
       "0.576271     549\n",
       "0.514286     523\n",
       "0.447059     507\n",
       "0.547826     488\n",
       "0.576577     455\n",
       "0.613861     451\n",
       "0.480000     439\n",
       "0.593407     406\n",
       "0.461538     400\n",
       "0.629630     345\n",
       "0.553846     344\n",
       "0.619048     341\n",
       "0.540816     298\n",
       "0.304348     269\n",
       "0.623762     258\n",
       "0.535354     248\n",
       "0.555556     241\n",
       "0.500000     211\n",
       "0.545455     154\n",
       "0.342105     128\n",
       "0.638889     118\n",
       "0.333333      97\n",
       "0.533333      91\n",
       "0.277778      82\n",
       "0.562500      50\n",
       "0.000000      45\n",
       "1.000000      41\n",
       "0.875000      26\n",
       "0.600000      17\n",
       "0.666667      11\n",
       "Name: count, dtype: int64"
      ]
     },
     "execution_count": 814,
     "metadata": {},
     "output_type": "execute_result"
    }
   ],
   "source": [
    "test_data[\"2nd Pressure Collect Result_AutoClave_weight\"] = test_data[\"2nd Pressure Collect Result_AutoClave\"].map(target_ratio)\n",
    "test_data[\"2nd Pressure Collect Result_AutoClave_weight\"].value_counts()"
   ]
  },
  {
   "cell_type": "code",
   "execution_count": 815,
   "metadata": {},
   "outputs": [
    {
     "name": "stdout",
     "output_type": "stream",
     "text": [
      "49\n"
     ]
    }
   ],
   "source": [
    "print(test_data[\"2nd Pressure Collect Result_AutoClave_weight\"].isnull().sum())"
   ]
  },
  {
   "cell_type": "code",
   "execution_count": 816,
   "metadata": {},
   "outputs": [
    {
     "name": "stderr",
     "output_type": "stream",
     "text": [
      "C:\\Users\\hwnam\\AppData\\Local\\Temp\\ipykernel_21144\\3200498579.py:2: FutureWarning: A value is trying to be set on a copy of a DataFrame or Series through chained assignment using an inplace method.\n",
      "The behavior will change in pandas 3.0. This inplace method will never work because the intermediate object on which we are setting values always behaves as a copy.\n",
      "\n",
      "For example, when doing 'df[col].method(value, inplace=True)', try using 'df.method({col: value}, inplace=True)' or df[col] = df[col].method(value) instead, to perform the operation inplace on the original object.\n",
      "\n",
      "\n",
      "  test_data[\"2nd Pressure Collect Result_AutoClave_weight\"].fillna(mean_value, inplace=True)\n"
     ]
    }
   ],
   "source": [
    "mean_value = test_data[\"2nd Pressure Collect Result_AutoClave_weight\"].mean()\n",
    "test_data[\"2nd Pressure Collect Result_AutoClave_weight\"].fillna(mean_value, inplace=True)"
   ]
  },
  {
   "cell_type": "code",
   "execution_count": 817,
   "metadata": {},
   "outputs": [
    {
     "name": "stdout",
     "output_type": "stream",
     "text": [
      "2nd Pressure Unit Time_AutoClave\n",
      "0      0.000000\n",
      "1      0.415833\n",
      "60     0.591356\n",
      "61     1.000000\n",
      "120    0.578801\n",
      "121    0.491062\n",
      "150    0.600000\n",
      "180    1.000000\n",
      "Name: target, dtype: float64\n"
     ]
    }
   ],
   "source": [
    "# 72. 2nd Pressure Unit Time_AutoClave\n",
    "target_ratio = df_concat.groupby(\"2nd Pressure Unit Time_AutoClave\")[\"target\"].mean()\n",
    "print(target_ratio)"
   ]
  },
  {
   "cell_type": "code",
   "execution_count": 818,
   "metadata": {},
   "outputs": [
    {
     "data": {
      "text/plain": [
       "2nd Pressure Unit Time_AutoClave_weight\n",
       "0.415833    1200\n",
       "0.491062     951\n",
       "0.578801     717\n",
       "0.591356     509\n",
       "1.000000      14\n",
       "0.600000      10\n",
       "0.000000       3\n",
       "Name: count, dtype: int64"
      ]
     },
     "execution_count": 818,
     "metadata": {},
     "output_type": "execute_result"
    }
   ],
   "source": [
    "df_concat[\"2nd Pressure Unit Time_AutoClave_weight\"] = df_concat[\"2nd Pressure Unit Time_AutoClave\"].map(target_ratio)\n",
    "df_concat[\"2nd Pressure Unit Time_AutoClave_weight\"].value_counts()"
   ]
  },
  {
   "cell_type": "code",
   "execution_count": 819,
   "metadata": {},
   "outputs": [
    {
     "data": {
      "text/plain": [
       "2nd Pressure Unit Time_AutoClave_weight\n",
       "0.415833    8276\n",
       "0.491062    4578\n",
       "0.578801    2027\n",
       "0.591356    1508\n",
       "0.000000      93\n",
       "0.600000      27\n",
       "1.000000      26\n",
       "Name: count, dtype: int64"
      ]
     },
     "execution_count": 819,
     "metadata": {},
     "output_type": "execute_result"
    }
   ],
   "source": [
    "test_data[\"2nd Pressure Unit Time_AutoClave_weight\"] = test_data[\"2nd Pressure Unit Time_AutoClave\"].map(target_ratio)\n",
    "test_data[\"2nd Pressure Unit Time_AutoClave_weight\"].value_counts()"
   ]
  },
  {
   "cell_type": "code",
   "execution_count": 820,
   "metadata": {},
   "outputs": [
    {
     "name": "stdout",
     "output_type": "stream",
     "text": [
      "826\n"
     ]
    }
   ],
   "source": [
    "print(test_data[\"2nd Pressure Unit Time_AutoClave_weight\"].isnull().sum())"
   ]
  },
  {
   "cell_type": "code",
   "execution_count": 821,
   "metadata": {},
   "outputs": [
    {
     "name": "stderr",
     "output_type": "stream",
     "text": [
      "C:\\Users\\hwnam\\AppData\\Local\\Temp\\ipykernel_21144\\2348194639.py:2: FutureWarning: A value is trying to be set on a copy of a DataFrame or Series through chained assignment using an inplace method.\n",
      "The behavior will change in pandas 3.0. This inplace method will never work because the intermediate object on which we are setting values always behaves as a copy.\n",
      "\n",
      "For example, when doing 'df[col].method(value, inplace=True)', try using 'df.method({col: value}, inplace=True)' or df[col] = df[col].method(value) instead, to perform the operation inplace on the original object.\n",
      "\n",
      "\n",
      "  test_data[\"2nd Pressure Unit Time_AutoClave_weight\"].fillna(mean_value, inplace=True)\n"
     ]
    }
   ],
   "source": [
    "mean_value = test_data[\"2nd Pressure Unit Time_AutoClave_weight\"].mean()\n",
    "test_data[\"2nd Pressure Unit Time_AutoClave_weight\"].fillna(mean_value, inplace=True)"
   ]
  },
  {
   "cell_type": "code",
   "execution_count": 822,
   "metadata": {},
   "outputs": [
    {
     "name": "stdout",
     "output_type": "stream",
     "text": [
      "3rd Pressure Collect Result_AutoClave\n",
      "0.312    1.000000\n",
      "0.349    1.000000\n",
      "0.350    0.500000\n",
      "0.351    0.500000\n",
      "0.352    1.000000\n",
      "0.353    0.333333\n",
      "0.354    0.428571\n",
      "0.355    0.333333\n",
      "0.356    0.800000\n",
      "0.357    1.000000\n",
      "0.358    0.500000\n",
      "0.360    0.000000\n",
      "0.361    0.250000\n",
      "0.362    1.000000\n",
      "0.404    1.000000\n",
      "0.405    1.000000\n",
      "0.406    0.666667\n",
      "0.407    1.000000\n",
      "0.408    1.000000\n",
      "0.451    1.000000\n",
      "0.495    0.333333\n",
      "0.496    0.413043\n",
      "0.497    0.435597\n",
      "0.498    0.501429\n",
      "0.499    0.490754\n",
      "0.500    0.506008\n",
      "0.501    0.563084\n",
      "0.502    0.537037\n",
      "0.503    0.714286\n",
      "0.504    1.000000\n",
      "0.505    1.000000\n",
      "0.596    0.642857\n",
      "0.597    0.375000\n",
      "0.598    0.320000\n",
      "0.599    0.368421\n",
      "0.600    0.230769\n",
      "0.610    0.928571\n",
      "0.611    0.500000\n",
      "0.698    1.000000\n",
      "0.914    0.000000\n",
      "Name: target, dtype: float64\n"
     ]
    }
   ],
   "source": [
    "# 73. 3rd Pressure Collect Result_AutoClave\n",
    "target_ratio = df_concat.groupby(\"3rd Pressure Collect Result_AutoClave\")[\"target\"].mean()\n",
    "print(target_ratio)"
   ]
  },
  {
   "cell_type": "code",
   "execution_count": 823,
   "metadata": {},
   "outputs": [
    {
     "data": {
      "text/plain": [
       "3rd Pressure Collect Result_AutoClave_weight\n",
       "0.506008    749\n",
       "0.490754    703\n",
       "0.501429    700\n",
       "0.563084    428\n",
       "0.435597    427\n",
       "0.537037    108\n",
       "0.413043     92\n",
       "0.320000     25\n",
       "0.375000     24\n",
       "1.000000     22\n",
       "0.500000     20\n",
       "0.368421     19\n",
       "0.714286     14\n",
       "0.642857     14\n",
       "0.928571     14\n",
       "0.230769     13\n",
       "0.333333      9\n",
       "0.428571      7\n",
       "0.800000      5\n",
       "0.000000      4\n",
       "0.250000      4\n",
       "0.666667      3\n",
       "Name: count, dtype: int64"
      ]
     },
     "execution_count": 823,
     "metadata": {},
     "output_type": "execute_result"
    }
   ],
   "source": [
    "df_concat[\"3rd Pressure Collect Result_AutoClave_weight\"] = df_concat[\"3rd Pressure Collect Result_AutoClave\"].map(target_ratio)\n",
    "df_concat[\"3rd Pressure Collect Result_AutoClave_weight\"].value_counts()"
   ]
  },
  {
   "cell_type": "code",
   "execution_count": 824,
   "metadata": {},
   "outputs": [
    {
     "data": {
      "text/plain": [
       "3rd Pressure Collect Result_AutoClave_weight\n",
       "0.501429    3682\n",
       "0.490754    3509\n",
       "0.506008    3338\n",
       "0.435597    2698\n",
       "0.563084    1735\n",
       "0.413043     991\n",
       "0.537037     419\n",
       "0.375000     131\n",
       "0.368421     109\n",
       "0.320000      77\n",
       "0.500000      55\n",
       "0.333333      52\n",
       "1.000000      50\n",
       "0.642857      45\n",
       "0.230769      43\n",
       "0.714286      28\n",
       "0.000000      23\n",
       "0.250000      17\n",
       "0.928571      11\n",
       "0.800000       9\n",
       "0.428571       6\n",
       "0.666667       5\n",
       "Name: count, dtype: int64"
      ]
     },
     "execution_count": 824,
     "metadata": {},
     "output_type": "execute_result"
    }
   ],
   "source": [
    "test_data[\"3rd Pressure Collect Result_AutoClave_weight\"] = test_data[\"3rd Pressure Collect Result_AutoClave\"].map(target_ratio)\n",
    "test_data[\"3rd Pressure Collect Result_AutoClave_weight\"].value_counts()"
   ]
  },
  {
   "cell_type": "code",
   "execution_count": 825,
   "metadata": {},
   "outputs": [
    {
     "name": "stdout",
     "output_type": "stream",
     "text": [
      "328\n"
     ]
    }
   ],
   "source": [
    "print(test_data[\"3rd Pressure Collect Result_AutoClave_weight\"].isnull().sum())"
   ]
  },
  {
   "cell_type": "code",
   "execution_count": 826,
   "metadata": {},
   "outputs": [
    {
     "name": "stderr",
     "output_type": "stream",
     "text": [
      "C:\\Users\\hwnam\\AppData\\Local\\Temp\\ipykernel_21144\\1442461386.py:2: FutureWarning: A value is trying to be set on a copy of a DataFrame or Series through chained assignment using an inplace method.\n",
      "The behavior will change in pandas 3.0. This inplace method will never work because the intermediate object on which we are setting values always behaves as a copy.\n",
      "\n",
      "For example, when doing 'df[col].method(value, inplace=True)', try using 'df.method({col: value}, inplace=True)' or df[col] = df[col].method(value) instead, to perform the operation inplace on the original object.\n",
      "\n",
      "\n",
      "  test_data[\"3rd Pressure Collect Result_AutoClave_weight\"].fillna(mean_value, inplace=True)\n"
     ]
    }
   ],
   "source": [
    "mean_value = test_data[\"3rd Pressure Collect Result_AutoClave_weight\"].mean()\n",
    "test_data[\"3rd Pressure Collect Result_AutoClave_weight\"].fillna(mean_value, inplace=True)"
   ]
  },
  {
   "cell_type": "code",
   "execution_count": 827,
   "metadata": {},
   "outputs": [
    {
     "name": "stdout",
     "output_type": "stream",
     "text": [
      "3rd Pressure Unit Time_AutoClave\n",
      "1      1.000000\n",
      "60     0.769231\n",
      "61     1.000000\n",
      "90     0.846154\n",
      "120    0.562757\n",
      "121    0.452706\n",
      "150    0.578947\n",
      "180    0.722222\n",
      "Name: target, dtype: float64\n"
     ]
    }
   ],
   "source": [
    "# 74. 3rd Pressure Unit Time_AutoClave\n",
    "target_ratio = df_concat.groupby(\"3rd Pressure Unit Time_AutoClave\")[\"target\"].mean()\n",
    "print(target_ratio)"
   ]
  },
  {
   "cell_type": "code",
   "execution_count": 828,
   "metadata": {},
   "outputs": [
    {
     "data": {
      "text/plain": [
       "3rd Pressure Unit Time_AutoClave_weight\n",
       "0.452706    2125\n",
       "0.562757     972\n",
       "0.578947     247\n",
       "0.722222      18\n",
       "1.000000      16\n",
       "0.846154      13\n",
       "0.769231      13\n",
       "Name: count, dtype: int64"
      ]
     },
     "execution_count": 828,
     "metadata": {},
     "output_type": "execute_result"
    }
   ],
   "source": [
    "df_concat[\"3rd Pressure Unit Time_AutoClave_weight\"] = df_concat[\"3rd Pressure Unit Time_AutoClave\"].map(target_ratio)\n",
    "df_concat[\"3rd Pressure Unit Time_AutoClave_weight\"].value_counts()"
   ]
  },
  {
   "cell_type": "code",
   "execution_count": 829,
   "metadata": {},
   "outputs": [
    {
     "data": {
      "text/plain": [
       "3rd Pressure Unit Time_AutoClave_weight\n",
       "0.452706    11557\n",
       "0.562757     4895\n",
       "0.578947      678\n",
       "0.846154       69\n",
       "1.000000       22\n",
       "0.769231       21\n",
       "0.722222       21\n",
       "Name: count, dtype: int64"
      ]
     },
     "execution_count": 829,
     "metadata": {},
     "output_type": "execute_result"
    }
   ],
   "source": [
    "test_data[\"3rd Pressure Unit Time_AutoClave_weight\"] = test_data[\"3rd Pressure Unit Time_AutoClave\"].map(target_ratio)\n",
    "test_data[\"3rd Pressure Unit Time_AutoClave_weight\"].value_counts()"
   ]
  },
  {
   "cell_type": "code",
   "execution_count": 830,
   "metadata": {},
   "outputs": [
    {
     "name": "stdout",
     "output_type": "stream",
     "text": [
      "98\n"
     ]
    }
   ],
   "source": [
    "print(test_data[\"3rd Pressure Unit Time_AutoClave_weight\"].isnull().sum())"
   ]
  },
  {
   "cell_type": "code",
   "execution_count": 831,
   "metadata": {},
   "outputs": [
    {
     "name": "stderr",
     "output_type": "stream",
     "text": [
      "C:\\Users\\hwnam\\AppData\\Local\\Temp\\ipykernel_21144\\980357658.py:3: FutureWarning: A value is trying to be set on a copy of a DataFrame or Series through chained assignment using an inplace method.\n",
      "The behavior will change in pandas 3.0. This inplace method will never work because the intermediate object on which we are setting values always behaves as a copy.\n",
      "\n",
      "For example, when doing 'df[col].method(value, inplace=True)', try using 'df.method({col: value}, inplace=True)' or df[col] = df[col].method(value) instead, to perform the operation inplace on the original object.\n",
      "\n",
      "\n",
      "  test_data[\"3rd Pressure Unit Time_AutoClave_weight\"].fillna(mode_value, inplace=True)\n"
     ]
    }
   ],
   "source": [
    "# 최빈값으로 결측치 처리\n",
    "mode_value = test_data[\"3rd Pressure Unit Time_AutoClave_weight\"].mode()[0]\n",
    "test_data[\"3rd Pressure Unit Time_AutoClave_weight\"].fillna(mode_value, inplace=True)"
   ]
  },
  {
   "cell_type": "code",
   "execution_count": 832,
   "metadata": {},
   "outputs": [
    {
     "name": "stdout",
     "output_type": "stream",
     "text": [
      "Chamber Temp. Collect Result_AutoClave\n",
      "32    0.866667\n",
      "34    1.000000\n",
      "35    1.000000\n",
      "36    1.000000\n",
      "43    1.000000\n",
      "45    0.600000\n",
      "46    0.640000\n",
      "47    0.514925\n",
      "48    0.463602\n",
      "49    0.507128\n",
      "50    0.537246\n",
      "51    0.527778\n",
      "52    0.548387\n",
      "53    0.477670\n",
      "54    0.461426\n",
      "55    0.491289\n",
      "56    0.488000\n",
      "57    0.526316\n",
      "58    0.363636\n",
      "59    0.000000\n",
      "Name: target, dtype: float64\n"
     ]
    }
   ],
   "source": [
    "# 75. Chamber Temp. Collect Result_AutoClave\n",
    "target_ratio = df_concat.groupby(\"Chamber Temp. Collect Result_AutoClave\")[\"target\"].mean()\n",
    "print(target_ratio)"
   ]
  },
  {
   "cell_type": "code",
   "execution_count": 833,
   "metadata": {},
   "outputs": [
    {
     "data": {
      "text/plain": [
       "Chamber Temp. Collect Result_AutoClave_weight\n",
       "0.461426    687\n",
       "0.477670    515\n",
       "0.507128    491\n",
       "0.537246    443\n",
       "0.491289    287\n",
       "0.463602    261\n",
       "0.548387    186\n",
       "0.514925    134\n",
       "0.488000    125\n",
       "0.527778    108\n",
       "0.526316     76\n",
       "0.640000     50\n",
       "0.866667     15\n",
       "0.363636     11\n",
       "1.000000      9\n",
       "0.600000      5\n",
       "0.000000      1\n",
       "Name: count, dtype: int64"
      ]
     },
     "execution_count": 833,
     "metadata": {},
     "output_type": "execute_result"
    }
   ],
   "source": [
    "df_concat[\"Chamber Temp. Collect Result_AutoClave_weight\"] = df_concat[\"Chamber Temp. Collect Result_AutoClave\"].map(target_ratio)\n",
    "df_concat[\"Chamber Temp. Collect Result_AutoClave_weight\"].value_counts()"
   ]
  },
  {
   "cell_type": "code",
   "execution_count": 834,
   "metadata": {},
   "outputs": [
    {
     "name": "stdout",
     "output_type": "stream",
     "text": [
      "(3404, 122)\n"
     ]
    }
   ],
   "source": [
    "del df_concat[\"Chamber Temp. Collect Result_AutoClave\"]\n",
    "del df_concat[\"Chamber Temp. Collect Result_AutoClave_weight\"]\n",
    "print(df_concat.shape)"
   ]
  },
  {
   "cell_type": "code",
   "execution_count": 835,
   "metadata": {},
   "outputs": [
    {
     "name": "stdout",
     "output_type": "stream",
     "text": [
      "Chamber Temp. Unit Time_AutoClave\n",
      "180    1.000000\n",
      "183    1.000000\n",
      "242    1.000000\n",
      "300    1.000000\n",
      "303    0.500000\n",
      "360    0.400000\n",
      "361    0.212121\n",
      "363    0.420103\n",
      "480    0.573661\n",
      "481    0.565217\n",
      "483    0.491043\n",
      "510    0.592308\n",
      "512    0.600000\n",
      "540    0.857143\n",
      "Name: target, dtype: float64\n"
     ]
    }
   ],
   "source": [
    "# 76. Chamber Temp. Unit Time_AutoClave\n",
    "target_ratio = df_concat.groupby(\"Chamber Temp. Unit Time_AutoClave\")[\"target\"].mean()\n",
    "print(target_ratio)"
   ]
  },
  {
   "cell_type": "code",
   "execution_count": 836,
   "metadata": {},
   "outputs": [
    {
     "data": {
      "text/plain": [
       "Chamber Temp. Unit Time_AutoClave_weight\n",
       "0.420103    1164\n",
       "0.491043     949\n",
       "0.573661     896\n",
       "0.592308     260\n",
       "0.565217      46\n",
       "0.212121      33\n",
       "1.000000      25\n",
       "0.857143      14\n",
       "0.600000      10\n",
       "0.400000       5\n",
       "0.500000       2\n",
       "Name: count, dtype: int64"
      ]
     },
     "execution_count": 836,
     "metadata": {},
     "output_type": "execute_result"
    }
   ],
   "source": [
    "df_concat[\"Chamber Temp. Unit Time_AutoClave_weight\"] = df_concat[\"Chamber Temp. Unit Time_AutoClave\"].map(target_ratio)\n",
    "df_concat[\"Chamber Temp. Unit Time_AutoClave_weight\"].value_counts()"
   ]
  },
  {
   "cell_type": "code",
   "execution_count": 837,
   "metadata": {},
   "outputs": [
    {
     "data": {
      "text/plain": [
       "Chamber Temp. Unit Time_AutoClave_weight\n",
       "0.420103    6394\n",
       "0.491043    4576\n",
       "0.573661    2567\n",
       "0.212121    1702\n",
       "0.592308     745\n",
       "0.565217     190\n",
       "0.400000      94\n",
       "0.600000      27\n",
       "0.857143      25\n",
       "1.000000       9\n",
       "0.500000       4\n",
       "Name: count, dtype: int64"
      ]
     },
     "execution_count": 837,
     "metadata": {},
     "output_type": "execute_result"
    }
   ],
   "source": [
    "test_data[\"Chamber Temp. Unit Time_AutoClave_weight\"] = test_data[\"Chamber Temp. Unit Time_AutoClave\"].map(target_ratio)\n",
    "test_data[\"Chamber Temp. Unit Time_AutoClave_weight\"].value_counts()"
   ]
  },
  {
   "cell_type": "code",
   "execution_count": 838,
   "metadata": {},
   "outputs": [
    {
     "name": "stdout",
     "output_type": "stream",
     "text": [
      "1028\n"
     ]
    }
   ],
   "source": [
    "print(test_data[\"Chamber Temp. Unit Time_AutoClave_weight\"].isnull().sum())"
   ]
  },
  {
   "cell_type": "code",
   "execution_count": 839,
   "metadata": {},
   "outputs": [
    {
     "name": "stderr",
     "output_type": "stream",
     "text": [
      "C:\\Users\\hwnam\\AppData\\Local\\Temp\\ipykernel_21144\\998722996.py:3: FutureWarning: A value is trying to be set on a copy of a DataFrame or Series through chained assignment using an inplace method.\n",
      "The behavior will change in pandas 3.0. This inplace method will never work because the intermediate object on which we are setting values always behaves as a copy.\n",
      "\n",
      "For example, when doing 'df[col].method(value, inplace=True)', try using 'df.method({col: value}, inplace=True)' or df[col] = df[col].method(value) instead, to perform the operation inplace on the original object.\n",
      "\n",
      "\n",
      "  test_data[\"Chamber Temp. Unit Time_AutoClave_weight\"].fillna(mode_value, inplace=True)\n"
     ]
    }
   ],
   "source": [
    "# 최빈값으로 결측치 처리\n",
    "mode_value = test_data[\"Chamber Temp. Unit Time_AutoClave_weight\"].mode()[0]\n",
    "test_data[\"Chamber Temp. Unit Time_AutoClave_weight\"].fillna(mode_value, inplace=True)"
   ]
  },
  {
   "cell_type": "code",
   "execution_count": 840,
   "metadata": {},
   "outputs": [
    {
     "name": "stdout",
     "output_type": "stream",
     "text": [
      "Chamber Temp. Judge Value_AutoClave\n",
      "NG    0.505297\n",
      "OK    0.497967\n",
      "Name: target, dtype: float64\n"
     ]
    }
   ],
   "source": [
    "# 77. Chamber Temp. Judge Value_AutoClave\n",
    "target_ratio = df_concat.groupby(\"Chamber Temp. Judge Value_AutoClave\")[\"target\"].mean()\n",
    "print(target_ratio)"
   ]
  },
  {
   "cell_type": "code",
   "execution_count": 841,
   "metadata": {},
   "outputs": [
    {
     "name": "stdout",
     "output_type": "stream",
     "text": [
      "(3404, 122)\n"
     ]
    }
   ],
   "source": [
    "# 둘이 수치가 거의 비슷\n",
    "del df_concat[\"Chamber Temp. Judge Value_AutoClave\"]\n",
    "print(df_concat.shape)"
   ]
  },
  {
   "cell_type": "code",
   "execution_count": 842,
   "metadata": {},
   "outputs": [
    {
     "name": "stdout",
     "output_type": "stream",
     "text": [
      "Equipment_Fill1\n",
      "Fill1 dispenser #1    0.513514\n",
      "Fill1 dispenser #2    0.469112\n",
      "Name: target, dtype: float64\n"
     ]
    }
   ],
   "source": [
    "# 78. Equipment_Fill1\n",
    "target_ratio = df_concat.groupby(\"Equipment_Fill1\")[\"target\"].mean()\n",
    "print(target_ratio)"
   ]
  },
  {
   "cell_type": "code",
   "execution_count": 843,
   "metadata": {},
   "outputs": [
    {
     "data": {
      "text/plain": [
       "Equipment_Fill1_weight\n",
       "0.513514    2368\n",
       "0.469112    1036\n",
       "Name: count, dtype: int64"
      ]
     },
     "execution_count": 843,
     "metadata": {},
     "output_type": "execute_result"
    }
   ],
   "source": [
    "df_concat[\"Equipment_Fill1_weight\"] = df_concat[\"Equipment_Fill1\"].map(target_ratio)\n",
    "df_concat[\"Equipment_Fill1_weight\"].value_counts()"
   ]
  },
  {
   "cell_type": "code",
   "execution_count": 844,
   "metadata": {},
   "outputs": [
    {
     "data": {
      "text/plain": [
       "Equipment_Fill1_weight\n",
       "0.513514    10738\n",
       "0.469112     6623\n",
       "Name: count, dtype: int64"
      ]
     },
     "execution_count": 844,
     "metadata": {},
     "output_type": "execute_result"
    }
   ],
   "source": [
    "test_data[\"Equipment_Fill1_weight\"] = test_data[\"Equipment_Fill1\"].map(target_ratio)\n",
    "test_data[\"Equipment_Fill1_weight\"].value_counts()"
   ]
  },
  {
   "cell_type": "code",
   "execution_count": 845,
   "metadata": {},
   "outputs": [
    {
     "name": "stdout",
     "output_type": "stream",
     "text": [
      "0\n"
     ]
    }
   ],
   "source": [
    "print(test_data[\"Equipment_Fill1_weight\"].isnull().sum())"
   ]
  },
  {
   "cell_type": "code",
   "execution_count": 846,
   "metadata": {},
   "outputs": [
    {
     "name": "stdout",
     "output_type": "stream",
     "text": [
      "Model.Suffix_Fill1\n",
      "AJX75334501    0.497020\n",
      "AJX75334502    0.543909\n",
      "AJX75334503    0.000000\n",
      "AJX75334505    0.200000\n",
      "AJX75334507    0.444444\n",
      "AJX75334508    0.333333\n",
      "Name: target, dtype: float64\n"
     ]
    }
   ],
   "source": [
    "# 79. Model.Suffix_Fill1\n",
    "target_ratio = df_concat.groupby(\"Model.Suffix_Fill1\")[\"target\"].mean()\n",
    "print(target_ratio)"
   ]
  },
  {
   "cell_type": "code",
   "execution_count": 847,
   "metadata": {},
   "outputs": [
    {
     "name": "stdout",
     "output_type": "stream",
     "text": [
      "(3404, 122)\n"
     ]
    }
   ],
   "source": [
    "del df_concat[\"Model.Suffix_Fill1\"]\n",
    "print(df_concat.shape)"
   ]
  },
  {
   "cell_type": "code",
   "execution_count": 848,
   "metadata": {},
   "outputs": [
    {
     "name": "stdout",
     "output_type": "stream",
     "text": [
      "Workorder_Fill1\n",
      "3F1X5847-2    0.857143\n",
      "3F1X9643-1    0.500000\n",
      "3F1X9644-1    0.615385\n",
      "3F1X9648-1    0.555556\n",
      "3F1X9648-2    0.250000\n",
      "                ...   \n",
      "4E1X0057-1    0.400000\n",
      "4E1X9167-1    0.125000\n",
      "4E1X9168-1    0.500000\n",
      "4E1X9169-1    0.500000\n",
      "4E1X9170-1    0.600000\n",
      "Name: target, Length: 421, dtype: float64\n"
     ]
    }
   ],
   "source": [
    "# 80. Workorder_Fill1\n",
    "target_ratio = df_concat.groupby(\"Workorder_Fill1\")[\"target\"].mean()\n",
    "print(target_ratio)"
   ]
  },
  {
   "cell_type": "code",
   "execution_count": 849,
   "metadata": {},
   "outputs": [
    {
     "name": "stdout",
     "output_type": "stream",
     "text": [
      "(3404, 121)\n"
     ]
    }
   ],
   "source": [
    "del df_concat[\"Workorder_Fill1\"]\n",
    "print(df_concat.shape)"
   ]
  },
  {
   "cell_type": "code",
   "execution_count": 850,
   "metadata": {},
   "outputs": [
    {
     "name": "stdout",
     "output_type": "stream",
     "text": [
      "DISCHARGED SPEED OF RESIN Collect Result_Fill1\n",
      "8.0     0.485714\n",
      "10.6    0.476770\n",
      "10.9    0.596651\n",
      "Name: target, dtype: float64\n"
     ]
    }
   ],
   "source": [
    "# 81. DISCHARGED SPEED OF RESIN Collect Result_Fill1\n",
    "target_ratio = df_concat.groupby(\"DISCHARGED SPEED OF RESIN Collect Result_Fill1\")[\"target\"].mean()\n",
    "print(target_ratio)"
   ]
  },
  {
   "cell_type": "code",
   "execution_count": 851,
   "metadata": {},
   "outputs": [
    {
     "data": {
      "text/plain": [
       "DISCHARGED SPEED OF RESIN Collect Result_Fill1_weight\n",
       "0.476770    2712\n",
       "0.596651     657\n",
       "0.485714      35\n",
       "Name: count, dtype: int64"
      ]
     },
     "execution_count": 851,
     "metadata": {},
     "output_type": "execute_result"
    }
   ],
   "source": [
    "df_concat[\"DISCHARGED SPEED OF RESIN Collect Result_Fill1_weight\"] = df_concat[\"DISCHARGED SPEED OF RESIN Collect Result_Fill1\"].map(target_ratio)\n",
    "df_concat[\"DISCHARGED SPEED OF RESIN Collect Result_Fill1_weight\"].value_counts()"
   ]
  },
  {
   "cell_type": "code",
   "execution_count": 852,
   "metadata": {},
   "outputs": [
    {
     "data": {
      "text/plain": [
       "DISCHARGED SPEED OF RESIN Collect Result_Fill1_weight\n",
       "0.476770    15342\n",
       "0.596651     1878\n",
       "0.485714      141\n",
       "Name: count, dtype: int64"
      ]
     },
     "execution_count": 852,
     "metadata": {},
     "output_type": "execute_result"
    }
   ],
   "source": [
    "test_data[\"DISCHARGED SPEED OF RESIN Collect Result_Fill1_weight\"] = test_data[\"DISCHARGED SPEED OF RESIN Collect Result_Fill1\"].map(target_ratio)\n",
    "test_data[\"DISCHARGED SPEED OF RESIN Collect Result_Fill1_weight\"].value_counts()"
   ]
  },
  {
   "cell_type": "code",
   "execution_count": 853,
   "metadata": {},
   "outputs": [
    {
     "name": "stdout",
     "output_type": "stream",
     "text": [
      "0\n"
     ]
    }
   ],
   "source": [
    "print(test_data[\"DISCHARGED SPEED OF RESIN Collect Result_Fill1_weight\"].isnull().sum())"
   ]
  },
  {
   "cell_type": "code",
   "execution_count": 854,
   "metadata": {},
   "outputs": [
    {
     "name": "stdout",
     "output_type": "stream",
     "text": [
      "DISCHARGED TIME OF RESIN(Stage1) Collect Result_Fill1\n",
      "12.8    0.398936\n",
      "12.9    0.424550\n",
      "13.2    0.592593\n",
      "13.3    0.555932\n",
      "13.4    0.528107\n",
      "13.5    0.532726\n",
      "13.6    0.714286\n",
      "17.3    0.400000\n",
      "17.4    0.550000\n",
      "Name: target, dtype: float64\n"
     ]
    }
   ],
   "source": [
    "# 82. DISCHARGED TIME OF RESIN(Stage1) Collect Result_Fill1\n",
    "target_ratio = df_concat.groupby(\"DISCHARGED TIME OF RESIN(Stage1) Collect Result_Fill1\")[\"target\"].mean()\n",
    "print(target_ratio)"
   ]
  },
  {
   "cell_type": "code",
   "execution_count": 855,
   "metadata": {},
   "outputs": [
    {
     "data": {
      "text/plain": [
       "DISCHARGED TIME OF RESIN(Stage1) Collect Result_Fill1_weight\n",
       "0.532726    1207\n",
       "0.424550     888\n",
       "0.528107     676\n",
       "0.555932     295\n",
       "0.398936     188\n",
       "0.592593     108\n",
       "0.550000      20\n",
       "0.400000      15\n",
       "0.714286       7\n",
       "Name: count, dtype: int64"
      ]
     },
     "execution_count": 855,
     "metadata": {},
     "output_type": "execute_result"
    }
   ],
   "source": [
    "df_concat[\"DISCHARGED TIME OF RESIN(Stage1) Collect Result_Fill1_weight\"] = df_concat[\"DISCHARGED TIME OF RESIN(Stage1) Collect Result_Fill1\"].map(target_ratio)\n",
    "df_concat[\"DISCHARGED TIME OF RESIN(Stage1) Collect Result_Fill1_weight\"].value_counts()"
   ]
  },
  {
   "cell_type": "code",
   "execution_count": 856,
   "metadata": {},
   "outputs": [
    {
     "data": {
      "text/plain": [
       "DISCHARGED TIME OF RESIN(Stage1) Collect Result_Fill1_weight\n",
       "0.532726    6864\n",
       "0.424550    3724\n",
       "0.528107    2934\n",
       "0.398936    1160\n",
       "0.555932     922\n",
       "0.714286     653\n",
       "0.592593     286\n",
       "0.400000      85\n",
       "0.550000      56\n",
       "Name: count, dtype: int64"
      ]
     },
     "execution_count": 856,
     "metadata": {},
     "output_type": "execute_result"
    }
   ],
   "source": [
    "test_data[\"DISCHARGED TIME OF RESIN(Stage1) Collect Result_Fill1_weight\"] = test_data[\"DISCHARGED TIME OF RESIN(Stage1) Collect Result_Fill1\"].map(target_ratio)\n",
    "test_data[\"DISCHARGED TIME OF RESIN(Stage1) Collect Result_Fill1_weight\"].value_counts()"
   ]
  },
  {
   "cell_type": "code",
   "execution_count": 857,
   "metadata": {},
   "outputs": [
    {
     "name": "stdout",
     "output_type": "stream",
     "text": [
      "677\n"
     ]
    }
   ],
   "source": [
    "print(test_data[\"DISCHARGED TIME OF RESIN(Stage1) Collect Result_Fill1_weight\"].isnull().sum())"
   ]
  },
  {
   "cell_type": "code",
   "execution_count": 858,
   "metadata": {},
   "outputs": [
    {
     "name": "stderr",
     "output_type": "stream",
     "text": [
      "C:\\Users\\hwnam\\AppData\\Local\\Temp\\ipykernel_21144\\782839885.py:2: FutureWarning: A value is trying to be set on a copy of a DataFrame or Series through chained assignment using an inplace method.\n",
      "The behavior will change in pandas 3.0. This inplace method will never work because the intermediate object on which we are setting values always behaves as a copy.\n",
      "\n",
      "For example, when doing 'df[col].method(value, inplace=True)', try using 'df.method({col: value}, inplace=True)' or df[col] = df[col].method(value) instead, to perform the operation inplace on the original object.\n",
      "\n",
      "\n",
      "  test_data[\"DISCHARGED TIME OF RESIN(Stage1) Collect Result_Fill1_weight\"].fillna(mean_value, inplace=True)\n"
     ]
    }
   ],
   "source": [
    "mean_value = test_data[\"DISCHARGED TIME OF RESIN(Stage1) Collect Result_Fill1_weight\"].mean()\n",
    "test_data[\"DISCHARGED TIME OF RESIN(Stage1) Collect Result_Fill1_weight\"].fillna(mean_value, inplace=True)"
   ]
  },
  {
   "cell_type": "code",
   "execution_count": 859,
   "metadata": {},
   "outputs": [
    {
     "name": "stdout",
     "output_type": "stream",
     "text": [
      "DISCHARGED TIME OF RESIN(Stage2) Collect Result_Fill1\n",
      "3.5    0.468531\n",
      "3.6    0.443601\n",
      "3.7    0.554717\n",
      "3.8    0.581633\n",
      "3.9    0.812500\n",
      "4.0    0.571429\n",
      "4.2    1.000000\n",
      "4.3    0.000000\n",
      "4.7    0.333333\n",
      "4.9    0.579235\n",
      "5.0    0.611222\n",
      "5.1    0.666667\n",
      "Name: target, dtype: float64\n"
     ]
    }
   ],
   "source": [
    "# 83. DISCHARGED TIME OF RESIN(Stage2) Collect Result_Fill1\n",
    "target_ratio = df_concat.groupby(\"DISCHARGED TIME OF RESIN(Stage2) Collect Result_Fill1\")[\"target\"].mean()\n",
    "print(target_ratio)"
   ]
  },
  {
   "cell_type": "code",
   "execution_count": 860,
   "metadata": {},
   "outputs": [
    {
     "data": {
      "text/plain": [
       "DISCHARGED TIME OF RESIN(Stage2) Collect Result_Fill1_weight\n",
       "0.443601    1977\n",
       "0.611222     499\n",
       "0.579235     366\n",
       "0.554717     265\n",
       "0.468531     143\n",
       "0.581633      98\n",
       "0.666667      21\n",
       "0.812500      16\n",
       "0.571429      14\n",
       "0.333333       3\n",
       "0.000000       1\n",
       "1.000000       1\n",
       "Name: count, dtype: int64"
      ]
     },
     "execution_count": 860,
     "metadata": {},
     "output_type": "execute_result"
    }
   ],
   "source": [
    "df_concat[\"DISCHARGED TIME OF RESIN(Stage2) Collect Result_Fill1_weight\"] = df_concat[\"DISCHARGED TIME OF RESIN(Stage2) Collect Result_Fill1\"].map(target_ratio)\n",
    "df_concat[\"DISCHARGED TIME OF RESIN(Stage2) Collect Result_Fill1_weight\"].value_counts()"
   ]
  },
  {
   "cell_type": "code",
   "execution_count": 861,
   "metadata": {},
   "outputs": [
    {
     "name": "stdout",
     "output_type": "stream",
     "text": [
      "(3404, 122)\n"
     ]
    }
   ],
   "source": [
    "del df_concat[\"DISCHARGED TIME OF RESIN(Stage2) Collect Result_Fill1\"]\n",
    "del df_concat[\"DISCHARGED TIME OF RESIN(Stage2) Collect Result_Fill1_weight\"]\n",
    "print(df_concat.shape)"
   ]
  },
  {
   "cell_type": "code",
   "execution_count": 862,
   "metadata": {},
   "outputs": [
    {
     "name": "stdout",
     "output_type": "stream",
     "text": [
      "DISCHARGED TIME OF RESIN(Stage3) Collect Result_Fill1\n",
      "12.8    0.414815\n",
      "12.9    0.415755\n",
      "13.0    0.500000\n",
      "13.1    0.538462\n",
      "13.2    0.663551\n",
      "13.3    0.517241\n",
      "13.4    0.556391\n",
      "13.5    0.523994\n",
      "13.6    0.285714\n",
      "17.3    0.520000\n",
      "17.4    0.400000\n",
      "Name: target, dtype: float64\n"
     ]
    }
   ],
   "source": [
    "# 84. DISCHARGED TIME OF RESIN(Stage3) Collect Result_Fill1\n",
    "target_ratio = df_concat.groupby(\"DISCHARGED TIME OF RESIN(Stage3) Collect Result_Fill1\")[\"target\"].mean()\n",
    "print(target_ratio)"
   ]
  },
  {
   "cell_type": "code",
   "execution_count": 863,
   "metadata": {},
   "outputs": [
    {
     "data": {
      "text/plain": [
       "DISCHARGED TIME OF RESIN(Stage3) Collect Result_Fill1_weight\n",
       "0.523994    1292\n",
       "0.415755     914\n",
       "0.556391     665\n",
       "0.517241     232\n",
       "0.414815     135\n",
       "0.663551     107\n",
       "0.520000      25\n",
       "0.538462      13\n",
       "0.400000      10\n",
       "0.285714       7\n",
       "0.500000       4\n",
       "Name: count, dtype: int64"
      ]
     },
     "execution_count": 863,
     "metadata": {},
     "output_type": "execute_result"
    }
   ],
   "source": [
    "df_concat[\"DISCHARGED TIME OF RESIN(Stage3) Collect Result_Fill1_weight\"] = df_concat[\"DISCHARGED TIME OF RESIN(Stage3) Collect Result_Fill1\"].map(target_ratio)\n",
    "df_concat[\"DISCHARGED TIME OF RESIN(Stage3) Collect Result_Fill1_weight\"].value_counts()"
   ]
  },
  {
   "cell_type": "code",
   "execution_count": 864,
   "metadata": {},
   "outputs": [
    {
     "data": {
      "text/plain": [
       "DISCHARGED TIME OF RESIN(Stage3) Collect Result_Fill1_weight\n",
       "0.523994    7392\n",
       "0.415755    3906\n",
       "0.556391    2622\n",
       "0.414815     909\n",
       "0.517241     744\n",
       "0.285714     667\n",
       "0.663551     252\n",
       "0.520000      71\n",
       "0.400000      70\n",
       "0.500000      26\n",
       "0.538462      25\n",
       "Name: count, dtype: int64"
      ]
     },
     "execution_count": 864,
     "metadata": {},
     "output_type": "execute_result"
    }
   ],
   "source": [
    "test_data[\"DISCHARGED TIME OF RESIN(Stage3) Collect Result_Fill1_weight\"] = test_data[\"DISCHARGED TIME OF RESIN(Stage3) Collect Result_Fill1\"].map(target_ratio)\n",
    "test_data[\"DISCHARGED TIME OF RESIN(Stage3) Collect Result_Fill1_weight\"].value_counts()"
   ]
  },
  {
   "cell_type": "code",
   "execution_count": 865,
   "metadata": {},
   "outputs": [
    {
     "name": "stdout",
     "output_type": "stream",
     "text": [
      "677\n"
     ]
    }
   ],
   "source": [
    "print(test_data[\"DISCHARGED TIME OF RESIN(Stage3) Collect Result_Fill1_weight\"].isnull().sum())"
   ]
  },
  {
   "cell_type": "code",
   "execution_count": 866,
   "metadata": {},
   "outputs": [
    {
     "name": "stderr",
     "output_type": "stream",
     "text": [
      "C:\\Users\\hwnam\\AppData\\Local\\Temp\\ipykernel_21144\\323879492.py:3: FutureWarning: A value is trying to be set on a copy of a DataFrame or Series through chained assignment using an inplace method.\n",
      "The behavior will change in pandas 3.0. This inplace method will never work because the intermediate object on which we are setting values always behaves as a copy.\n",
      "\n",
      "For example, when doing 'df[col].method(value, inplace=True)', try using 'df.method({col: value}, inplace=True)' or df[col] = df[col].method(value) instead, to perform the operation inplace on the original object.\n",
      "\n",
      "\n",
      "  test_data[\"DISCHARGED TIME OF RESIN(Stage3) Collect Result_Fill1_weight\"].fillna(mode_value, inplace=True)\n"
     ]
    }
   ],
   "source": [
    "# 최빈값으로 결측치 처리\n",
    "mode_value = test_data[\"DISCHARGED TIME OF RESIN(Stage3) Collect Result_Fill1_weight\"].mode()[0]\n",
    "test_data[\"DISCHARGED TIME OF RESIN(Stage3) Collect Result_Fill1_weight\"].fillna(mode_value, inplace=True)"
   ]
  },
  {
   "cell_type": "code",
   "execution_count": 867,
   "metadata": {},
   "outputs": [
    {
     "name": "stdout",
     "output_type": "stream",
     "text": [
      "Dispense Volume(Stage1) Collect Result_Fill1\n",
      "12.16    0.398936\n",
      "12.25    0.424550\n",
      "12.45    0.400000\n",
      "12.52    0.550000\n",
      "12.54    0.592593\n",
      "12.63    0.555932\n",
      "12.73    0.528107\n",
      "12.82    0.532726\n",
      "12.92    0.714286\n",
      "Name: target, dtype: float64\n"
     ]
    }
   ],
   "source": [
    "# 85. Dispense Volume(Stage1) Collect Result_Fill1\n",
    "target_ratio = df_concat.groupby(\"Dispense Volume(Stage1) Collect Result_Fill1\")[\"target\"].mean()\n",
    "print(target_ratio)"
   ]
  },
  {
   "cell_type": "code",
   "execution_count": 868,
   "metadata": {},
   "outputs": [
    {
     "name": "stdout",
     "output_type": "stream",
     "text": [
      "(3404, 122)\n"
     ]
    }
   ],
   "source": [
    "# 82번과 동일한 값이므로 삭제\n",
    "del df_concat[\"Dispense Volume(Stage1) Collect Result_Fill1\"]\n",
    "print(df_concat.shape)"
   ]
  },
  {
   "cell_type": "code",
   "execution_count": 869,
   "metadata": {},
   "outputs": [
    {
     "name": "stdout",
     "output_type": "stream",
     "text": [
      "Dispense Volume(Stage2) Collect Result_Fill1\n",
      "3.32    0.468531\n",
      "3.42    0.443601\n",
      "3.51    0.554717\n",
      "3.52    0.451613\n",
      "3.60    0.750000\n",
      "3.61    0.581633\n",
      "3.70    0.812500\n",
      "3.80    0.571429\n",
      "3.99    1.000000\n",
      "4.08    0.000000\n",
      "4.46    0.333333\n",
      "4.65    0.591045\n",
      "4.75    0.610101\n",
      "4.84    0.666667\n",
      "Name: target, dtype: float64\n"
     ]
    }
   ],
   "source": [
    "# 86. Dispense Volume(Stage2) Collect Result_Fill1\n",
    "target_ratio = df_concat.groupby(\"Dispense Volume(Stage2) Collect Result_Fill1\")[\"target\"].mean()\n",
    "print(target_ratio)"
   ]
  },
  {
   "cell_type": "code",
   "execution_count": 870,
   "metadata": {},
   "outputs": [
    {
     "name": "stdout",
     "output_type": "stream",
     "text": [
      "(3404, 121)\n"
     ]
    }
   ],
   "source": [
    "del df_concat[\"Dispense Volume(Stage2) Collect Result_Fill1\"]\n",
    "print(df_concat.shape)"
   ]
  },
  {
   "cell_type": "code",
   "execution_count": 871,
   "metadata": {},
   "outputs": [
    {
     "name": "stdout",
     "output_type": "stream",
     "text": [
      "Dispense Volume(Stage3) Collect Result_Fill1\n",
      "12.16    0.414815\n",
      "12.25    0.415755\n",
      "12.35    0.500000\n",
      "12.44    0.538462\n",
      "12.45    0.520000\n",
      "12.52    0.400000\n",
      "12.54    0.663551\n",
      "12.63    0.517241\n",
      "12.73    0.556391\n",
      "12.82    0.523994\n",
      "12.92    0.285714\n",
      "Name: target, dtype: float64\n"
     ]
    }
   ],
   "source": [
    "# 87. Dispense Volume(Stage3) Collect Result_Fill1\n",
    "target_ratio = df_concat.groupby(\"Dispense Volume(Stage3) Collect Result_Fill1\")[\"target\"].mean()\n",
    "print(target_ratio)"
   ]
  },
  {
   "cell_type": "code",
   "execution_count": 872,
   "metadata": {},
   "outputs": [
    {
     "name": "stdout",
     "output_type": "stream",
     "text": [
      "(3404, 120)\n"
     ]
    }
   ],
   "source": [
    "# 84번과 동일한 값이므로 삭제\n",
    "del df_concat[\"Dispense Volume(Stage3) Collect Result_Fill1\"]\n",
    "print(df_concat.shape)"
   ]
  },
  {
   "cell_type": "code",
   "execution_count": 873,
   "metadata": {},
   "outputs": [
    {
     "name": "stdout",
     "output_type": "stream",
     "text": [
      "HEAD NORMAL COORDINATE X AXIS(Stage2) Collect Result_Fill1\n",
      "458.2    0.400000\n",
      "458.5    0.477245\n",
      "458.8    0.535632\n",
      "459.2    0.714286\n",
      "459.5    0.655502\n",
      "460.0    0.597475\n",
      "460.5    0.000000\n",
      "837.4    0.419689\n",
      "837.9    0.410345\n",
      "838.4    0.414520\n",
      "Name: target, dtype: float64\n"
     ]
    }
   ],
   "source": [
    "# 88. HEAD NORMAL COORDINATE X AXIS(Stage2) Collect Result_Fill1\n",
    "target_ratio = df_concat.groupby(\"HEAD NORMAL COORDINATE X AXIS(Stage2) Collect Result_Fill1\")[\"target\"].mean()\n",
    "print(target_ratio)"
   ]
  },
  {
   "cell_type": "code",
   "execution_count": 874,
   "metadata": {},
   "outputs": [
    {
     "data": {
      "text/plain": [
       "HEAD NORMAL COORDINATE X AXIS(Stage2) Collect Result_Fill1_weight\n",
       "0.477245    813\n",
       "0.597475    713\n",
       "0.410345    580\n",
       "0.535632    435\n",
       "0.414520    427\n",
       "0.655502    209\n",
       "0.419689    193\n",
       "0.714286     28\n",
       "0.400000      5\n",
       "0.000000      1\n",
       "Name: count, dtype: int64"
      ]
     },
     "execution_count": 874,
     "metadata": {},
     "output_type": "execute_result"
    }
   ],
   "source": [
    "df_concat[\"HEAD NORMAL COORDINATE X AXIS(Stage2) Collect Result_Fill1_weight\"] = df_concat[\"HEAD NORMAL COORDINATE X AXIS(Stage2) Collect Result_Fill1\"].map(target_ratio)\n",
    "df_concat[\"HEAD NORMAL COORDINATE X AXIS(Stage2) Collect Result_Fill1_weight\"].value_counts()"
   ]
  },
  {
   "cell_type": "code",
   "execution_count": 875,
   "metadata": {},
   "outputs": [
    {
     "name": "stdout",
     "output_type": "stream",
     "text": [
      "(3404, 119)\n"
     ]
    }
   ],
   "source": [
    "del df_concat[\"HEAD NORMAL COORDINATE X AXIS(Stage2) Collect Result_Fill1\"]\n",
    "del df_concat[\"HEAD NORMAL COORDINATE X AXIS(Stage2) Collect Result_Fill1_weight\"]\n",
    "print(df_concat.shape)"
   ]
  },
  {
   "cell_type": "code",
   "execution_count": 876,
   "metadata": {},
   "outputs": [
    {
     "name": "stdout",
     "output_type": "stream",
     "text": [
      "HEAD NORMAL COORDINATE X AXIS(Stage3) Collect Result_Fill1\n",
      "157.0    0.519397\n",
      "157.5    0.593506\n",
      "157.7    0.571429\n",
      "158.0    0.628571\n",
      "457.6    0.709677\n",
      "457.7    0.285714\n",
      "457.8    0.453659\n",
      "457.9    0.412371\n",
      "458.1    0.333333\n",
      "458.3    0.393103\n",
      "458.4    0.403579\n",
      "Name: target, dtype: float64\n"
     ]
    }
   ],
   "source": [
    "# 89. HEAD NORMAL COORDINATE X AXIS(Stage3) Collect Result_Fill1\n",
    "target_ratio = df_concat.groupby(\"HEAD NORMAL COORDINATE X AXIS(Stage3) Collect Result_Fill1\")[\"target\"].mean()\n",
    "print(target_ratio)"
   ]
  },
  {
   "cell_type": "code",
   "execution_count": 877,
   "metadata": {},
   "outputs": [
    {
     "data": {
      "text/plain": [
       "HEAD NORMAL COORDINATE X AXIS(Stage3) Collect Result_Fill1_weight\n",
       "0.519397    1392\n",
       "0.593506     770\n",
       "0.403579     503\n",
       "0.393103     290\n",
       "0.453659     205\n",
       "0.412371      97\n",
       "0.333333      60\n",
       "0.628571      35\n",
       "0.709677      31\n",
       "0.285714      14\n",
       "0.571429       7\n",
       "Name: count, dtype: int64"
      ]
     },
     "execution_count": 877,
     "metadata": {},
     "output_type": "execute_result"
    }
   ],
   "source": [
    "df_concat[\"HEAD NORMAL COORDINATE X AXIS(Stage3) Collect Result_Fill1_weight\"] = df_concat[\"HEAD NORMAL COORDINATE X AXIS(Stage3) Collect Result_Fill1\"].map(target_ratio)\n",
    "df_concat[\"HEAD NORMAL COORDINATE X AXIS(Stage3) Collect Result_Fill1_weight\"].value_counts()"
   ]
  },
  {
   "cell_type": "code",
   "execution_count": 878,
   "metadata": {},
   "outputs": [
    {
     "data": {
      "text/plain": [
       "HEAD NORMAL COORDINATE X AXIS(Stage3) Collect Result_Fill1_weight\n",
       "0.519397    4736\n",
       "0.393103    2912\n",
       "0.403579    2118\n",
       "0.593506    2092\n",
       "0.453659     669\n",
       "0.412371     409\n",
       "0.333333     347\n",
       "0.628571     154\n",
       "0.709677      86\n",
       "0.285714      32\n",
       "0.571429      30\n",
       "Name: count, dtype: int64"
      ]
     },
     "execution_count": 878,
     "metadata": {},
     "output_type": "execute_result"
    }
   ],
   "source": [
    "test_data[\"HEAD NORMAL COORDINATE X AXIS(Stage3) Collect Result_Fill1_weight\"] = test_data[\"HEAD NORMAL COORDINATE X AXIS(Stage3) Collect Result_Fill1\"].map(target_ratio)\n",
    "test_data[\"HEAD NORMAL COORDINATE X AXIS(Stage3) Collect Result_Fill1_weight\"].value_counts()"
   ]
  },
  {
   "cell_type": "code",
   "execution_count": 879,
   "metadata": {},
   "outputs": [
    {
     "name": "stdout",
     "output_type": "stream",
     "text": [
      "3776\n"
     ]
    }
   ],
   "source": [
    "print(test_data[\"HEAD NORMAL COORDINATE X AXIS(Stage3) Collect Result_Fill1_weight\"].isnull().sum())"
   ]
  },
  {
   "cell_type": "code",
   "execution_count": 880,
   "metadata": {},
   "outputs": [],
   "source": [
    "del df_concat[\"HEAD NORMAL COORDINATE X AXIS(Stage3) Collect Result_Fill1\"]\n",
    "del df_concat[\"HEAD NORMAL COORDINATE X AXIS(Stage3) Collect Result_Fill1_weight\"]\n",
    "del test_data[\"HEAD NORMAL COORDINATE X AXIS(Stage3) Collect Result_Fill1_weight\"]\n",
    "del test_data[\"HEAD NORMAL COORDINATE X AXIS(Stage3) Collect Result_Fill1\"]"
   ]
  },
  {
   "cell_type": "code",
   "execution_count": 881,
   "metadata": {},
   "outputs": [
    {
     "name": "stdout",
     "output_type": "stream",
     "text": [
      "HEAD NORMAL COORDINATE Y AXIS(Stage1) Collect Result_Fill1\n",
      "156.1     0.333333\n",
      "156.3     0.419689\n",
      "156.5     0.381503\n",
      "156.8     0.438953\n",
      "157.0     0.414520\n",
      "430.2     0.603465\n",
      "430.5     0.474623\n",
      "1323.2    0.534404\n",
      "Name: target, dtype: float64\n"
     ]
    }
   ],
   "source": [
    "#90. HEAD NORMAL COORDINATE Y AXIS(Stage1) Collect Result_Fill1\n",
    "target_ratio = df_concat.groupby(\"HEAD NORMAL COORDINATE Y AXIS(Stage1) Collect Result_Fill1\")[\"target\"].mean()\n",
    "print(target_ratio)"
   ]
  },
  {
   "cell_type": "code",
   "execution_count": 882,
   "metadata": {},
   "outputs": [
    {
     "data": {
      "text/plain": [
       "HEAD NORMAL COORDINATE Y AXIS(Stage1) Collect Result_Fill1_weight\n",
       "0.603465    1039\n",
       "0.474623     729\n",
       "0.534404     436\n",
       "0.414520     427\n",
       "0.438953     344\n",
       "0.419689     193\n",
       "0.381503     173\n",
       "0.333333      63\n",
       "Name: count, dtype: int64"
      ]
     },
     "execution_count": 882,
     "metadata": {},
     "output_type": "execute_result"
    }
   ],
   "source": [
    "df_concat[\"HEAD NORMAL COORDINATE Y AXIS(Stage1) Collect Result_Fill1_weight\"] = df_concat[\"HEAD NORMAL COORDINATE Y AXIS(Stage1) Collect Result_Fill1\"].map(target_ratio)\n",
    "df_concat[\"HEAD NORMAL COORDINATE Y AXIS(Stage1) Collect Result_Fill1_weight\"].value_counts()"
   ]
  },
  {
   "cell_type": "code",
   "execution_count": 883,
   "metadata": {},
   "outputs": [
    {
     "data": {
      "text/plain": [
       "HEAD NORMAL COORDINATE Y AXIS(Stage1) Collect Result_Fill1_weight\n",
       "0.414520    6216\n",
       "0.603465    2919\n",
       "0.474623    2564\n",
       "0.534404    1529\n",
       "0.438953    1369\n",
       "0.333333    1262\n",
       "0.381503     749\n",
       "0.419689     695\n",
       "Name: count, dtype: int64"
      ]
     },
     "execution_count": 883,
     "metadata": {},
     "output_type": "execute_result"
    }
   ],
   "source": [
    "test_data[\"HEAD NORMAL COORDINATE Y AXIS(Stage1) Collect Result_Fill1_weight\"] = test_data[\"HEAD NORMAL COORDINATE Y AXIS(Stage1) Collect Result_Fill1\"].map(target_ratio)\n",
    "test_data[\"HEAD NORMAL COORDINATE Y AXIS(Stage1) Collect Result_Fill1_weight\"].value_counts()"
   ]
  },
  {
   "cell_type": "code",
   "execution_count": 884,
   "metadata": {},
   "outputs": [
    {
     "name": "stdout",
     "output_type": "stream",
     "text": [
      "58\n"
     ]
    }
   ],
   "source": [
    "print(test_data[\"HEAD NORMAL COORDINATE Y AXIS(Stage1) Collect Result_Fill1_weight\"].isnull().sum())"
   ]
  },
  {
   "cell_type": "code",
   "execution_count": 885,
   "metadata": {},
   "outputs": [
    {
     "name": "stderr",
     "output_type": "stream",
     "text": [
      "C:\\Users\\hwnam\\AppData\\Local\\Temp\\ipykernel_21144\\270847205.py:3: FutureWarning: A value is trying to be set on a copy of a DataFrame or Series through chained assignment using an inplace method.\n",
      "The behavior will change in pandas 3.0. This inplace method will never work because the intermediate object on which we are setting values always behaves as a copy.\n",
      "\n",
      "For example, when doing 'df[col].method(value, inplace=True)', try using 'df.method({col: value}, inplace=True)' or df[col] = df[col].method(value) instead, to perform the operation inplace on the original object.\n",
      "\n",
      "\n",
      "  test_data[\"HEAD NORMAL COORDINATE Y AXIS(Stage1) Collect Result_Fill1_weight\"].fillna(mode_value, inplace=True)\n"
     ]
    }
   ],
   "source": [
    "# 최빈값으로 결측치 처리\n",
    "mode_value = test_data[\"HEAD NORMAL COORDINATE Y AXIS(Stage1) Collect Result_Fill1_weight\"].mode()[0]\n",
    "test_data[\"HEAD NORMAL COORDINATE Y AXIS(Stage1) Collect Result_Fill1_weight\"].fillna(mode_value, inplace=True)"
   ]
  },
  {
   "cell_type": "code",
   "execution_count": 886,
   "metadata": {},
   "outputs": [
    {
     "name": "stdout",
     "output_type": "stream",
     "text": [
      "HEAD NORMAL COORDINATE Y AXIS(Stage2) Collect Result_Fill1\n",
      "430.5     0.581277\n",
      "430.8     0.405316\n",
      "431.1     0.489002\n",
      "1322.5    0.462882\n",
      "1323.0    0.608187\n",
      "1323.2    0.638889\n",
      "1323.5    0.422371\n",
      "1324.5    0.000000\n",
      "Name: target, dtype: float64\n"
     ]
    }
   ],
   "source": [
    "#91. HEAD NORMAL COORDINATE Y AXIS(Stage2) Collect Result_Fill1\n",
    "target_ratio = df_concat.groupby(\"HEAD NORMAL COORDINATE Y AXIS(Stage2) Collect Result_Fill1\")[\"target\"].mean()\n",
    "print(target_ratio)"
   ]
  },
  {
   "cell_type": "code",
   "execution_count": 887,
   "metadata": {},
   "outputs": [
    {
     "data": {
      "text/plain": [
       "HEAD NORMAL COORDINATE Y AXIS(Stage2) Collect Result_Fill1_weight\n",
       "0.581277    1175\n",
       "0.405316     602\n",
       "0.422371     599\n",
       "0.489002     591\n",
       "0.462882     229\n",
       "0.608187     171\n",
       "0.638889      36\n",
       "0.000000       1\n",
       "Name: count, dtype: int64"
      ]
     },
     "execution_count": 887,
     "metadata": {},
     "output_type": "execute_result"
    }
   ],
   "source": [
    "df_concat[\"HEAD NORMAL COORDINATE Y AXIS(Stage2) Collect Result_Fill1_weight\"] = df_concat[\"HEAD NORMAL COORDINATE Y AXIS(Stage2) Collect Result_Fill1\"].map(target_ratio)\n",
    "df_concat[\"HEAD NORMAL COORDINATE Y AXIS(Stage2) Collect Result_Fill1_weight\"].value_counts()"
   ]
  },
  {
   "cell_type": "code",
   "execution_count": 888,
   "metadata": {},
   "outputs": [
    {
     "name": "stdout",
     "output_type": "stream",
     "text": [
      "(3404, 118)\n"
     ]
    }
   ],
   "source": [
    "del df_concat[\"HEAD NORMAL COORDINATE Y AXIS(Stage2) Collect Result_Fill1\"]\n",
    "del df_concat[\"HEAD NORMAL COORDINATE Y AXIS(Stage2) Collect Result_Fill1_weight\"]\n",
    "print(df_concat.shape)"
   ]
  },
  {
   "cell_type": "code",
   "execution_count": 889,
   "metadata": {},
   "outputs": [
    {
     "name": "stdout",
     "output_type": "stream",
     "text": [
      "HEAD NORMAL COORDINATE Y AXIS(Stage3) Collect Result_Fill1\n",
      "430.5     0.528020\n",
      "430.6     0.666667\n",
      "430.8     0.474623\n",
      "1322.5    0.422371\n",
      "1322.8    0.525000\n",
      "1323.2    0.638889\n",
      "1324.0    0.000000\n",
      "Name: target, dtype: float64\n"
     ]
    }
   ],
   "source": [
    "# 92. HEAD NORMAL COORDINATE Y AXIS(Stage3) Collect Result_Fill1\n",
    "target_ratio = df_concat.groupby(\"HEAD NORMAL COORDINATE Y AXIS(Stage3) Collect Result_Fill1\")[\"target\"].mean()\n",
    "print(target_ratio)"
   ]
  },
  {
   "cell_type": "code",
   "execution_count": 890,
   "metadata": {},
   "outputs": [
    {
     "data": {
      "text/plain": [
       "HEAD NORMAL COORDINATE Y AXIS(Stage3) Collect Result_Fill1_weight\n",
       "0.528020    1606\n",
       "0.474623     729\n",
       "0.422371     599\n",
       "0.525000     400\n",
       "0.638889      36\n",
       "0.666667      33\n",
       "0.000000       1\n",
       "Name: count, dtype: int64"
      ]
     },
     "execution_count": 890,
     "metadata": {},
     "output_type": "execute_result"
    }
   ],
   "source": [
    "df_concat[\"HEAD NORMAL COORDINATE Y AXIS(Stage3) Collect Result_Fill1_weight\"] = df_concat[\"HEAD NORMAL COORDINATE Y AXIS(Stage3) Collect Result_Fill1\"].map(target_ratio)\n",
    "df_concat[\"HEAD NORMAL COORDINATE Y AXIS(Stage3) Collect Result_Fill1_weight\"].value_counts()"
   ]
  },
  {
   "cell_type": "code",
   "execution_count": 891,
   "metadata": {},
   "outputs": [
    {
     "name": "stdout",
     "output_type": "stream",
     "text": [
      "(3404, 117)\n"
     ]
    }
   ],
   "source": [
    "del df_concat[\"HEAD NORMAL COORDINATE Y AXIS(Stage3) Collect Result_Fill1\"]\n",
    "del df_concat[\"HEAD NORMAL COORDINATE Y AXIS(Stage3) Collect Result_Fill1_weight\"]\n",
    "print(df_concat.shape)"
   ]
  },
  {
   "cell_type": "code",
   "execution_count": 892,
   "metadata": {},
   "outputs": [
    {
     "name": "stdout",
     "output_type": "stream",
     "text": [
      "HEAD NORMAL COORDINATE Z AXIS(Stage1) Collect Result_Fill1\n",
      "244.2     0.537797\n",
      "244.3     0.550000\n",
      "244.4     0.550000\n",
      "244.6     0.000000\n",
      "431.1     0.405000\n",
      "1323.1    0.422371\n",
      "1324.1    0.000000\n",
      "Name: target, dtype: float64\n"
     ]
    }
   ],
   "source": [
    "# 93. HEAD NORMAL COORDINATE Z AXIS(Stage1) Collect Result_Fill\n",
    "target_ratio = df_concat.groupby(\"HEAD NORMAL COORDINATE Z AXIS(Stage1) Collect Result_Fill1\")[\"target\"].mean()\n",
    "print(target_ratio)"
   ]
  },
  {
   "cell_type": "code",
   "execution_count": 893,
   "metadata": {},
   "outputs": [
    {
     "data": {
      "text/plain": [
       "HEAD NORMAL COORDINATE Z AXIS(Stage1) Collect Result_Fill1_weight\n",
       "0.550000    1740\n",
       "0.405000     600\n",
       "0.422371     599\n",
       "0.537797     463\n",
       "0.000000       2\n",
       "Name: count, dtype: int64"
      ]
     },
     "execution_count": 893,
     "metadata": {},
     "output_type": "execute_result"
    }
   ],
   "source": [
    "df_concat[\"HEAD NORMAL COORDINATE Z AXIS(Stage1) Collect Result_Fill1_weight\"] = df_concat[\"HEAD NORMAL COORDINATE Z AXIS(Stage1) Collect Result_Fill1\"].map(target_ratio)\n",
    "df_concat[\"HEAD NORMAL COORDINATE Z AXIS(Stage1) Collect Result_Fill1_weight\"].value_counts()"
   ]
  },
  {
   "cell_type": "code",
   "execution_count": 894,
   "metadata": {},
   "outputs": [
    {
     "name": "stdout",
     "output_type": "stream",
     "text": [
      "(3404, 116)\n"
     ]
    }
   ],
   "source": [
    "del df_concat[\"HEAD NORMAL COORDINATE Z AXIS(Stage1) Collect Result_Fill1\"]\n",
    "del df_concat[\"HEAD NORMAL COORDINATE Z AXIS(Stage1) Collect Result_Fill1_weight\"]\n",
    "print(df_concat.shape)"
   ]
  },
  {
   "cell_type": "code",
   "execution_count": 895,
   "metadata": {},
   "outputs": [
    {
     "name": "stdout",
     "output_type": "stream",
     "text": [
      "HEAD NORMAL COORDINATE Z AXIS(Stage2) Collect Result_Fill1\n",
      "244.200    0.537797\n",
      "244.275    0.421875\n",
      "244.300    0.522565\n",
      "244.375    0.436364\n",
      "244.400    0.535575\n",
      "244.415    0.351351\n",
      "244.450    0.333333\n",
      "244.490    0.178571\n",
      "244.505    0.420875\n",
      "244.543    0.411765\n",
      "244.555    0.550000\n",
      "244.600    0.727273\n",
      "244.618    0.338710\n",
      "244.728    0.416667\n",
      "Name: target, dtype: float64\n"
     ]
    }
   ],
   "source": [
    "# 94. HEAD NORMAL COORDINATE Z AXIS(Stage2) Collect Result_Fill\n",
    "target_ratio = df_concat.groupby(\"HEAD NORMAL COORDINATE Z AXIS(Stage2) Collect Result_Fill1\")[\"target\"].mean()\n",
    "print(target_ratio)"
   ]
  },
  {
   "cell_type": "code",
   "execution_count": 896,
   "metadata": {},
   "outputs": [
    {
     "data": {
      "text/plain": [
       "HEAD NORMAL COORDINATE Z AXIS(Stage2) Collect Result_Fill1_weight\n",
       "0.535575    1279\n",
       "0.522565     842\n",
       "0.537797     463\n",
       "0.420875     297\n",
       "0.338710     186\n",
       "0.421875      64\n",
       "0.436364      55\n",
       "0.411765      51\n",
       "0.550000      40\n",
       "0.351351      37\n",
       "0.416667      36\n",
       "0.178571      28\n",
       "0.333333      15\n",
       "0.727273      11\n",
       "Name: count, dtype: int64"
      ]
     },
     "execution_count": 896,
     "metadata": {},
     "output_type": "execute_result"
    }
   ],
   "source": [
    "df_concat[\"HEAD NORMAL COORDINATE Z AXIS(Stage2) Collect Result_Fill1_weight\"] = df_concat[\"HEAD NORMAL COORDINATE Z AXIS(Stage2) Collect Result_Fill1\"].map(target_ratio)\n",
    "df_concat[\"HEAD NORMAL COORDINATE Z AXIS(Stage2) Collect Result_Fill1_weight\"].value_counts()"
   ]
  },
  {
   "cell_type": "code",
   "execution_count": 897,
   "metadata": {},
   "outputs": [
    {
     "data": {
      "text/plain": [
       "HEAD NORMAL COORDINATE Z AXIS(Stage2) Collect Result_Fill1_weight\n",
       "0.535575    5821\n",
       "0.522565    4658\n",
       "0.537797    1385\n",
       "0.420875    1310\n",
       "0.338710     805\n",
       "0.351351     348\n",
       "0.333333     259\n",
       "0.436364     240\n",
       "0.421875     225\n",
       "0.416667     224\n",
       "0.411765     207\n",
       "0.178571     124\n",
       "0.550000      78\n",
       "0.727273       9\n",
       "Name: count, dtype: int64"
      ]
     },
     "execution_count": 897,
     "metadata": {},
     "output_type": "execute_result"
    }
   ],
   "source": [
    "test_data[\"HEAD NORMAL COORDINATE Z AXIS(Stage2) Collect Result_Fill1_weight\"] = test_data[\"HEAD NORMAL COORDINATE Z AXIS(Stage2) Collect Result_Fill1\"].map(target_ratio)\n",
    "test_data[\"HEAD NORMAL COORDINATE Z AXIS(Stage2) Collect Result_Fill1_weight\"].value_counts()"
   ]
  },
  {
   "cell_type": "code",
   "execution_count": 898,
   "metadata": {},
   "outputs": [
    {
     "name": "stdout",
     "output_type": "stream",
     "text": [
      "1668\n"
     ]
    }
   ],
   "source": [
    "print(test_data[\"HEAD NORMAL COORDINATE Z AXIS(Stage2) Collect Result_Fill1_weight\"].isnull().sum())"
   ]
  },
  {
   "cell_type": "code",
   "execution_count": 899,
   "metadata": {},
   "outputs": [
    {
     "name": "stderr",
     "output_type": "stream",
     "text": [
      "C:\\Users\\hwnam\\AppData\\Local\\Temp\\ipykernel_21144\\1660456400.py:2: FutureWarning: A value is trying to be set on a copy of a DataFrame or Series through chained assignment using an inplace method.\n",
      "The behavior will change in pandas 3.0. This inplace method will never work because the intermediate object on which we are setting values always behaves as a copy.\n",
      "\n",
      "For example, when doing 'df[col].method(value, inplace=True)', try using 'df.method({col: value}, inplace=True)' or df[col] = df[col].method(value) instead, to perform the operation inplace on the original object.\n",
      "\n",
      "\n",
      "  test_data[\"HEAD NORMAL COORDINATE Z AXIS(Stage2) Collect Result_Fill1_weight\"].fillna(mean_value, inplace=True)\n"
     ]
    }
   ],
   "source": [
    "mean_value = test_data[\"HEAD NORMAL COORDINATE Z AXIS(Stage2) Collect Result_Fill1_weight\"].mean()\n",
    "test_data[\"HEAD NORMAL COORDINATE Z AXIS(Stage2) Collect Result_Fill1_weight\"].fillna(mean_value, inplace=True)"
   ]
  },
  {
   "cell_type": "code",
   "execution_count": 900,
   "metadata": {},
   "outputs": [
    {
     "name": "stdout",
     "output_type": "stream",
     "text": [
      "HEAD NORMAL COORDINATE Z AXIS(Stage3) Collect Result_Fill1\n",
      "244.200    0.537797\n",
      "244.275    0.421875\n",
      "244.300    0.522565\n",
      "244.375    0.436364\n",
      "244.400    0.535575\n",
      "244.415    0.351351\n",
      "244.450    0.333333\n",
      "244.490    0.178571\n",
      "244.505    0.420875\n",
      "244.543    0.411765\n",
      "244.555    0.550000\n",
      "244.600    0.727273\n",
      "244.618    0.338710\n",
      "244.728    0.416667\n",
      "Name: target, dtype: float64\n"
     ]
    }
   ],
   "source": [
    "# 95. HEAD NORMAL COORDINATE Z AXIS(Stage3) Collect Result_Fill\n",
    "target_ratio = df_concat.groupby(\"HEAD NORMAL COORDINATE Z AXIS(Stage3) Collect Result_Fill1\")[\"target\"].mean()\n",
    "print(target_ratio)"
   ]
  },
  {
   "cell_type": "code",
   "execution_count": 901,
   "metadata": {},
   "outputs": [
    {
     "name": "stdout",
     "output_type": "stream",
     "text": [
      "(3404, 116)\n"
     ]
    }
   ],
   "source": [
    "del df_concat[\"HEAD NORMAL COORDINATE Z AXIS(Stage3) Collect Result_Fill1\"]\n",
    "print(df_concat.shape)"
   ]
  },
  {
   "cell_type": "code",
   "execution_count": 902,
   "metadata": {},
   "outputs": [
    {
     "name": "stdout",
     "output_type": "stream",
     "text": [
      "HEAD Standby Position X Collect Result_Fill1\n",
      "244.275    0.421875\n",
      "244.300    0.435644\n",
      "244.375    0.436364\n",
      "244.400    0.465608\n",
      "244.415    0.351351\n",
      "244.450    0.333333\n",
      "244.490    0.178571\n",
      "244.505    0.420875\n",
      "244.543    0.411765\n",
      "244.555    0.550000\n",
      "244.618    0.338710\n",
      "244.728    0.416667\n",
      "289.000    0.547187\n",
      "Name: target, dtype: float64\n"
     ]
    }
   ],
   "source": [
    "# 96. HEAD Standby Position X Collect Result_Fill1\n",
    "target_ratio = df_concat.groupby(\"HEAD Standby Position X Collect Result_Fill1\")[\"target\"].mean()\n",
    "print(target_ratio)"
   ]
  },
  {
   "cell_type": "code",
   "execution_count": 903,
   "metadata": {},
   "outputs": [
    {
     "data": {
      "text/plain": [
       "HEAD Standby Position X Collect Result_Fill1_weight\n",
       "0.547187    2204\n",
       "0.420875     297\n",
       "0.435644     202\n",
       "0.465608     189\n",
       "0.338710     186\n",
       "0.421875      64\n",
       "0.436364      55\n",
       "0.411765      51\n",
       "0.550000      40\n",
       "0.351351      37\n",
       "0.416667      36\n",
       "0.178571      28\n",
       "0.333333      15\n",
       "Name: count, dtype: int64"
      ]
     },
     "execution_count": 903,
     "metadata": {},
     "output_type": "execute_result"
    }
   ],
   "source": [
    "df_concat[\"HEAD Standby Position X Collect Result_Fill1_weight\"] = df_concat[\"HEAD Standby Position X Collect Result_Fill1\"].map(target_ratio)\n",
    "df_concat[\"HEAD Standby Position X Collect Result_Fill1_weight\"].value_counts()"
   ]
  },
  {
   "cell_type": "code",
   "execution_count": 904,
   "metadata": {},
   "outputs": [
    {
     "data": {
      "text/plain": [
       "HEAD Standby Position X Collect Result_Fill1_weight\n",
       "0.547187    7012\n",
       "0.465608    2447\n",
       "0.435644    2414\n",
       "0.420875    1310\n",
       "0.338710     805\n",
       "0.351351     348\n",
       "0.333333     259\n",
       "0.436364     240\n",
       "0.421875     225\n",
       "0.416667     224\n",
       "0.411765     207\n",
       "0.178571     124\n",
       "0.550000      78\n",
       "Name: count, dtype: int64"
      ]
     },
     "execution_count": 904,
     "metadata": {},
     "output_type": "execute_result"
    }
   ],
   "source": [
    "test_data[\"HEAD Standby Position X Collect Result_Fill1_weight\"] = test_data[\"HEAD Standby Position X Collect Result_Fill1\"].map(target_ratio)\n",
    "test_data[\"HEAD Standby Position X Collect Result_Fill1_weight\"].value_counts()"
   ]
  },
  {
   "cell_type": "code",
   "execution_count": 905,
   "metadata": {},
   "outputs": [
    {
     "name": "stdout",
     "output_type": "stream",
     "text": [
      "1668\n"
     ]
    }
   ],
   "source": [
    "print(test_data[\"HEAD Standby Position X Collect Result_Fill1_weight\"].isnull().sum())"
   ]
  },
  {
   "cell_type": "code",
   "execution_count": 906,
   "metadata": {},
   "outputs": [
    {
     "name": "stderr",
     "output_type": "stream",
     "text": [
      "C:\\Users\\hwnam\\AppData\\Local\\Temp\\ipykernel_21144\\1283604170.py:2: FutureWarning: A value is trying to be set on a copy of a DataFrame or Series through chained assignment using an inplace method.\n",
      "The behavior will change in pandas 3.0. This inplace method will never work because the intermediate object on which we are setting values always behaves as a copy.\n",
      "\n",
      "For example, when doing 'df[col].method(value, inplace=True)', try using 'df.method({col: value}, inplace=True)' or df[col] = df[col].method(value) instead, to perform the operation inplace on the original object.\n",
      "\n",
      "\n",
      "  test_data[\"HEAD Standby Position X Collect Result_Fill1_weight\"].fillna(mean_value, inplace=True)\n"
     ]
    }
   ],
   "source": [
    "mean_value = test_data[\"HEAD Standby Position X Collect Result_Fill1_weight\"].mean()\n",
    "test_data[\"HEAD Standby Position X Collect Result_Fill1_weight\"].fillna(mean_value, inplace=True)"
   ]
  },
  {
   "cell_type": "code",
   "execution_count": 907,
   "metadata": {},
   "outputs": [
    {
     "name": "stdout",
     "output_type": "stream",
     "text": [
      "HEAD Standby Position Y Collect Result_Fill1\n",
      "50     0.547187\n",
      "289    0.413333\n",
      "Name: target, dtype: float64\n"
     ]
    }
   ],
   "source": [
    "# 97. HEAD Standby Position Y Collect Result_Fill1\n",
    "target_ratio = df_concat.groupby(\"HEAD Standby Position Y Collect Result_Fill1\")[\"target\"].mean()\n",
    "print(target_ratio)"
   ]
  },
  {
   "cell_type": "code",
   "execution_count": 908,
   "metadata": {},
   "outputs": [
    {
     "name": "stdout",
     "output_type": "stream",
     "text": [
      "(3404, 116)\n"
     ]
    }
   ],
   "source": [
    "del df_concat[\"HEAD Standby Position Y Collect Result_Fill1\"]\n",
    "print(df_concat.shape)"
   ]
  },
  {
   "cell_type": "code",
   "execution_count": 909,
   "metadata": {},
   "outputs": [
    {
     "name": "stdout",
     "output_type": "stream",
     "text": [
      "HEAD Standby Position Z Collect Result_Fill1\n",
      "0     0.547187\n",
      "50    0.413333\n",
      "Name: target, dtype: float64\n"
     ]
    }
   ],
   "source": [
    "# 98. HEAD Standby Position Z Collect Result_Fill1\n",
    "target_ratio = df_concat.groupby(\"HEAD Standby Position Z Collect Result_Fill1\")[\"target\"].mean()\n",
    "print(target_ratio)"
   ]
  },
  {
   "cell_type": "code",
   "execution_count": 910,
   "metadata": {},
   "outputs": [
    {
     "name": "stdout",
     "output_type": "stream",
     "text": [
      "(3404, 115)\n"
     ]
    }
   ],
   "source": [
    "del df_concat[\"HEAD Standby Position Z Collect Result_Fill1\"]\n",
    "print(df_concat.shape)"
   ]
  },
  {
   "cell_type": "code",
   "execution_count": 911,
   "metadata": {},
   "outputs": [
    {
     "name": "stdout",
     "output_type": "stream",
     "text": [
      "Head Clean Position X Collect Result_Fill1\n",
      "0.0      0.413333\n",
      "123.4    0.547187\n",
      "Name: target, dtype: float64\n"
     ]
    }
   ],
   "source": [
    "# 99. Head Clean Position X Collect Result_Fill1\n",
    "target_ratio = df_concat.groupby(\"Head Clean Position X Collect Result_Fill1\")[\"target\"].mean()\n",
    "print(target_ratio)"
   ]
  },
  {
   "cell_type": "code",
   "execution_count": 912,
   "metadata": {},
   "outputs": [
    {
     "name": "stdout",
     "output_type": "stream",
     "text": [
      "(3404, 114)\n"
     ]
    }
   ],
   "source": [
    "del df_concat[\"Head Clean Position X Collect Result_Fill1\"]\n",
    "print(df_concat.shape)"
   ]
  },
  {
   "cell_type": "code",
   "execution_count": 913,
   "metadata": {},
   "outputs": [
    {
     "name": "stdout",
     "output_type": "stream",
     "text": [
      "Head Clean Position Y Collect Result_Fill1\n",
      "50.0     0.547187\n",
      "123.4    0.413333\n",
      "Name: target, dtype: float64\n"
     ]
    }
   ],
   "source": [
    "# 100. Head Clean Position Y Collect Result_Fill1\n",
    "target_ratio = df_concat.groupby(\"Head Clean Position Y Collect Result_Fill1\")[\"target\"].mean()\n",
    "print(target_ratio)"
   ]
  },
  {
   "cell_type": "code",
   "execution_count": 914,
   "metadata": {},
   "outputs": [
    {
     "name": "stdout",
     "output_type": "stream",
     "text": [
      "(3404, 113)\n"
     ]
    }
   ],
   "source": [
    "del df_concat[\"Head Clean Position Y Collect Result_Fill1\"]\n",
    "print(df_concat.shape)"
   ]
  },
  {
   "cell_type": "code",
   "execution_count": 915,
   "metadata": {},
   "outputs": [
    {
     "name": "stdout",
     "output_type": "stream",
     "text": [
      "Head Clean Position Z Collect Result_Fill1\n",
      "50.0    0.413333\n",
      "92.2    0.547187\n",
      "Name: target, dtype: float64\n"
     ]
    }
   ],
   "source": [
    "# 101. Head Clean Position Z Collect Result_Fill1\n",
    "target_ratio = df_concat.groupby(\"Head Clean Position Z Collect Result_Fill1\")[\"target\"].mean()\n",
    "print(target_ratio)"
   ]
  },
  {
   "cell_type": "code",
   "execution_count": 916,
   "metadata": {},
   "outputs": [
    {
     "name": "stdout",
     "output_type": "stream",
     "text": [
      "(3404, 112)\n"
     ]
    }
   ],
   "source": [
    "del df_concat[\"Head Clean Position Z Collect Result_Fill1\"]\n",
    "print(df_concat.shape)"
   ]
  },
  {
   "cell_type": "code",
   "execution_count": 917,
   "metadata": {},
   "outputs": [
    {
     "name": "stdout",
     "output_type": "stream",
     "text": [
      "Head Purge Position X Collect Result_Fill1\n",
      "92.2     0.413333\n",
      "289.0    0.547187\n",
      "Name: target, dtype: float64\n"
     ]
    }
   ],
   "source": [
    "# 102. Head Purge Position X Collect Result_Fill1\n",
    "target_ratio = df_concat.groupby(\"Head Purge Position X Collect Result_Fill1\")[\"target\"].mean()\n",
    "print(target_ratio)"
   ]
  },
  {
   "cell_type": "code",
   "execution_count": 918,
   "metadata": {},
   "outputs": [
    {
     "name": "stdout",
     "output_type": "stream",
     "text": [
      "(3404, 111)\n"
     ]
    }
   ],
   "source": [
    "del df_concat[\"Head Purge Position X Collect Result_Fill1\"]\n",
    "print(df_concat.shape)"
   ]
  },
  {
   "cell_type": "code",
   "execution_count": 919,
   "metadata": {},
   "outputs": [
    {
     "name": "stdout",
     "output_type": "stream",
     "text": [
      "Head Purge Position Y Collect Result_Fill1\n",
      "50     0.547187\n",
      "289    0.413333\n",
      "Name: target, dtype: float64\n"
     ]
    }
   ],
   "source": [
    "# 103. Head Purge Position Y Collect Result_Fill1\n",
    "target_ratio = df_concat.groupby(\"Head Purge Position Y Collect Result_Fill1\")[\"target\"].mean()\n",
    "print(target_ratio)"
   ]
  },
  {
   "cell_type": "code",
   "execution_count": 920,
   "metadata": {},
   "outputs": [
    {
     "name": "stdout",
     "output_type": "stream",
     "text": [
      "(3404, 110)\n"
     ]
    }
   ],
   "source": [
    "del df_concat[\"Head Purge Position Y Collect Result_Fill1\"]\n",
    "print(df_concat.shape)"
   ]
  },
  {
   "cell_type": "code",
   "execution_count": 921,
   "metadata": {},
   "outputs": [
    {
     "name": "stdout",
     "output_type": "stream",
     "text": [
      "Head Purge Position Z Collect Result_Fill1\n",
      "50     0.413333\n",
      "85     0.585818\n",
      "145    0.497404\n",
      "Name: target, dtype: float64\n"
     ]
    }
   ],
   "source": [
    "# 104. Head Purge Position Z Collect Result_Fill1\n",
    "target_ratio = df_concat.groupby(\"Head Purge Position Z Collect Result_Fill1\")[\"target\"].mean()\n",
    "print(target_ratio)"
   ]
  },
  {
   "cell_type": "code",
   "execution_count": 922,
   "metadata": {},
   "outputs": [
    {
     "data": {
      "text/plain": [
       "Head Purge Position Z Collect Result_Fill1_weight\n",
       "0.585818    1241\n",
       "0.413333    1200\n",
       "0.497404     963\n",
       "Name: count, dtype: int64"
      ]
     },
     "execution_count": 922,
     "metadata": {},
     "output_type": "execute_result"
    }
   ],
   "source": [
    "df_concat[\"Head Purge Position Z Collect Result_Fill1_weight\"] = df_concat[\"Head Purge Position Z Collect Result_Fill1\"].map(target_ratio)\n",
    "df_concat[\"Head Purge Position Z Collect Result_Fill1_weight\"].value_counts()"
   ]
  },
  {
   "cell_type": "code",
   "execution_count": 923,
   "metadata": {},
   "outputs": [
    {
     "data": {
      "text/plain": [
       "Head Purge Position Z Collect Result_Fill1_weight\n",
       "0.413333    10349\n",
       "0.585818     3571\n",
       "0.497404     3441\n",
       "Name: count, dtype: int64"
      ]
     },
     "execution_count": 923,
     "metadata": {},
     "output_type": "execute_result"
    }
   ],
   "source": [
    "test_data[\"Head Purge Position Z Collect Result_Fill1_weight\"] = test_data[\"Head Purge Position Z Collect Result_Fill1\"].map(target_ratio)\n",
    "test_data[\"Head Purge Position Z Collect Result_Fill1_weight\"].value_counts()"
   ]
  },
  {
   "cell_type": "code",
   "execution_count": 924,
   "metadata": {},
   "outputs": [
    {
     "name": "stdout",
     "output_type": "stream",
     "text": [
      "0\n"
     ]
    }
   ],
   "source": [
    "print(test_data[\"Head Purge Position Z Collect Result_Fill1_weight\"].isnull().sum())"
   ]
  },
  {
   "cell_type": "code",
   "execution_count": 925,
   "metadata": {},
   "outputs": [
    {
     "name": "stdout",
     "output_type": "stream",
     "text": [
      "Machine Tact time Collect Result_Fill1\n",
      "40.3     1.000000\n",
      "48.0     0.000000\n",
      "48.1     0.600000\n",
      "48.2     0.333333\n",
      "48.8     0.000000\n",
      "           ...   \n",
      "110.9    1.000000\n",
      "111.0    0.833333\n",
      "111.1    0.500000\n",
      "128.0    0.413333\n",
      "150.1    1.000000\n",
      "Name: target, Length: 122, dtype: float64\n"
     ]
    }
   ],
   "source": [
    "# 105. Machine Tact time Collect Result_Fill1\n",
    "target_ratio = df_concat.groupby(\"Machine Tact time Collect Result_Fill1\")[\"target\"].mean()\n",
    "print(target_ratio)"
   ]
  },
  {
   "cell_type": "code",
   "execution_count": 926,
   "metadata": {},
   "outputs": [
    {
     "name": "stdout",
     "output_type": "stream",
     "text": [
      "(3404, 110)\n"
     ]
    }
   ],
   "source": [
    "del df_concat[\"Machine Tact time Collect Result_Fill1\"]\n",
    "print(df_concat.shape)"
   ]
  },
  {
   "cell_type": "code",
   "execution_count": 927,
   "metadata": {},
   "outputs": [
    {
     "name": "stdout",
     "output_type": "stream",
     "text": [
      "PalletID Collect Result_Fill1\n",
      "1.0     0.561576\n",
      "2.0     0.556962\n",
      "3.0     0.556522\n",
      "4.0     0.556604\n",
      "5.0     0.534247\n",
      "          ...   \n",
      "61.9    0.000000\n",
      "65.8    1.000000\n",
      "69.1    0.000000\n",
      "83.1    1.000000\n",
      "91.9    0.000000\n",
      "Name: target, Length: 103, dtype: float64\n"
     ]
    }
   ],
   "source": [
    "# 106. PalletID Collect Result_Fill1\n",
    "target_ratio = df_concat.groupby(\"PalletID Collect Result_Fill1\")[\"target\"].mean()\n",
    "print(target_ratio)"
   ]
  },
  {
   "cell_type": "code",
   "execution_count": 928,
   "metadata": {},
   "outputs": [
    {
     "data": {
      "text/plain": [
       "PalletID Collect Result_Fill1_weight\n",
       "0.550420    238\n",
       "0.556962    237\n",
       "0.556522    230\n",
       "0.554054    222\n",
       "0.534247    219\n",
       "0.556604    212\n",
       "0.531401    207\n",
       "0.561576    203\n",
       "0.500000     98\n",
       "0.305263     95\n",
       "0.505376     93\n",
       "0.439024     82\n",
       "0.521127     71\n",
       "0.587302     63\n",
       "0.698413     63\n",
       "0.333333     63\n",
       "0.250000     60\n",
       "0.542373     59\n",
       "0.370370     54\n",
       "0.452830     53\n",
       "0.340426     47\n",
       "0.369565     46\n",
       "0.304348     46\n",
       "0.441860     43\n",
       "0.435897     39\n",
       "0.684211     38\n",
       "0.297297     37\n",
       "0.305556     36\n",
       "0.468750     32\n",
       "0.406250     32\n",
       "0.516129     31\n",
       "0.354839     31\n",
       "0.300000     30\n",
       "0.407407     27\n",
       "0.444444     27\n",
       "0.423077     26\n",
       "0.750000     24\n",
       "0.476190     21\n",
       "0.400000     20\n",
       "1.000000     16\n",
       "0.600000     15\n",
       "0.571429     14\n",
       "0.428571     14\n",
       "0.642857     14\n",
       "0.384615     13\n",
       "0.461538     13\n",
       "0.000000     12\n",
       "0.454545     11\n",
       "0.222222      9\n",
       "0.666667      9\n",
       "0.111111      9\n",
       "Name: count, dtype: int64"
      ]
     },
     "execution_count": 928,
     "metadata": {},
     "output_type": "execute_result"
    }
   ],
   "source": [
    "df_concat[\"PalletID Collect Result_Fill1_weight\"] = df_concat[\"PalletID Collect Result_Fill1\"].map(target_ratio)\n",
    "df_concat[\"PalletID Collect Result_Fill1_weight\"].value_counts()"
   ]
  },
  {
   "cell_type": "code",
   "execution_count": 929,
   "metadata": {},
   "outputs": [
    {
     "data": {
      "text/plain": [
       "PalletID Collect Result_Fill1_weight\n",
       "0.500000    773\n",
       "0.554054    701\n",
       "0.556522    693\n",
       "0.550420    689\n",
       "0.556962    687\n",
       "0.531401    682\n",
       "0.561576    679\n",
       "0.534247    677\n",
       "0.556604    675\n",
       "0.305263    672\n",
       "0.505376    500\n",
       "0.435897    424\n",
       "0.439024    421\n",
       "0.111111    339\n",
       "0.333333    333\n",
       "0.250000    282\n",
       "0.370370    277\n",
       "0.750000    262\n",
       "0.305556    243\n",
       "0.407407    232\n",
       "0.587302    226\n",
       "0.400000    224\n",
       "0.304348    224\n",
       "0.369565    217\n",
       "0.698413    214\n",
       "0.000000    213\n",
       "0.461538    206\n",
       "0.542373    201\n",
       "0.521127    190\n",
       "0.441860    189\n",
       "0.516129    181\n",
       "0.452830    180\n",
       "0.600000    176\n",
       "0.300000    170\n",
       "0.428571    161\n",
       "0.468750    157\n",
       "0.354839    154\n",
       "0.340426    148\n",
       "0.297297    148\n",
       "1.000000    122\n",
       "0.684211    105\n",
       "0.384615    101\n",
       "0.406250    100\n",
       "0.444444     92\n",
       "0.423077     90\n",
       "0.476190     86\n",
       "0.571429     78\n",
       "0.642857     71\n",
       "0.454545     60\n",
       "0.666667     51\n",
       "0.222222     37\n",
       "Name: count, dtype: int64"
      ]
     },
     "execution_count": 929,
     "metadata": {},
     "output_type": "execute_result"
    }
   ],
   "source": [
    "test_data[\"PalletID Collect Result_Fill1_weight\"] = test_data[\"PalletID Collect Result_Fill1\"].map(target_ratio)\n",
    "test_data[\"PalletID Collect Result_Fill1_weight\"].value_counts()"
   ]
  },
  {
   "cell_type": "code",
   "execution_count": 930,
   "metadata": {},
   "outputs": [
    {
     "name": "stdout",
     "output_type": "stream",
     "text": [
      "2548\n"
     ]
    }
   ],
   "source": [
    "print(test_data[\"PalletID Collect Result_Fill1_weight\"].isnull().sum())"
   ]
  },
  {
   "cell_type": "code",
   "execution_count": 931,
   "metadata": {},
   "outputs": [
    {
     "name": "stderr",
     "output_type": "stream",
     "text": [
      "C:\\Users\\hwnam\\AppData\\Local\\Temp\\ipykernel_21144\\2450639571.py:2: FutureWarning: A value is trying to be set on a copy of a DataFrame or Series through chained assignment using an inplace method.\n",
      "The behavior will change in pandas 3.0. This inplace method will never work because the intermediate object on which we are setting values always behaves as a copy.\n",
      "\n",
      "For example, when doing 'df[col].method(value, inplace=True)', try using 'df.method({col: value}, inplace=True)' or df[col] = df[col].method(value) instead, to perform the operation inplace on the original object.\n",
      "\n",
      "\n",
      "  test_data[\"PalletID Collect Result_Fill1_weight\"].fillna(mean_value, inplace=True)\n"
     ]
    }
   ],
   "source": [
    "mean_value = test_data[\"PalletID Collect Result_Fill1_weight\"].mean()\n",
    "test_data[\"PalletID Collect Result_Fill1_weight\"].fillna(mean_value, inplace=True)"
   ]
  },
  {
   "cell_type": "code",
   "execution_count": 932,
   "metadata": {},
   "outputs": [
    {
     "name": "stdout",
     "output_type": "stream",
     "text": [
      "Production Qty Collect Result_Fill1\n",
      "0      0.714286\n",
      "1      0.428571\n",
      "2      0.470588\n",
      "3      0.473118\n",
      "4      0.350649\n",
      "         ...   \n",
      "465    0.000000\n",
      "468    0.000000\n",
      "470    1.000000\n",
      "485    1.000000\n",
      "487    1.000000\n",
      "Name: target, Length: 426, dtype: float64\n"
     ]
    }
   ],
   "source": [
    "#107. Production Qty Collect Result_Fill1\n",
    "target_ratio = df_concat.groupby(\"Production Qty Collect Result_Fill1\")[\"target\"].mean()\n",
    "print(target_ratio)"
   ]
  },
  {
   "cell_type": "code",
   "execution_count": 933,
   "metadata": {},
   "outputs": [
    {
     "name": "stdout",
     "output_type": "stream",
     "text": [
      "(3404, 110)\n"
     ]
    }
   ],
   "source": [
    "del df_concat[\"Production Qty Collect Result_Fill1\"]\n",
    "print(df_concat.shape)"
   ]
  },
  {
   "cell_type": "code",
   "execution_count": 934,
   "metadata": {},
   "outputs": [
    {
     "name": "stdout",
     "output_type": "stream",
     "text": [
      "Receip No Collect Result_Fill1\n",
      "0      0.714286\n",
      "1      0.547349\n",
      "2      1.000000\n",
      "3      0.333333\n",
      "4      0.750000\n",
      "         ...   \n",
      "591    0.000000\n",
      "596    0.000000\n",
      "597    0.000000\n",
      "599    0.000000\n",
      "608    0.000000\n",
      "Name: target, Length: 470, dtype: float64\n"
     ]
    }
   ],
   "source": [
    "# 108. Receip No Collect Result_Fill1\n",
    "target_ratio = df_concat.groupby(\"Receip No Collect Result_Fill1\")[\"target\"].mean()\n",
    "print(target_ratio)"
   ]
  },
  {
   "cell_type": "code",
   "execution_count": 935,
   "metadata": {},
   "outputs": [
    {
     "name": "stdout",
     "output_type": "stream",
     "text": [
      "(3404, 109)\n"
     ]
    }
   ],
   "source": [
    "del df_concat[\"Receip No Collect Result_Fill1\"]\n",
    "print(df_concat.shape)"
   ]
  },
  {
   "cell_type": "code",
   "execution_count": 936,
   "metadata": {},
   "outputs": [
    {
     "name": "stdout",
     "output_type": "stream",
     "text": [
      "WorkMode Collect Result_Fill1\n",
      "1    0.397645\n",
      "6    0.600000\n",
      "7    0.547187\n",
      "9    0.000000\n",
      "Name: target, dtype: float64\n"
     ]
    }
   ],
   "source": [
    "# 109WorkMode Collect Result_Fill1\n",
    "target_ratio = df_concat.groupby(\"WorkMode Collect Result_Fill1\")[\"target\"].mean()\n",
    "print(target_ratio)"
   ]
  },
  {
   "cell_type": "code",
   "execution_count": 937,
   "metadata": {},
   "outputs": [
    {
     "data": {
      "text/plain": [
       "WorkMode Collect Result_Fill1_weight\n",
       "0.547187    2204\n",
       "0.397645    1104\n",
       "0.600000      95\n",
       "0.000000       1\n",
       "Name: count, dtype: int64"
      ]
     },
     "execution_count": 937,
     "metadata": {},
     "output_type": "execute_result"
    }
   ],
   "source": [
    "df_concat[\"WorkMode Collect Result_Fill1_weight\"] = df_concat[\"WorkMode Collect Result_Fill1\"].map(target_ratio)\n",
    "df_concat[\"WorkMode Collect Result_Fill1_weight\"].value_counts()"
   ]
  },
  {
   "cell_type": "code",
   "execution_count": 938,
   "metadata": {},
   "outputs": [
    {
     "name": "stdout",
     "output_type": "stream",
     "text": [
      "(3404, 108)\n"
     ]
    }
   ],
   "source": [
    "del df_concat[\"WorkMode Collect Result_Fill1\"]\n",
    "del df_concat[\"WorkMode Collect Result_Fill1_weight\"]\n",
    "print(df_concat.shape)"
   ]
  },
  {
   "cell_type": "code",
   "execution_count": 939,
   "metadata": {},
   "outputs": [
    {
     "name": "stdout",
     "output_type": "stream",
     "text": [
      "Equipment_Fill2\n",
      "Fill2 dispenser #1    0.513102\n",
      "Fill2 dispenser #2    0.470135\n",
      "Name: target, dtype: float64\n"
     ]
    }
   ],
   "source": [
    "# 110. Equipment_Fill2\n",
    "target_ratio = df_concat.groupby(\"Equipment_Fill2\")[\"target\"].mean()\n",
    "print(target_ratio)"
   ]
  },
  {
   "cell_type": "code",
   "execution_count": 940,
   "metadata": {},
   "outputs": [
    {
     "data": {
      "text/plain": [
       "Equipment_Fill2_weight\n",
       "0.513102    2366\n",
       "0.470135    1038\n",
       "Name: count, dtype: int64"
      ]
     },
     "execution_count": 940,
     "metadata": {},
     "output_type": "execute_result"
    }
   ],
   "source": [
    "df_concat[\"Equipment_Fill2_weight\"] = df_concat[\"Equipment_Fill2\"].map(target_ratio)\n",
    "df_concat[\"Equipment_Fill2_weight\"].value_counts()"
   ]
  },
  {
   "cell_type": "code",
   "execution_count": 941,
   "metadata": {},
   "outputs": [
    {
     "data": {
      "text/plain": [
       "Equipment_Fill2_weight\n",
       "0.513102    10740\n",
       "0.470135     6621\n",
       "Name: count, dtype: int64"
      ]
     },
     "execution_count": 941,
     "metadata": {},
     "output_type": "execute_result"
    }
   ],
   "source": [
    "test_data[\"Equipment_Fill2_weight\"] = test_data[\"Equipment_Fill2\"].map(target_ratio)\n",
    "test_data[\"Equipment_Fill2_weight\"].value_counts()"
   ]
  },
  {
   "cell_type": "code",
   "execution_count": 942,
   "metadata": {},
   "outputs": [
    {
     "name": "stdout",
     "output_type": "stream",
     "text": [
      "0\n"
     ]
    }
   ],
   "source": [
    "print(test_data[\"Equipment_Fill2_weight\"].isnull().sum())"
   ]
  },
  {
   "cell_type": "code",
   "execution_count": 943,
   "metadata": {},
   "outputs": [
    {
     "name": "stdout",
     "output_type": "stream",
     "text": [
      "Model.Suffix_Fill2\n",
      "AJX75334501    0.497020\n",
      "AJX75334502    0.543909\n",
      "AJX75334503    0.000000\n",
      "AJX75334505    0.200000\n",
      "AJX75334507    0.444444\n",
      "AJX75334508    0.333333\n",
      "Name: target, dtype: float64\n"
     ]
    }
   ],
   "source": [
    "# 111. Model.Suffix_Fill2\n",
    "target_ratio = df_concat.groupby(\"Model.Suffix_Fill2\")[\"target\"].mean()\n",
    "print(target_ratio)"
   ]
  },
  {
   "cell_type": "code",
   "execution_count": 944,
   "metadata": {},
   "outputs": [
    {
     "name": "stdout",
     "output_type": "stream",
     "text": [
      "(3404, 108)\n"
     ]
    }
   ],
   "source": [
    "del df_concat[\"Model.Suffix_Fill2\"]\n",
    "print(df_concat.shape)"
   ]
  },
  {
   "cell_type": "code",
   "execution_count": 945,
   "metadata": {},
   "outputs": [
    {
     "name": "stdout",
     "output_type": "stream",
     "text": [
      "Workorder_Fill2\n",
      "3F1X5847-2    0.857143\n",
      "3F1X9643-1    0.500000\n",
      "3F1X9644-1    0.615385\n",
      "3F1X9648-1    0.555556\n",
      "3F1X9648-2    0.250000\n",
      "                ...   \n",
      "4E1X0057-1    0.400000\n",
      "4E1X9167-1    0.125000\n",
      "4E1X9168-1    0.500000\n",
      "4E1X9169-1    0.500000\n",
      "4E1X9170-1    0.600000\n",
      "Name: target, Length: 421, dtype: float64\n"
     ]
    }
   ],
   "source": [
    "# 112. Workorder_Fill2\n",
    "target_ratio = df_concat.groupby(\"Workorder_Fill2\")[\"target\"].mean()\n",
    "print(target_ratio)"
   ]
  },
  {
   "cell_type": "code",
   "execution_count": 946,
   "metadata": {},
   "outputs": [
    {
     "name": "stdout",
     "output_type": "stream",
     "text": [
      "(3404, 107)\n"
     ]
    }
   ],
   "source": [
    "del df_concat[\"Workorder_Fill2\"]\n",
    "print(df_concat.shape)"
   ]
  },
  {
   "cell_type": "code",
   "execution_count": 947,
   "metadata": {},
   "outputs": [
    {
     "name": "stdout",
     "output_type": "stream",
     "text": [
      "CURE END POSITION X Collect Result_Fill2\n",
      "240    0.5\n",
      "Name: target, dtype: float64\n"
     ]
    }
   ],
   "source": [
    "# 113. CURE END POSITION X Collect Result_Fill2\n",
    "target_ratio = df_concat.groupby(\"CURE END POSITION X Collect Result_Fill2\")[\"target\"].mean()\n",
    "print(target_ratio)"
   ]
  },
  {
   "cell_type": "code",
   "execution_count": 948,
   "metadata": {},
   "outputs": [
    {
     "name": "stdout",
     "output_type": "stream",
     "text": [
      "(3404, 106)\n"
     ]
    }
   ],
   "source": [
    "del df_concat[\"CURE END POSITION X Collect Result_Fill2\"]\n",
    "print(df_concat.shape)"
   ]
  },
  {
   "cell_type": "code",
   "execution_count": 949,
   "metadata": {},
   "outputs": [
    {
     "name": "stdout",
     "output_type": "stream",
     "text": [
      "CURE END POSITION Z Collect Result_Fill2\n",
      "22    1.000000\n",
      "32    0.592896\n",
      "33    0.455295\n",
      "Name: target, dtype: float64\n"
     ]
    }
   ],
   "source": [
    "# 114. CURE END POSITION Z Collect Result_Fill2\n",
    "target_ratio = df_concat.groupby(\"CURE END POSITION Z Collect Result_Fill2\")[\"target\"].mean()\n",
    "print(target_ratio)"
   ]
  },
  {
   "cell_type": "code",
   "execution_count": 950,
   "metadata": {},
   "outputs": [
    {
     "data": {
      "text/plain": [
       "CURE END POSITION Z Collect Result_Fill2_weight\n",
       "0.455295    2304\n",
       "0.592896    1098\n",
       "1.000000       2\n",
       "Name: count, dtype: int64"
      ]
     },
     "execution_count": 950,
     "metadata": {},
     "output_type": "execute_result"
    }
   ],
   "source": [
    "df_concat[\"CURE END POSITION Z Collect Result_Fill2_weight\"] = df_concat[\"CURE END POSITION Z Collect Result_Fill2\"].map(target_ratio)\n",
    "df_concat[\"CURE END POSITION Z Collect Result_Fill2_weight\"].value_counts()"
   ]
  },
  {
   "cell_type": "code",
   "execution_count": 951,
   "metadata": {},
   "outputs": [
    {
     "name": "stdout",
     "output_type": "stream",
     "text": [
      "(3404, 105)\n"
     ]
    }
   ],
   "source": [
    "del df_concat[\"CURE END POSITION Z Collect Result_Fill2\"]\n",
    "del df_concat[\"CURE END POSITION Z Collect Result_Fill2_weight\"]\n",
    "print(df_concat.shape)"
   ]
  },
  {
   "cell_type": "code",
   "execution_count": 952,
   "metadata": {},
   "outputs": [
    {
     "name": "stdout",
     "output_type": "stream",
     "text": [
      "CURE SPEED Collect Result_Fill2\n",
      "50    0.497131\n",
      "51    0.569231\n",
      "55    0.678571\n",
      "Name: target, dtype: float64\n"
     ]
    }
   ],
   "source": [
    "# 115. CURE SPEED Collect Result_Fill2\n",
    "target_ratio = df_concat.groupby(\"CURE SPEED Collect Result_Fill2\")[\"target\"].mean()\n",
    "print(target_ratio)"
   ]
  },
  {
   "cell_type": "code",
   "execution_count": 953,
   "metadata": {},
   "outputs": [
    {
     "data": {
      "text/plain": [
       "CURE SPEED Collect Result_Fill2_weight\n",
       "0.497131    3311\n",
       "0.569231      65\n",
       "0.678571      28\n",
       "Name: count, dtype: int64"
      ]
     },
     "execution_count": 953,
     "metadata": {},
     "output_type": "execute_result"
    }
   ],
   "source": [
    "df_concat[\"CURE SPEED Collect Result_Fill2_weight\"] = df_concat[\"CURE SPEED Collect Result_Fill2\"].map(target_ratio)\n",
    "df_concat[\"CURE SPEED Collect Result_Fill2_weight\"].value_counts()"
   ]
  },
  {
   "cell_type": "code",
   "execution_count": 954,
   "metadata": {},
   "outputs": [
    {
     "data": {
      "text/plain": [
       "CURE SPEED Collect Result_Fill2_weight\n",
       "0.497131    14853\n",
       "0.569231      191\n",
       "0.678571      149\n",
       "Name: count, dtype: int64"
      ]
     },
     "execution_count": 954,
     "metadata": {},
     "output_type": "execute_result"
    }
   ],
   "source": [
    "test_data[\"CURE SPEED Collect Result_Fill2_weight\"] = test_data[\"CURE SPEED Collect Result_Fill2\"].map(target_ratio)\n",
    "test_data[\"CURE SPEED Collect Result_Fill2_weight\"].value_counts()"
   ]
  },
  {
   "cell_type": "code",
   "execution_count": 955,
   "metadata": {},
   "outputs": [
    {
     "name": "stdout",
     "output_type": "stream",
     "text": [
      "2168\n"
     ]
    }
   ],
   "source": [
    "print(test_data[\"CURE SPEED Collect Result_Fill2_weight\"].isnull().sum())"
   ]
  },
  {
   "cell_type": "code",
   "execution_count": 956,
   "metadata": {},
   "outputs": [
    {
     "name": "stderr",
     "output_type": "stream",
     "text": [
      "C:\\Users\\hwnam\\AppData\\Local\\Temp\\ipykernel_21144\\671287795.py:3: FutureWarning: A value is trying to be set on a copy of a DataFrame or Series through chained assignment using an inplace method.\n",
      "The behavior will change in pandas 3.0. This inplace method will never work because the intermediate object on which we are setting values always behaves as a copy.\n",
      "\n",
      "For example, when doing 'df[col].method(value, inplace=True)', try using 'df.method({col: value}, inplace=True)' or df[col] = df[col].method(value) instead, to perform the operation inplace on the original object.\n",
      "\n",
      "\n",
      "  test_data[\"CURE SPEED Collect Result_Fill2_weight\"].fillna(mode_value, inplace=True)\n"
     ]
    }
   ],
   "source": [
    "# 최빈값으로 결측치 처리\n",
    "mode_value = test_data[\"CURE SPEED Collect Result_Fill2_weight\"].mode()[0]\n",
    "test_data[\"CURE SPEED Collect Result_Fill2_weight\"].fillna(mode_value, inplace=True)"
   ]
  },
  {
   "cell_type": "code",
   "execution_count": 957,
   "metadata": {},
   "outputs": [
    {
     "name": "stdout",
     "output_type": "stream",
     "text": [
      "CURE STANDBY POSITION Z Collect Result_Fill2\n",
      "22    0.563636\n",
      "23    0.550000\n",
      "32    0.568151\n",
      "33    0.478193\n",
      "Name: target, dtype: float64\n"
     ]
    }
   ],
   "source": [
    "# 116. CURE STANDBY POSITION Z Collect Result_Fill2\n",
    "target_ratio = df_concat.groupby(\"CURE STANDBY POSITION Z Collect Result_Fill2\")[\"target\"].mean()\n",
    "print(target_ratio)"
   ]
  },
  {
   "cell_type": "code",
   "execution_count": 958,
   "metadata": {},
   "outputs": [
    {
     "data": {
      "text/plain": [
       "CURE STANDBY POSITION Z Collect Result_Fill2_weight\n",
       "0.478193    2568\n",
       "0.568151     741\n",
       "0.563636      55\n",
       "0.550000      40\n",
       "Name: count, dtype: int64"
      ]
     },
     "execution_count": 958,
     "metadata": {},
     "output_type": "execute_result"
    }
   ],
   "source": [
    "df_concat[\"CURE STANDBY POSITION Z Collect Result_Fill2_weight\"] = df_concat[\"CURE STANDBY POSITION Z Collect Result_Fill2\"].map(target_ratio)\n",
    "df_concat[\"CURE STANDBY POSITION Z Collect Result_Fill2_weight\"].value_counts()"
   ]
  },
  {
   "cell_type": "code",
   "execution_count": 959,
   "metadata": {},
   "outputs": [
    {
     "data": {
      "text/plain": [
       "CURE STANDBY POSITION Z Collect Result_Fill2_weight\n",
       "0.478193    14889\n",
       "0.568151     2191\n",
       "0.563636      189\n",
       "0.550000       92\n",
       "Name: count, dtype: int64"
      ]
     },
     "execution_count": 959,
     "metadata": {},
     "output_type": "execute_result"
    }
   ],
   "source": [
    "test_data[\"CURE STANDBY POSITION Z Collect Result_Fill2_weight\"] = test_data[\"CURE STANDBY POSITION Z Collect Result_Fill2\"].map(target_ratio)\n",
    "test_data[\"CURE STANDBY POSITION Z Collect Result_Fill2_weight\"].value_counts()"
   ]
  },
  {
   "cell_type": "code",
   "execution_count": 960,
   "metadata": {},
   "outputs": [
    {
     "name": "stdout",
     "output_type": "stream",
     "text": [
      "0\n"
     ]
    }
   ],
   "source": [
    "print(test_data[\"CURE STANDBY POSITION Z Collect Result_Fill2_weight\"].isnull().sum())"
   ]
  },
  {
   "cell_type": "code",
   "execution_count": 961,
   "metadata": {},
   "outputs": [
    {
     "name": "stdout",
     "output_type": "stream",
     "text": [
      "CURE START POSITION X Collect Result_Fill2\n",
      "1020    0.5\n",
      "Name: target, dtype: float64\n"
     ]
    }
   ],
   "source": [
    "# 117. CURE START POSITION X Collect Result_Fill2\n",
    "target_ratio = df_concat.groupby(\"CURE START POSITION X Collect Result_Fill2\")[\"target\"].mean()\n",
    "print(target_ratio)"
   ]
  },
  {
   "cell_type": "code",
   "execution_count": 962,
   "metadata": {},
   "outputs": [
    {
     "name": "stdout",
     "output_type": "stream",
     "text": [
      "(3404, 106)\n"
     ]
    }
   ],
   "source": [
    "del df_concat[\"CURE START POSITION X Collect Result_Fill2\"]\n",
    "print(df_concat.shape)"
   ]
  },
  {
   "cell_type": "code",
   "execution_count": 963,
   "metadata": {},
   "outputs": [
    {
     "name": "stdout",
     "output_type": "stream",
     "text": [
      "CURE START POSITION Z Collect Result_Fill2\n",
      "22    0.563636\n",
      "23    0.550000\n",
      "32    0.568151\n",
      "33    0.478193\n",
      "Name: target, dtype: float64\n"
     ]
    }
   ],
   "source": [
    "#118. CURE START POSITION Z Collect Result_Fill2\n",
    "target_ratio = df_concat.groupby(\"CURE START POSITION Z Collect Result_Fill2\")[\"target\"].mean()\n",
    "print(target_ratio)"
   ]
  },
  {
   "cell_type": "code",
   "execution_count": 964,
   "metadata": {},
   "outputs": [
    {
     "name": "stdout",
     "output_type": "stream",
     "text": [
      "(3404, 105)\n"
     ]
    }
   ],
   "source": [
    "# 116번과 동일한 값이므로 삭제\n",
    "del df_concat[\"CURE START POSITION Z Collect Result_Fill2\"]\n",
    "print(df_concat.shape)"
   ]
  },
  {
   "cell_type": "code",
   "execution_count": 965,
   "metadata": {},
   "outputs": [
    {
     "name": "stdout",
     "output_type": "stream",
     "text": [
      "HEAD NORMAL COORDINATE X AXIS(Stage2) Collect Result_Fill2\n",
      "305.0    0.423588\n",
      "458.0    0.550339\n",
      "499.8    0.534404\n",
      "835.5    0.403010\n",
      "Name: target, dtype: float64\n"
     ]
    }
   ],
   "source": [
    "# 119. HEAD NORMAL COORDINATE X AXIS(Stage2) Collect Result_Fill2\n",
    "target_ratio = df_concat.groupby(\"HEAD NORMAL COORDINATE X AXIS(Stage2) Collect Result_Fill2\")[\"target\"].mean()\n",
    "print(target_ratio)"
   ]
  },
  {
   "cell_type": "code",
   "execution_count": 966,
   "metadata": {},
   "outputs": [
    {
     "data": {
      "text/plain": [
       "HEAD NORMAL COORDINATE X AXIS(Stage2) Collect Result_Fill2_weight\n",
       "0.550339    1768\n",
       "0.423588     602\n",
       "0.403010     598\n",
       "0.534404     436\n",
       "Name: count, dtype: int64"
      ]
     },
     "execution_count": 966,
     "metadata": {},
     "output_type": "execute_result"
    }
   ],
   "source": [
    "df_concat[\"HEAD NORMAL COORDINATE X AXIS(Stage2) Collect Result_Fill2_weight\"] = df_concat[\"HEAD NORMAL COORDINATE X AXIS(Stage2) Collect Result_Fill2\"].map(target_ratio)\n",
    "df_concat[\"HEAD NORMAL COORDINATE X AXIS(Stage2) Collect Result_Fill2_weight\"].value_counts()"
   ]
  },
  {
   "cell_type": "code",
   "execution_count": 967,
   "metadata": {},
   "outputs": [
    {
     "data": {
      "text/plain": [
       "HEAD NORMAL COORDINATE X AXIS(Stage2) Collect Result_Fill2_weight\n",
       "0.550339    5482\n",
       "0.403010    5258\n",
       "0.423588    4682\n",
       "0.534404    1530\n",
       "Name: count, dtype: int64"
      ]
     },
     "execution_count": 967,
     "metadata": {},
     "output_type": "execute_result"
    }
   ],
   "source": [
    "test_data[\"HEAD NORMAL COORDINATE X AXIS(Stage2) Collect Result_Fill2_weight\"] = test_data[\"HEAD NORMAL COORDINATE X AXIS(Stage2) Collect Result_Fill2\"].map(target_ratio)\n",
    "test_data[\"HEAD NORMAL COORDINATE X AXIS(Stage2) Collect Result_Fill2_weight\"].value_counts()"
   ]
  },
  {
   "cell_type": "code",
   "execution_count": 968,
   "metadata": {},
   "outputs": [
    {
     "name": "stdout",
     "output_type": "stream",
     "text": [
      "409\n"
     ]
    }
   ],
   "source": [
    "print(test_data[\"HEAD NORMAL COORDINATE X AXIS(Stage2) Collect Result_Fill2_weight\"].isnull().sum())"
   ]
  },
  {
   "cell_type": "code",
   "execution_count": 969,
   "metadata": {},
   "outputs": [
    {
     "name": "stderr",
     "output_type": "stream",
     "text": [
      "C:\\Users\\hwnam\\AppData\\Local\\Temp\\ipykernel_21144\\4034918527.py:2: FutureWarning: A value is trying to be set on a copy of a DataFrame or Series through chained assignment using an inplace method.\n",
      "The behavior will change in pandas 3.0. This inplace method will never work because the intermediate object on which we are setting values always behaves as a copy.\n",
      "\n",
      "For example, when doing 'df[col].method(value, inplace=True)', try using 'df.method({col: value}, inplace=True)' or df[col] = df[col].method(value) instead, to perform the operation inplace on the original object.\n",
      "\n",
      "\n",
      "  test_data[\"HEAD NORMAL COORDINATE X AXIS(Stage2) Collect Result_Fill2_weight\"].fillna(mean_value, inplace=True)\n"
     ]
    }
   ],
   "source": [
    "mean_value = test_data[\"HEAD NORMAL COORDINATE X AXIS(Stage2) Collect Result_Fill2_weight\"].mean()\n",
    "test_data[\"HEAD NORMAL COORDINATE X AXIS(Stage2) Collect Result_Fill2_weight\"].fillna(mean_value, inplace=True)"
   ]
  },
  {
   "cell_type": "code",
   "execution_count": 970,
   "metadata": {},
   "outputs": [
    {
     "name": "stdout",
     "output_type": "stream",
     "text": [
      "HEAD NORMAL COORDINATE X AXIS(Stage3) Collect Result_Fill2\n",
      "156.0    0.550339\n",
      "458.0    0.403010\n",
      "499.8    0.423588\n",
      "694.0    0.534404\n",
      "Name: target, dtype: float64\n"
     ]
    }
   ],
   "source": [
    "# 120. HEAD NORMAL COORDINATE X AXIS(Stage3) Collect Result_Fill\n",
    "target_ratio = df_concat.groupby(\"HEAD NORMAL COORDINATE X AXIS(Stage3) Collect Result_Fill2\")[\"target\"].mean()\n",
    "print(target_ratio)"
   ]
  },
  {
   "cell_type": "code",
   "execution_count": 971,
   "metadata": {},
   "outputs": [
    {
     "name": "stdout",
     "output_type": "stream",
     "text": [
      "(3404, 105)\n"
     ]
    }
   ],
   "source": [
    "# 119번과 동일한 값이므로 삭제\n",
    "del df_concat[\"HEAD NORMAL COORDINATE X AXIS(Stage3) Collect Result_Fill2\"]\n",
    "print(df_concat.shape)"
   ]
  },
  {
   "cell_type": "code",
   "execution_count": 972,
   "metadata": {},
   "outputs": [
    {
     "name": "stdout",
     "output_type": "stream",
     "text": [
      "HEAD NORMAL COORDINATE Y AXIS(Stage1) Collect Result_Fill2\n",
      "156.0     0.403010\n",
      "428.0     0.550339\n",
      "694.0     0.423588\n",
      "1324.2    0.534404\n",
      "Name: target, dtype: float64\n"
     ]
    }
   ],
   "source": [
    "# 121. HEAD NORMAL COORDINATE Y AXIS(Stage1) Collect Result_Fill2\n",
    "target_ratio = df_concat.groupby(\"HEAD NORMAL COORDINATE Y AXIS(Stage1) Collect Result_Fill2\")[\"target\"].mean()\n",
    "print(target_ratio)"
   ]
  },
  {
   "cell_type": "code",
   "execution_count": 973,
   "metadata": {},
   "outputs": [
    {
     "name": "stdout",
     "output_type": "stream",
     "text": [
      "(3404, 104)\n"
     ]
    }
   ],
   "source": [
    "# 119번과 동일한 값이므로 삭제\n",
    "del df_concat[\"HEAD NORMAL COORDINATE Y AXIS(Stage1) Collect Result_Fill2\"]\n",
    "print(df_concat.shape)"
   ]
  },
  {
   "cell_type": "code",
   "execution_count": 974,
   "metadata": {},
   "outputs": [
    {
     "name": "stdout",
     "output_type": "stream",
     "text": [
      "HEAD NORMAL COORDINATE Y AXIS(Stage2) Collect Result_Fill2\n",
      "427.9     0.550339\n",
      "428.0     0.403010\n",
      "1324.2    0.470135\n",
      "Name: target, dtype: float64\n"
     ]
    }
   ],
   "source": [
    "# 122. HEAD NORMAL COORDINATE Y AXIS(Stage2) Collect Result_Fill2\n",
    "target_ratio = df_concat.groupby(\"HEAD NORMAL COORDINATE Y AXIS(Stage2) Collect Result_Fill2\")[\"target\"].mean()\n",
    "print(target_ratio)"
   ]
  },
  {
   "cell_type": "code",
   "execution_count": 975,
   "metadata": {},
   "outputs": [
    {
     "data": {
      "text/plain": [
       "HEAD NORMAL COORDINATE Y AXIS(Stage2) Collect Result_Fill2_weight\n",
       "0.550339    1768\n",
       "0.470135    1038\n",
       "0.403010     598\n",
       "Name: count, dtype: int64"
      ]
     },
     "execution_count": 975,
     "metadata": {},
     "output_type": "execute_result"
    }
   ],
   "source": [
    "df_concat[\"HEAD NORMAL COORDINATE Y AXIS(Stage2) Collect Result_Fill2_weight\"] = df_concat[\"HEAD NORMAL COORDINATE Y AXIS(Stage2) Collect Result_Fill2\"].map(target_ratio)\n",
    "df_concat[\"HEAD NORMAL COORDINATE Y AXIS(Stage2) Collect Result_Fill2_weight\"].value_counts()"
   ]
  },
  {
   "cell_type": "code",
   "execution_count": 976,
   "metadata": {},
   "outputs": [
    {
     "data": {
      "text/plain": [
       "HEAD NORMAL COORDINATE Y AXIS(Stage2) Collect Result_Fill2_weight\n",
       "0.470135    6621\n",
       "0.550339    5482\n",
       "0.403010    5258\n",
       "Name: count, dtype: int64"
      ]
     },
     "execution_count": 976,
     "metadata": {},
     "output_type": "execute_result"
    }
   ],
   "source": [
    "test_data[\"HEAD NORMAL COORDINATE Y AXIS(Stage2) Collect Result_Fill2_weight\"] = test_data[\"HEAD NORMAL COORDINATE Y AXIS(Stage2) Collect Result_Fill2\"].map(target_ratio)\n",
    "test_data[\"HEAD NORMAL COORDINATE Y AXIS(Stage2) Collect Result_Fill2_weight\"].value_counts()"
   ]
  },
  {
   "cell_type": "code",
   "execution_count": 977,
   "metadata": {},
   "outputs": [
    {
     "name": "stdout",
     "output_type": "stream",
     "text": [
      "0\n"
     ]
    }
   ],
   "source": [
    "print(test_data[\"HEAD NORMAL COORDINATE Y AXIS(Stage2) Collect Result_Fill2_weight\"].isnull().sum())"
   ]
  },
  {
   "cell_type": "code",
   "execution_count": 978,
   "metadata": {},
   "outputs": [
    {
     "name": "stdout",
     "output_type": "stream",
     "text": [
      "HEAD NORMAL COORDINATE Y AXIS(Stage3) Collect Result_Fill2\n",
      "427.9     0.403010\n",
      "428.0     0.550339\n",
      "1324.2    0.470135\n",
      "Name: target, dtype: float64\n"
     ]
    }
   ],
   "source": [
    "#123. HEAD NORMAL COORDINATE Y AXIS(Stage3) Collect Result_Fill2\n",
    "target_ratio = df_concat.groupby(\"HEAD NORMAL COORDINATE Y AXIS(Stage3) Collect Result_Fill2\")[\"target\"].mean()\n",
    "print(target_ratio)"
   ]
  },
  {
   "cell_type": "code",
   "execution_count": 979,
   "metadata": {},
   "outputs": [
    {
     "name": "stdout",
     "output_type": "stream",
     "text": [
      "(3404, 104)\n"
     ]
    }
   ],
   "source": [
    "# 122번과 동일한 값이므로 삭제\n",
    "del df_concat[\"HEAD NORMAL COORDINATE Y AXIS(Stage3) Collect Result_Fill2\"]\n",
    "print(df_concat.shape)"
   ]
  },
  {
   "cell_type": "code",
   "execution_count": 980,
   "metadata": {},
   "outputs": [
    {
     "name": "stdout",
     "output_type": "stream",
     "text": [
      "HEAD NORMAL COORDINATE Z AXIS(Stage1) Collect Result_Fill2\n",
      "243.5     0.534404\n",
      "243.7     0.550339\n",
      "428.0     0.403010\n",
      "1324.2    0.423588\n",
      "Name: target, dtype: float64\n"
     ]
    }
   ],
   "source": [
    "# 124. HEAD NORMAL COORDINATE Z AXIS(Stage1) Collect Result_Fill2\n",
    "target_ratio = df_concat.groupby(\"HEAD NORMAL COORDINATE Z AXIS(Stage1) Collect Result_Fill2\")[\"target\"].mean()\n",
    "print(target_ratio)"
   ]
  },
  {
   "cell_type": "code",
   "execution_count": 981,
   "metadata": {},
   "outputs": [
    {
     "name": "stdout",
     "output_type": "stream",
     "text": [
      "(3404, 103)\n"
     ]
    }
   ],
   "source": [
    "# 119번과 동일한 값이므로 삭제\n",
    "del df_concat[\"HEAD NORMAL COORDINATE Z AXIS(Stage1) Collect Result_Fill2\"]\n",
    "print(df_concat.shape)"
   ]
  },
  {
   "cell_type": "code",
   "execution_count": 982,
   "metadata": {},
   "outputs": [
    {
     "name": "stdout",
     "output_type": "stream",
     "text": [
      "HEAD NORMAL COORDINATE Z AXIS(Stage2) Collect Result_Fill2\n",
      "243.5    0.470135\n",
      "243.7    0.513102\n",
      "Name: target, dtype: float64\n"
     ]
    }
   ],
   "source": [
    "# 125. HEAD NORMAL COORDINATE Z AXIS(Stage2) Collect Result_Fill2\n",
    "target_ratio = df_concat.groupby(\"HEAD NORMAL COORDINATE Z AXIS(Stage2) Collect Result_Fill2\")[\"target\"].mean()\n",
    "print(target_ratio)"
   ]
  },
  {
   "cell_type": "code",
   "execution_count": 983,
   "metadata": {},
   "outputs": [
    {
     "name": "stdout",
     "output_type": "stream",
     "text": [
      "(3404, 102)\n"
     ]
    }
   ],
   "source": [
    "del df_concat[\"HEAD NORMAL COORDINATE Z AXIS(Stage2) Collect Result_Fill2\"]\n",
    "print(df_concat.shape)"
   ]
  },
  {
   "cell_type": "code",
   "execution_count": 984,
   "metadata": {},
   "outputs": [
    {
     "name": "stdout",
     "output_type": "stream",
     "text": [
      "HEAD NORMAL COORDINATE Z AXIS(Stage3) Collect Result_Fill2\n",
      "243.5    0.470135\n",
      "243.7    0.513102\n",
      "Name: target, dtype: float64\n"
     ]
    }
   ],
   "source": [
    "# 126. HEAD NORMAL COORDINATE Z AXIS(Stage3) Collect Result_Fill\n",
    "target_ratio = df_concat.groupby(\"HEAD NORMAL COORDINATE Z AXIS(Stage3) Collect Result_Fill2\")[\"target\"].mean()\n",
    "print(target_ratio)"
   ]
  },
  {
   "cell_type": "code",
   "execution_count": 985,
   "metadata": {},
   "outputs": [
    {
     "name": "stdout",
     "output_type": "stream",
     "text": [
      "(3404, 101)\n"
     ]
    }
   ],
   "source": [
    "del df_concat[\"HEAD NORMAL COORDINATE Z AXIS(Stage3) Collect Result_Fill2\"]\n",
    "print(df_concat.shape)"
   ]
  },
  {
   "cell_type": "code",
   "execution_count": 986,
   "metadata": {},
   "outputs": [
    {
     "name": "stdout",
     "output_type": "stream",
     "text": [
      "HEAD Standby Position X Collect Result_Fill2\n",
      "243.5    0.423588\n",
      "243.7    0.403010\n",
      "270.0    0.547187\n",
      "Name: target, dtype: float64\n"
     ]
    }
   ],
   "source": [
    "# 127. HEAD Standby Position X Collect Result_Fill2\n",
    "target_ratio = df_concat.groupby(\"HEAD Standby Position X Collect Result_Fill2\")[\"target\"].mean()\n",
    "print(target_ratio)"
   ]
  },
  {
   "cell_type": "code",
   "execution_count": 987,
   "metadata": {},
   "outputs": [
    {
     "data": {
      "text/plain": [
       "HEAD Standby Position X Collect Result_Fill2_weight\n",
       "0.547187    2204\n",
       "0.423588     602\n",
       "0.403010     598\n",
       "Name: count, dtype: int64"
      ]
     },
     "execution_count": 987,
     "metadata": {},
     "output_type": "execute_result"
    }
   ],
   "source": [
    "df_concat[\"HEAD Standby Position X Collect Result_Fill2_weight\"] = df_concat[\"HEAD Standby Position X Collect Result_Fill2\"].map(target_ratio)\n",
    "df_concat[\"HEAD Standby Position X Collect Result_Fill2_weight\"].value_counts()"
   ]
  },
  {
   "cell_type": "code",
   "execution_count": 988,
   "metadata": {},
   "outputs": [
    {
     "data": {
      "text/plain": [
       "HEAD Standby Position X Collect Result_Fill2_weight\n",
       "0.547187    7012\n",
       "0.403010    5258\n",
       "0.423588    5091\n",
       "Name: count, dtype: int64"
      ]
     },
     "execution_count": 988,
     "metadata": {},
     "output_type": "execute_result"
    }
   ],
   "source": [
    "test_data[\"HEAD Standby Position X Collect Result_Fill2_weight\"] = test_data[\"HEAD Standby Position X Collect Result_Fill2\"].map(target_ratio)\n",
    "test_data[\"HEAD Standby Position X Collect Result_Fill2_weight\"].value_counts()"
   ]
  },
  {
   "cell_type": "code",
   "execution_count": 989,
   "metadata": {},
   "outputs": [
    {
     "name": "stdout",
     "output_type": "stream",
     "text": [
      "0\n"
     ]
    }
   ],
   "source": [
    "print(test_data[\"HEAD Standby Position X Collect Result_Fill2_weight\"].isnull().sum())"
   ]
  },
  {
   "cell_type": "code",
   "execution_count": 990,
   "metadata": {},
   "outputs": [
    {
     "name": "stdout",
     "output_type": "stream",
     "text": [
      "HEAD Standby Position Y Collect Result_Fill2\n",
      "50     0.547187\n",
      "270    0.413333\n",
      "Name: target, dtype: float64\n"
     ]
    }
   ],
   "source": [
    "# 128. HEAD Standby Position Y Collect Result_Fill2\n",
    "target_ratio = df_concat.groupby(\"HEAD Standby Position Y Collect Result_Fill2\")[\"target\"].mean()\n",
    "print(target_ratio)"
   ]
  },
  {
   "cell_type": "code",
   "execution_count": 991,
   "metadata": {},
   "outputs": [
    {
     "data": {
      "text/plain": [
       "HEAD Standby Position Y Collect Result_Fill2_weight\n",
       "0.547187    2204\n",
       "0.413333    1200\n",
       "Name: count, dtype: int64"
      ]
     },
     "execution_count": 991,
     "metadata": {},
     "output_type": "execute_result"
    }
   ],
   "source": [
    "df_concat[\"HEAD Standby Position Y Collect Result_Fill2_weight\"] = df_concat[\"HEAD Standby Position Y Collect Result_Fill2\"].map(target_ratio)\n",
    "df_concat[\"HEAD Standby Position Y Collect Result_Fill2_weight\"].value_counts()"
   ]
  },
  {
   "cell_type": "code",
   "execution_count": 992,
   "metadata": {},
   "outputs": [
    {
     "data": {
      "text/plain": [
       "HEAD Standby Position Y Collect Result_Fill2_weight\n",
       "0.413333    10349\n",
       "0.547187     7012\n",
       "Name: count, dtype: int64"
      ]
     },
     "execution_count": 992,
     "metadata": {},
     "output_type": "execute_result"
    }
   ],
   "source": [
    "test_data[\"HEAD Standby Position Y Collect Result_Fill2_weight\"] = test_data[\"HEAD Standby Position Y Collect Result_Fill2\"].map(target_ratio)\n",
    "test_data[\"HEAD Standby Position Y Collect Result_Fill2_weight\"].value_counts()"
   ]
  },
  {
   "cell_type": "code",
   "execution_count": 993,
   "metadata": {},
   "outputs": [
    {
     "name": "stdout",
     "output_type": "stream",
     "text": [
      "0\n"
     ]
    }
   ],
   "source": [
    "print(test_data[\"HEAD Standby Position Y Collect Result_Fill2_weight\"].isnull().sum())"
   ]
  },
  {
   "cell_type": "code",
   "execution_count": 994,
   "metadata": {},
   "outputs": [
    {
     "name": "stdout",
     "output_type": "stream",
     "text": [
      "HEAD Standby Position Z Collect Result_Fill2\n",
      "-10    0.547187\n",
      " 50    0.413333\n",
      "Name: target, dtype: float64\n"
     ]
    }
   ],
   "source": [
    "# 129. HEAD Standby Position Z Collect Result_Fill2\n",
    "target_ratio = df_concat.groupby(\"HEAD Standby Position Z Collect Result_Fill2\")[\"target\"].mean()\n",
    "print(target_ratio)"
   ]
  },
  {
   "cell_type": "code",
   "execution_count": 995,
   "metadata": {},
   "outputs": [
    {
     "name": "stdout",
     "output_type": "stream",
     "text": [
      "(3404, 102)\n"
     ]
    }
   ],
   "source": [
    "# 128번과 동일한 값이므로 삭제\n",
    "del df_concat[\"HEAD Standby Position Z Collect Result_Fill2\"]\n",
    "print(df_concat.shape)"
   ]
  },
  {
   "cell_type": "code",
   "execution_count": 996,
   "metadata": {},
   "outputs": [
    {
     "name": "stdout",
     "output_type": "stream",
     "text": [
      "Head Clean Position X Collect Result_Fill2\n",
      "-10     0.413333\n",
      " 119    0.547187\n",
      "Name: target, dtype: float64\n"
     ]
    }
   ],
   "source": [
    "# 130. Head Clean Position X Collect Result_Fill2\n",
    "target_ratio = df_concat.groupby(\"Head Clean Position X Collect Result_Fill2\")[\"target\"].mean()\n",
    "print(target_ratio)"
   ]
  },
  {
   "cell_type": "code",
   "execution_count": 997,
   "metadata": {},
   "outputs": [
    {
     "name": "stdout",
     "output_type": "stream",
     "text": [
      "(3404, 101)\n"
     ]
    }
   ],
   "source": [
    "# 128번과 동일한 값이므로 삭제\n",
    "del df_concat[\"Head Clean Position X Collect Result_Fill2\"]\n",
    "print(df_concat.shape)"
   ]
  },
  {
   "cell_type": "code",
   "execution_count": 998,
   "metadata": {},
   "outputs": [
    {
     "name": "stdout",
     "output_type": "stream",
     "text": [
      "Head Clean Position Y Collect Result_Fill2\n",
      "50     0.547187\n",
      "119    0.413333\n",
      "Name: target, dtype: float64\n"
     ]
    }
   ],
   "source": [
    "# 131. Head Clean Position Y Collect Result_Fill2\n",
    "target_ratio = df_concat.groupby(\"Head Clean Position Y Collect Result_Fill2\")[\"target\"].mean()\n",
    "print(target_ratio)"
   ]
  },
  {
   "cell_type": "code",
   "execution_count": 999,
   "metadata": {},
   "outputs": [
    {
     "name": "stdout",
     "output_type": "stream",
     "text": [
      "(3404, 100)\n"
     ]
    }
   ],
   "source": [
    "# 128번과 동일한 값이므로 삭제\n",
    "del df_concat[\"Head Clean Position Y Collect Result_Fill2\"]\n",
    "print(df_concat.shape)"
   ]
  },
  {
   "cell_type": "code",
   "execution_count": 1000,
   "metadata": {},
   "outputs": [
    {
     "name": "stdout",
     "output_type": "stream",
     "text": [
      "Head Clean Position Z Collect Result_Fill2\n",
      "50.0    0.413333\n",
      "91.8    0.547187\n",
      "Name: target, dtype: float64\n"
     ]
    }
   ],
   "source": [
    "# 132. Head Clean Position Z Collect Result\n",
    "target_ratio = df_concat.groupby(\"Head Clean Position Z Collect Result_Fill2\")[\"target\"].mean()\n",
    "print(target_ratio)"
   ]
  },
  {
   "cell_type": "code",
   "execution_count": 1001,
   "metadata": {},
   "outputs": [
    {
     "name": "stdout",
     "output_type": "stream",
     "text": [
      "(3404, 99)\n"
     ]
    }
   ],
   "source": [
    "# 128번과 동일한 값이므로 삭제\n",
    "del df_concat[\"Head Clean Position Z Collect Result_Fill2\"]\n",
    "print(df_concat.shape)"
   ]
  },
  {
   "cell_type": "code",
   "execution_count": 1002,
   "metadata": {},
   "outputs": [
    {
     "name": "stdout",
     "output_type": "stream",
     "text": [
      "Head Purge Position X Collect Result_Fill2\n",
      "91.8     0.413333\n",
      "270.0    0.547187\n",
      "Name: target, dtype: float64\n"
     ]
    }
   ],
   "source": [
    "# 133. Head Purge Position X Collect Result_Fill2\n",
    "target_ratio = df_concat.groupby(\"Head Purge Position X Collect Result_Fill2\")[\"target\"].mean()\n",
    "print(target_ratio)"
   ]
  },
  {
   "cell_type": "code",
   "execution_count": 1003,
   "metadata": {},
   "outputs": [
    {
     "name": "stdout",
     "output_type": "stream",
     "text": [
      "(3404, 98)\n"
     ]
    }
   ],
   "source": [
    "# 128번과 동일한 값이므로 삭제\n",
    "del df_concat[\"Head Purge Position X Collect Result_Fill2\"]\n",
    "print(df_concat.shape)"
   ]
  },
  {
   "cell_type": "code",
   "execution_count": 1004,
   "metadata": {},
   "outputs": [
    {
     "name": "stdout",
     "output_type": "stream",
     "text": [
      "Head Purge Position Y Collect Result_Fill2\n",
      "50     0.547187\n",
      "270    0.413333\n",
      "Name: target, dtype: float64\n"
     ]
    }
   ],
   "source": [
    "# 134. Head Purge Position Y Collect Result_Fill2\n",
    "target_ratio = df_concat.groupby(\"Head Purge Position Y Collect Result_Fill2\")[\"target\"].mean()\n",
    "print(target_ratio)"
   ]
  },
  {
   "cell_type": "code",
   "execution_count": 1005,
   "metadata": {},
   "outputs": [
    {
     "name": "stdout",
     "output_type": "stream",
     "text": [
      "(3404, 97)\n"
     ]
    }
   ],
   "source": [
    "# 128번과 동일한 값이므로 삭제\n",
    "del df_concat[\"Head Purge Position Y Collect Result_Fill2\"]\n",
    "print(df_concat.shape)"
   ]
  },
  {
   "cell_type": "code",
   "execution_count": 1006,
   "metadata": {},
   "outputs": [
    {
     "name": "stdout",
     "output_type": "stream",
     "text": [
      "Head Purge Position Z Collect Result_Fill2\n",
      "50    0.413333\n",
      "85    0.547187\n",
      "Name: target, dtype: float64\n"
     ]
    }
   ],
   "source": [
    "# 135. Head Purge Position Z Collect Result_Fill2\n",
    "target_ratio = df_concat.groupby(\"Head Purge Position Z Collect Result_Fill2\")[\"target\"].mean()\n",
    "print(target_ratio)"
   ]
  },
  {
   "cell_type": "code",
   "execution_count": 1007,
   "metadata": {},
   "outputs": [
    {
     "name": "stdout",
     "output_type": "stream",
     "text": [
      "(3404, 96)\n"
     ]
    }
   ],
   "source": [
    "# 128번과 동일한 값이므로 삭제\n",
    "del df_concat[\"Head Purge Position Z Collect Result_Fill2\"]\n",
    "print(df_concat.shape)"
   ]
  },
  {
   "cell_type": "code",
   "execution_count": 1008,
   "metadata": {},
   "outputs": [
    {
     "name": "stdout",
     "output_type": "stream",
     "text": [
      "Machine Tact time Collect Result_Fill2\n",
      "18.000     1.000000\n",
      "18.100     1.000000\n",
      "18.200     0.500000\n",
      "18.300     0.500000\n",
      "18.400     0.642857\n",
      "18.500     0.407407\n",
      "18.600     0.610169\n",
      "18.700     0.597561\n",
      "18.800     0.607477\n",
      "18.900     0.592000\n",
      "19.000     0.625850\n",
      "19.100     0.595745\n",
      "19.200     0.529412\n",
      "19.300     0.574074\n",
      "19.400     0.604317\n",
      "19.500     0.487179\n",
      "19.600     0.463277\n",
      "19.700     0.492958\n",
      "19.800     0.476821\n",
      "19.900     0.570248\n",
      "20.000     0.542553\n",
      "20.100     0.450704\n",
      "20.200     0.533333\n",
      "20.300     0.666667\n",
      "20.400     0.444444\n",
      "20.500     0.750000\n",
      "20.600     0.500000\n",
      "20.700     1.000000\n",
      "20.800     0.250000\n",
      "21.000     1.000000\n",
      "85.000     0.415596\n",
      "114.612    0.333333\n",
      "Name: target, dtype: float64\n"
     ]
    }
   ],
   "source": [
    "# 136. Machine Tact time Collect Result_Fill2\n",
    "target_ratio = df_concat.groupby(\"Machine Tact time Collect Result_Fill2\")[\"target\"].mean()\n",
    "print(target_ratio)"
   ]
  },
  {
   "cell_type": "code",
   "execution_count": 1009,
   "metadata": {},
   "outputs": [
    {
     "data": {
      "text/plain": [
       "Machine Tact time Collect Result_Fill2_weight\n",
       "0.415596    1167\n",
       "0.487179     195\n",
       "0.463277     177\n",
       "0.574074     162\n",
       "0.529412     153\n",
       "0.476821     151\n",
       "0.625850     147\n",
       "0.492958     142\n",
       "0.595745     141\n",
       "0.604317     139\n",
       "0.592000     125\n",
       "0.570248     121\n",
       "0.607477     107\n",
       "0.542553      94\n",
       "0.597561      82\n",
       "0.450704      71\n",
       "0.610169      59\n",
       "0.333333      33\n",
       "0.533333      30\n",
       "0.407407      27\n",
       "0.500000      20\n",
       "0.666667      18\n",
       "0.642857      14\n",
       "0.444444       9\n",
       "0.750000       8\n",
       "1.000000       8\n",
       "0.250000       4\n",
       "Name: count, dtype: int64"
      ]
     },
     "execution_count": 1009,
     "metadata": {},
     "output_type": "execute_result"
    }
   ],
   "source": [
    "df_concat[\"Machine Tact time Collect Result_Fill2_weight\"] = df_concat[\"Machine Tact time Collect Result_Fill2\"].map(target_ratio)\n",
    "df_concat[\"Machine Tact time Collect Result_Fill2_weight\"].value_counts()"
   ]
  },
  {
   "cell_type": "code",
   "execution_count": 1010,
   "metadata": {},
   "outputs": [
    {
     "data": {
      "text/plain": [
       "Machine Tact time Collect Result_Fill2_weight\n",
       "0.415596    8150\n",
       "0.333333    2199\n",
       "0.487179     592\n",
       "0.463277     572\n",
       "0.492958     533\n",
       "0.604317     527\n",
       "0.476821     519\n",
       "0.574074     512\n",
       "0.529412     486\n",
       "0.570248     423\n",
       "0.595745     409\n",
       "0.592000     356\n",
       "0.625850     350\n",
       "0.542553     344\n",
       "0.607477     304\n",
       "0.450704     245\n",
       "0.597561     236\n",
       "0.610169     160\n",
       "0.533333     109\n",
       "0.407407      80\n",
       "0.500000      57\n",
       "0.642857      44\n",
       "0.666667      42\n",
       "1.000000      31\n",
       "0.444444      30\n",
       "0.750000      21\n",
       "Name: count, dtype: int64"
      ]
     },
     "execution_count": 1010,
     "metadata": {},
     "output_type": "execute_result"
    }
   ],
   "source": [
    "test_data[\"Machine Tact time Collect Result_Fill2_weight\"] = test_data[\"Machine Tact time Collect Result_Fill2\"].map(target_ratio)\n",
    "test_data[\"Machine Tact time Collect Result_Fill2_weight\"].value_counts()"
   ]
  },
  {
   "cell_type": "code",
   "execution_count": 1011,
   "metadata": {},
   "outputs": [
    {
     "name": "stdout",
     "output_type": "stream",
     "text": [
      "30\n"
     ]
    }
   ],
   "source": [
    "print(test_data[\"Machine Tact time Collect Result_Fill2_weight\"].isnull().sum())"
   ]
  },
  {
   "cell_type": "code",
   "execution_count": 1012,
   "metadata": {},
   "outputs": [
    {
     "name": "stderr",
     "output_type": "stream",
     "text": [
      "C:\\Users\\hwnam\\AppData\\Local\\Temp\\ipykernel_21144\\555429360.py:3: FutureWarning: A value is trying to be set on a copy of a DataFrame or Series through chained assignment using an inplace method.\n",
      "The behavior will change in pandas 3.0. This inplace method will never work because the intermediate object on which we are setting values always behaves as a copy.\n",
      "\n",
      "For example, when doing 'df[col].method(value, inplace=True)', try using 'df.method({col: value}, inplace=True)' or df[col] = df[col].method(value) instead, to perform the operation inplace on the original object.\n",
      "\n",
      "\n",
      "  test_data[\"Machine Tact time Collect Result_Fill2_weight\"].fillna(mode_value, inplace=True)\n"
     ]
    }
   ],
   "source": [
    "# 최빈값으로 결측치 처리\n",
    "mode_value = test_data[\"Machine Tact time Collect Result_Fill2_weight\"].mode()[0]\n",
    "test_data[\"Machine Tact time Collect Result_Fill2_weight\"].fillna(mode_value, inplace=True)"
   ]
  },
  {
   "cell_type": "code",
   "execution_count": 1013,
   "metadata": {},
   "outputs": [
    {
     "name": "stdout",
     "output_type": "stream",
     "text": [
      "PalletID Collect Result_Fill2\n",
      "1.0     0.563725\n",
      "2.0     0.560669\n",
      "3.0     0.556522\n",
      "4.0     0.554502\n",
      "5.0     0.532110\n",
      "6.0     0.552036\n",
      "7.0     0.531401\n",
      "8.0     0.550420\n",
      "9.0     0.442308\n",
      "10.0    0.557377\n",
      "11.0    0.514286\n",
      "12.0    0.454545\n",
      "13.0    0.587302\n",
      "14.0    0.304348\n",
      "15.0    0.693548\n",
      "16.0    0.684211\n",
      "19.1    0.363636\n",
      "19.2    0.312500\n",
      "19.3    0.413793\n",
      "19.4    0.424658\n",
      "19.5    0.428571\n",
      "19.6    0.369863\n",
      "19.7    0.376623\n",
      "19.8    0.409396\n",
      "19.9    0.428571\n",
      "20.0    0.415730\n",
      "20.1    0.457831\n",
      "20.2    0.476923\n",
      "20.3    0.413793\n",
      "20.4    0.555556\n",
      "20.5    1.000000\n",
      "20.6    1.000000\n",
      "20.7    0.500000\n",
      "20.8    0.500000\n",
      "20.9    0.000000\n",
      "21.0    0.666667\n",
      "21.2    1.000000\n",
      "21.4    1.000000\n",
      "Name: target, dtype: float64\n"
     ]
    }
   ],
   "source": [
    "# 137 PalletID Collect Result_Fill2\n",
    "target_ratio = df_concat.groupby(\"PalletID Collect Result_Fill2\")[\"target\"].mean()\n",
    "print(target_ratio)"
   ]
  },
  {
   "cell_type": "code",
   "execution_count": 1014,
   "metadata": {},
   "outputs": [
    {
     "data": {
      "text/plain": [
       "PalletID Collect Result_Fill2_weight\n",
       "0.428571    273\n",
       "0.560669    239\n",
       "0.550420    238\n",
       "0.556522    230\n",
       "0.552036    221\n",
       "0.532110    218\n",
       "0.554502    211\n",
       "0.531401    207\n",
       "0.563725    204\n",
       "0.376623    154\n",
       "0.409396    149\n",
       "0.369863    146\n",
       "0.415730     89\n",
       "0.413793     87\n",
       "0.457831     83\n",
       "0.424658     73\n",
       "0.514286     70\n",
       "0.476923     65\n",
       "0.587302     63\n",
       "0.693548     62\n",
       "0.557377     61\n",
       "0.442308     52\n",
       "0.312500     48\n",
       "0.304348     46\n",
       "0.454545     44\n",
       "0.684211     38\n",
       "0.363636     11\n",
       "0.555556      9\n",
       "1.000000      5\n",
       "0.500000      4\n",
       "0.666667      3\n",
       "0.000000      1\n",
       "Name: count, dtype: int64"
      ]
     },
     "execution_count": 1014,
     "metadata": {},
     "output_type": "execute_result"
    }
   ],
   "source": [
    "df_concat[\"PalletID Collect Result_Fill2_weight\"] = df_concat[\"PalletID Collect Result_Fill2\"].map(target_ratio)\n",
    "df_concat[\"PalletID Collect Result_Fill2_weight\"].value_counts()"
   ]
  },
  {
   "cell_type": "code",
   "execution_count": 1015,
   "metadata": {},
   "outputs": [
    {
     "name": "stdout",
     "output_type": "stream",
     "text": [
      "(3404, 96)\n"
     ]
    }
   ],
   "source": [
    "del df_concat[\"PalletID Collect Result_Fill2\"]\n",
    "del df_concat[\"PalletID Collect Result_Fill2_weight\"]\n",
    "print(df_concat.shape)"
   ]
  },
  {
   "cell_type": "code",
   "execution_count": 1016,
   "metadata": {},
   "outputs": [
    {
     "name": "stdout",
     "output_type": "stream",
     "text": [
      "Production Qty Collect Result_Fill2\n",
      "0      0.714286\n",
      "1      0.428571\n",
      "2      0.465347\n",
      "3      0.467391\n",
      "4      0.350649\n",
      "         ...   \n",
      "465    0.000000\n",
      "468    0.000000\n",
      "470    1.000000\n",
      "485    1.000000\n",
      "487    1.000000\n",
      "Name: target, Length: 427, dtype: float64\n"
     ]
    }
   ],
   "source": [
    "# 138. Production Qty Collect Result_Fill2\n",
    "target_ratio = df_concat.groupby(\"Production Qty Collect Result_Fill2\")[\"target\"].mean()\n",
    "print(target_ratio)"
   ]
  },
  {
   "cell_type": "code",
   "execution_count": 1017,
   "metadata": {},
   "outputs": [
    {
     "name": "stdout",
     "output_type": "stream",
     "text": [
      "(3404, 95)\n"
     ]
    }
   ],
   "source": [
    "del df_concat[\"Production Qty Collect Result_Fill2\"]\n",
    "print(df_concat.shape)"
   ]
  },
  {
   "cell_type": "code",
   "execution_count": 1018,
   "metadata": {},
   "outputs": [
    {
     "name": "stdout",
     "output_type": "stream",
     "text": [
      "Receip No Collect Result_Fill2\n",
      "0      0.666667\n",
      "1      0.547349\n",
      "2      1.000000\n",
      "3      0.333333\n",
      "4      0.750000\n",
      "         ...   \n",
      "591    0.000000\n",
      "596    0.000000\n",
      "597    0.000000\n",
      "599    0.000000\n",
      "608    0.000000\n",
      "Name: target, Length: 470, dtype: float64\n"
     ]
    }
   ],
   "source": [
    "# 139. Receip No Collect Result_Fill2\n",
    "target_ratio = df_concat.groupby(\"Receip No Collect Result_Fill2\")[\"target\"].mean()\n",
    "print(target_ratio)"
   ]
  },
  {
   "cell_type": "code",
   "execution_count": 1019,
   "metadata": {},
   "outputs": [
    {
     "name": "stdout",
     "output_type": "stream",
     "text": [
      "(3404, 94)\n"
     ]
    }
   ],
   "source": [
    "del df_concat[\"Receip No Collect Result_Fill2\"]\n",
    "print(df_concat.shape)"
   ]
  },
  {
   "cell_type": "code",
   "execution_count": 1020,
   "metadata": {},
   "outputs": [
    {
     "name": "stdout",
     "output_type": "stream",
     "text": [
      "WorkMode Collect Result_Fill2\n",
      "0    0.547187\n",
      "1    0.397645\n",
      "6    0.600000\n",
      "9    0.000000\n",
      "Name: target, dtype: float64\n"
     ]
    }
   ],
   "source": [
    "# 140. WorkMode Collect Result_Fill2\n",
    "target_ratio = df_concat.groupby(\"WorkMode Collect Result_Fill2\")[\"target\"].mean()\n",
    "print(target_ratio)"
   ]
  },
  {
   "cell_type": "code",
   "execution_count": 1021,
   "metadata": {},
   "outputs": [
    {
     "data": {
      "text/plain": [
       "WorkMode Collect Result_Fill2_weight\n",
       "0.547187    2204\n",
       "0.397645    1104\n",
       "0.600000      95\n",
       "0.000000       1\n",
       "Name: count, dtype: int64"
      ]
     },
     "execution_count": 1021,
     "metadata": {},
     "output_type": "execute_result"
    }
   ],
   "source": [
    "df_concat[\"WorkMode Collect Result_Fill2_weight\"] = df_concat[\"WorkMode Collect Result_Fill2\"].map(target_ratio)\n",
    "df_concat[\"WorkMode Collect Result_Fill2_weight\"].value_counts()"
   ]
  },
  {
   "cell_type": "code",
   "execution_count": 1022,
   "metadata": {},
   "outputs": [
    {
     "name": "stdout",
     "output_type": "stream",
     "text": [
      "(3404, 93)\n"
     ]
    }
   ],
   "source": [
    "del df_concat[\"WorkMode Collect Result_Fill2\"]\n",
    "del df_concat[\"WorkMode Collect Result_Fill2_weight\"]\n",
    "print(df_concat.shape)"
   ]
  }
 ],
 "metadata": {
  "kernelspec": {
   "display_name": "base",
   "language": "python",
   "name": "python3"
  },
  "language_info": {
   "codemirror_mode": {
    "name": "ipython",
    "version": 3
   },
   "file_extension": ".py",
   "mimetype": "text/x-python",
   "name": "python",
   "nbconvert_exporter": "python",
   "pygments_lexer": "ipython3",
   "version": "3.12.4"
  }
 },
 "nbformat": 4,
 "nbformat_minor": 2
}
